{
 "cells": [
  {
   "cell_type": "markdown",
   "metadata": {},
   "source": [
    "# Predicting the electronic band gap of inorganic materials"
   ]
  },
  {
   "cell_type": "markdown",
   "metadata": {},
   "source": [
    "by: Alireza Faghaninia (alireza.faghaninia@gmail.com)\n",
    "\n",
    "data is from: https://pubs.acs.org/doi/10.1021/acs.jpclett.8b00124"
   ]
  },
  {
   "cell_type": "markdown",
   "metadata": {},
   "source": [
    "* This notebook is an example of matbench that provide material scientists with a set of tools to automate their predictive modeling and get a benchmarking score to evaluate their future models.\n",
    "* The input is only the chemical formulas! A single column used as the input of matbench workflow.\n",
    "* Using [matminer](https://github.com/hackingmaterials/matminer) we extract 192 features from the chemical formulas.\n",
    "* We then use principal component analysis (PCA) with 10 components as it improved the accuracy by reducing the noise in the features.\n",
    "* A two-stage model: due to the presence of metals (gap=0 eV) in the dataset, a classifier (metal or nonmetal) + a regressor works better than trying to predict the gap with a single regressor.\n"
   ]
  },
  {
   "cell_type": "code",
   "execution_count": 1,
   "metadata": {},
   "outputs": [
    {
     "data": {
      "text/html": [
       "<script>requirejs.config({paths: { 'plotly': ['https://cdn.plot.ly/plotly-latest.min']},});if(!window.Plotly) {{require(['plotly'],function(plotly) {window.Plotly=plotly;});}}</script>"
      ]
     },
     "metadata": {},
     "output_type": "execute_result"
    }
   ],
   "source": [
    "import matplotlib.pyplot as plt\n",
    "import numpy as np\n",
    "import os\n",
    "import pickle\n",
    "import pandas as pd\n",
    "import plotly as ply\n",
    "import seaborn as sns\n",
    "from matbench.analysis import Analysis\n",
    "\n",
    "%matplotlib inline\n",
    "ply.offline.init_notebook_mode(connected=True)\n",
    "sns.set()\n",
    "sns.set_context(\"poster\", font_scale=1.1)"
   ]
  },
  {
   "cell_type": "markdown",
   "metadata": {},
   "source": [
    "## All inputs:"
   ]
  },
  {
   "cell_type": "code",
   "execution_count": 2,
   "metadata": {
    "collapsed": true
   },
   "outputs": [],
   "source": [
    "# inputs\n",
    "TARGET = ('Input Data', 'gap expt')\n",
    "CALC_DIR = 'run_data'\n",
    "SEED = 13\n",
    "EXCLUDED_FEATURIZERS = ['CohesiveEnergy', \n",
    "                        'AtomicPackingEfficiency',\n",
    "                        'PartialRadialDistributionFunction',\n",
    "                        'RadialDistributionFunction',\n",
    "                        'CoulombMatrix',\n",
    "                        'SineCoulombMatrix',\n",
    "                        'OrbitalFieldMatrix',\n",
    "                        'MinimumRelativeDistances',\n",
    "                        'ElectronicRadialDistributionFunction']\n",
    "np.random.seed(SEED)\n",
    "NFOLD = 5 # for cross-validation"
   ]
  },
  {
   "cell_type": "markdown",
   "metadata": {},
   "source": [
    "## Read the data only containing chemical formula and experimentally measured band gap"
   ]
  },
  {
   "cell_type": "code",
   "execution_count": 3,
   "metadata": {},
   "outputs": [
    {
     "data": {
      "text/html": [
       "<div>\n",
       "<style scoped>\n",
       "    .dataframe tbody tr th:only-of-type {\n",
       "        vertical-align: middle;\n",
       "    }\n",
       "\n",
       "    .dataframe tbody tr th {\n",
       "        vertical-align: top;\n",
       "    }\n",
       "\n",
       "    .dataframe thead th {\n",
       "        text-align: right;\n",
       "    }\n",
       "</style>\n",
       "<table border=\"1\" class=\"dataframe\">\n",
       "  <thead>\n",
       "    <tr style=\"text-align: right;\">\n",
       "      <th></th>\n",
       "      <th>formula</th>\n",
       "      <th>gap expt</th>\n",
       "    </tr>\n",
       "  </thead>\n",
       "  <tbody>\n",
       "    <tr>\n",
       "      <th>0</th>\n",
       "      <td>Hg0.7Cd0.3Te</td>\n",
       "      <td>0.35</td>\n",
       "    </tr>\n",
       "    <tr>\n",
       "      <th>1</th>\n",
       "      <td>CuBr</td>\n",
       "      <td>3.08</td>\n",
       "    </tr>\n",
       "    <tr>\n",
       "      <th>2</th>\n",
       "      <td>LuP</td>\n",
       "      <td>1.30</td>\n",
       "    </tr>\n",
       "    <tr>\n",
       "      <th>3</th>\n",
       "      <td>Cu3SbSe4</td>\n",
       "      <td>0.40</td>\n",
       "    </tr>\n",
       "    <tr>\n",
       "      <th>4</th>\n",
       "      <td>ZnO</td>\n",
       "      <td>3.44</td>\n",
       "    </tr>\n",
       "  </tbody>\n",
       "</table>\n",
       "</div>"
      ],
      "text/plain": [
       "        formula  gap expt\n",
       "0  Hg0.7Cd0.3Te      0.35\n",
       "1          CuBr      3.08\n",
       "2           LuP      1.30\n",
       "3      Cu3SbSe4      0.40\n",
       "4           ZnO      3.44"
      ]
     },
     "execution_count": 3,
     "metadata": {},
     "output_type": "execute_result"
    }
   ],
   "source": [
    "from matbench.data.load import load_expt_gap\n",
    "# df_init = pd.read_csv('../data/sources/gap_expt.csv')\n",
    "df_init = load_expt_gap()\n",
    "df_init.head()"
   ]
  },
  {
   "cell_type": "markdown",
   "metadata": {},
   "source": [
    "## Feature generation: formula -> more than 320 features"
   ]
  },
  {
   "cell_type": "code",
   "execution_count": 4,
   "metadata": {
    "collapsed": true
   },
   "outputs": [],
   "source": [
    "from matbench.featurize import Featurize\n",
    "featzer = Featurize(exclude=EXCLUDED_FEATURIZERS,\n",
    "                    multiindex=True,\n",
    "                    drop_featurized_col=True,\n",
    "                    n_jobs=8)"
   ]
  },
  {
   "cell_type": "code",
   "execution_count": 5,
   "metadata": {
    "collapsed": true
   },
   "outputs": [],
   "source": [
    "df_featurized = featzer.featurize_formula(df_init, featurizers=\"all\")"
   ]
  },
  {
   "cell_type": "markdown",
   "metadata": {},
   "source": [
    "## Preprocessing (drop columns w/ more than 10% nulls + one-hot encoding of str columns)"
   ]
  },
  {
   "cell_type": "code",
   "execution_count": 6,
   "metadata": {},
   "outputs": [
    {
     "name": "stdout",
     "output_type": "stream",
     "text": [
      "2018-09-04 18:40:36 INFO     These 20 features were removed as they had more than 10.0% missing values:\n",
      "{('ElementProperty', 'std_dev bulk_modulus'), ('ElementProperty', 'minimum velocity_of_sound'), ('ElementProperty', 'mean bulk_modulus'), ('ElementProperty', 'maximum coefficient_of_linear_thermal_expansion'), ('ElementProperty', 'range coefficient_of_linear_thermal_expansion'), ('ElementProperty', 'maximum electrical_resistivity'), ('ElementProperty', 'minimum bulk_modulus'), ('ElementProperty', 'mean velocity_of_sound'), ('ElementProperty', 'std_dev electrical_resistivity'), ('ElementProperty', 'maximum velocity_of_sound'), ('ElementProperty', 'range electrical_resistivity'), ('ElementProperty', 'minimum coefficient_of_linear_thermal_expansion'), ('ElementProperty', 'range velocity_of_sound'), ('ElementProperty', 'mean electrical_resistivity'), ('ElementProperty', 'mean coefficient_of_linear_thermal_expansion'), ('ElementProperty', 'std_dev velocity_of_sound'), ('ElementProperty', 'range bulk_modulus'), ('ElementProperty', 'maximum bulk_modulus'), ('ElementProperty', 'minimum electrical_resistivity'), ('ElementProperty', 'std_dev coefficient_of_linear_thermal_expansion')}\n",
      "2018-09-04 18:40:36 INFO     These 8 features were removed due to cross correlation with the current features more than 0.95:\n",
      "[('BandCenter', 'band center'), ('ElementProperty', 'minimum mendeleev_no'), ('ElementProperty', 'range thermal_conductivity'), ('ElementProperty', 'std_dev thermal_conductivity'), ('Stoichiometry', '2-norm'), ('Stoichiometry', '10-norm'), ('Stoichiometry', '7-norm'), ('Stoichiometry', '5-norm')]\n"
     ]
    }
   ],
   "source": [
    "from matbench.preprocess import PreProcess\n",
    "prep = PreProcess(target=TARGET, max_colnull=0.1)\n",
    "df = prep.preprocess(df_featurized)"
   ]
  },
  {
   "cell_type": "code",
   "execution_count": 7,
   "metadata": {},
   "outputs": [
    {
     "data": {
      "text/html": [
       "<div>\n",
       "<style scoped>\n",
       "    .dataframe tbody tr th:only-of-type {\n",
       "        vertical-align: middle;\n",
       "    }\n",
       "\n",
       "    .dataframe tbody tr th {\n",
       "        vertical-align: top;\n",
       "    }\n",
       "\n",
       "    .dataframe thead th {\n",
       "        text-align: right;\n",
       "    }\n",
       "</style>\n",
       "<table border=\"1\" class=\"dataframe\">\n",
       "  <thead>\n",
       "    <tr style=\"text-align: right;\">\n",
       "      <th></th>\n",
       "      <th>(Input Data, gap expt)</th>\n",
       "      <th>(ElementProperty, minimum X)</th>\n",
       "      <th>(ElementProperty, maximum X)</th>\n",
       "      <th>(ElementProperty, range X)</th>\n",
       "      <th>(ElementProperty, mean X)</th>\n",
       "      <th>(ElementProperty, std_dev X)</th>\n",
       "      <th>(ElementProperty, minimum row)</th>\n",
       "      <th>(ElementProperty, maximum row)</th>\n",
       "      <th>(ElementProperty, range row)</th>\n",
       "      <th>(ElementProperty, mean row)</th>\n",
       "      <th>...</th>\n",
       "      <th>('AtomicOrbitals', 'LUMO_element')_Ti</th>\n",
       "      <th>('AtomicOrbitals', 'LUMO_element')_Tl</th>\n",
       "      <th>('AtomicOrbitals', 'LUMO_element')_Tm</th>\n",
       "      <th>('AtomicOrbitals', 'LUMO_element')_U</th>\n",
       "      <th>('AtomicOrbitals', 'LUMO_element')_V</th>\n",
       "      <th>('AtomicOrbitals', 'LUMO_element')_W</th>\n",
       "      <th>('AtomicOrbitals', 'LUMO_element')_Y</th>\n",
       "      <th>('AtomicOrbitals', 'LUMO_element')_Yb</th>\n",
       "      <th>('AtomicOrbitals', 'LUMO_element')_Zn</th>\n",
       "      <th>('AtomicOrbitals', 'LUMO_element')_Zr</th>\n",
       "    </tr>\n",
       "    <tr>\n",
       "      <th>(Input Data, formula)</th>\n",
       "      <th></th>\n",
       "      <th></th>\n",
       "      <th></th>\n",
       "      <th></th>\n",
       "      <th></th>\n",
       "      <th></th>\n",
       "      <th></th>\n",
       "      <th></th>\n",
       "      <th></th>\n",
       "      <th></th>\n",
       "      <th></th>\n",
       "      <th></th>\n",
       "      <th></th>\n",
       "      <th></th>\n",
       "      <th></th>\n",
       "      <th></th>\n",
       "      <th></th>\n",
       "      <th></th>\n",
       "      <th></th>\n",
       "      <th></th>\n",
       "      <th></th>\n",
       "    </tr>\n",
       "  </thead>\n",
       "  <tbody>\n",
       "    <tr>\n",
       "      <th>Hg0.7Cd0.3Te</th>\n",
       "      <td>0.35</td>\n",
       "      <td>1.69</td>\n",
       "      <td>2.10</td>\n",
       "      <td>0.41</td>\n",
       "      <td>2.00350</td>\n",
       "      <td>0.179083</td>\n",
       "      <td>5.0</td>\n",
       "      <td>6.0</td>\n",
       "      <td>1.0</td>\n",
       "      <td>5.350</td>\n",
       "      <td>...</td>\n",
       "      <td>0</td>\n",
       "      <td>0</td>\n",
       "      <td>0</td>\n",
       "      <td>0</td>\n",
       "      <td>0</td>\n",
       "      <td>0</td>\n",
       "      <td>0</td>\n",
       "      <td>0</td>\n",
       "      <td>0</td>\n",
       "      <td>0</td>\n",
       "    </tr>\n",
       "    <tr>\n",
       "      <th>CuBr</th>\n",
       "      <td>3.08</td>\n",
       "      <td>1.90</td>\n",
       "      <td>2.96</td>\n",
       "      <td>1.06</td>\n",
       "      <td>2.43000</td>\n",
       "      <td>0.749533</td>\n",
       "      <td>4.0</td>\n",
       "      <td>4.0</td>\n",
       "      <td>0.0</td>\n",
       "      <td>4.000</td>\n",
       "      <td>...</td>\n",
       "      <td>0</td>\n",
       "      <td>0</td>\n",
       "      <td>0</td>\n",
       "      <td>0</td>\n",
       "      <td>0</td>\n",
       "      <td>0</td>\n",
       "      <td>0</td>\n",
       "      <td>0</td>\n",
       "      <td>0</td>\n",
       "      <td>0</td>\n",
       "    </tr>\n",
       "    <tr>\n",
       "      <th>LuP</th>\n",
       "      <td>1.30</td>\n",
       "      <td>1.27</td>\n",
       "      <td>2.19</td>\n",
       "      <td>0.92</td>\n",
       "      <td>1.73000</td>\n",
       "      <td>0.650538</td>\n",
       "      <td>3.0</td>\n",
       "      <td>8.0</td>\n",
       "      <td>5.0</td>\n",
       "      <td>5.500</td>\n",
       "      <td>...</td>\n",
       "      <td>0</td>\n",
       "      <td>0</td>\n",
       "      <td>0</td>\n",
       "      <td>0</td>\n",
       "      <td>0</td>\n",
       "      <td>0</td>\n",
       "      <td>0</td>\n",
       "      <td>0</td>\n",
       "      <td>0</td>\n",
       "      <td>0</td>\n",
       "    </tr>\n",
       "    <tr>\n",
       "      <th>Cu3SbSe4</th>\n",
       "      <td>0.40</td>\n",
       "      <td>1.90</td>\n",
       "      <td>2.55</td>\n",
       "      <td>0.65</td>\n",
       "      <td>2.24375</td>\n",
       "      <td>0.401887</td>\n",
       "      <td>4.0</td>\n",
       "      <td>5.0</td>\n",
       "      <td>1.0</td>\n",
       "      <td>4.125</td>\n",
       "      <td>...</td>\n",
       "      <td>0</td>\n",
       "      <td>0</td>\n",
       "      <td>0</td>\n",
       "      <td>0</td>\n",
       "      <td>0</td>\n",
       "      <td>0</td>\n",
       "      <td>0</td>\n",
       "      <td>0</td>\n",
       "      <td>0</td>\n",
       "      <td>0</td>\n",
       "    </tr>\n",
       "    <tr>\n",
       "      <th>ZnO</th>\n",
       "      <td>3.44</td>\n",
       "      <td>1.65</td>\n",
       "      <td>3.44</td>\n",
       "      <td>1.79</td>\n",
       "      <td>2.54500</td>\n",
       "      <td>1.265721</td>\n",
       "      <td>2.0</td>\n",
       "      <td>4.0</td>\n",
       "      <td>2.0</td>\n",
       "      <td>3.000</td>\n",
       "      <td>...</td>\n",
       "      <td>0</td>\n",
       "      <td>0</td>\n",
       "      <td>0</td>\n",
       "      <td>0</td>\n",
       "      <td>0</td>\n",
       "      <td>0</td>\n",
       "      <td>0</td>\n",
       "      <td>0</td>\n",
       "      <td>1</td>\n",
       "      <td>0</td>\n",
       "    </tr>\n",
       "  </tbody>\n",
       "</table>\n",
       "<p>5 rows × 328 columns</p>\n",
       "</div>"
      ],
      "text/plain": [
       "                       (Input Data, gap expt)  (ElementProperty, minimum X)  \\\n",
       "(Input Data, formula)                                                         \n",
       "Hg0.7Cd0.3Te                             0.35                          1.69   \n",
       "CuBr                                     3.08                          1.90   \n",
       "LuP                                      1.30                          1.27   \n",
       "Cu3SbSe4                                 0.40                          1.90   \n",
       "ZnO                                      3.44                          1.65   \n",
       "\n",
       "                       (ElementProperty, maximum X)  \\\n",
       "(Input Data, formula)                                 \n",
       "Hg0.7Cd0.3Te                                   2.10   \n",
       "CuBr                                           2.96   \n",
       "LuP                                            2.19   \n",
       "Cu3SbSe4                                       2.55   \n",
       "ZnO                                            3.44   \n",
       "\n",
       "                       (ElementProperty, range X)  (ElementProperty, mean X)  \\\n",
       "(Input Data, formula)                                                          \n",
       "Hg0.7Cd0.3Te                                 0.41                    2.00350   \n",
       "CuBr                                         1.06                    2.43000   \n",
       "LuP                                          0.92                    1.73000   \n",
       "Cu3SbSe4                                     0.65                    2.24375   \n",
       "ZnO                                          1.79                    2.54500   \n",
       "\n",
       "                       (ElementProperty, std_dev X)  \\\n",
       "(Input Data, formula)                                 \n",
       "Hg0.7Cd0.3Te                               0.179083   \n",
       "CuBr                                       0.749533   \n",
       "LuP                                        0.650538   \n",
       "Cu3SbSe4                                   0.401887   \n",
       "ZnO                                        1.265721   \n",
       "\n",
       "                       (ElementProperty, minimum row)  \\\n",
       "(Input Data, formula)                                   \n",
       "Hg0.7Cd0.3Te                                      5.0   \n",
       "CuBr                                              4.0   \n",
       "LuP                                               3.0   \n",
       "Cu3SbSe4                                          4.0   \n",
       "ZnO                                               2.0   \n",
       "\n",
       "                       (ElementProperty, maximum row)  \\\n",
       "(Input Data, formula)                                   \n",
       "Hg0.7Cd0.3Te                                      6.0   \n",
       "CuBr                                              4.0   \n",
       "LuP                                               8.0   \n",
       "Cu3SbSe4                                          5.0   \n",
       "ZnO                                               4.0   \n",
       "\n",
       "                       (ElementProperty, range row)  \\\n",
       "(Input Data, formula)                                 \n",
       "Hg0.7Cd0.3Te                                    1.0   \n",
       "CuBr                                            0.0   \n",
       "LuP                                             5.0   \n",
       "Cu3SbSe4                                        1.0   \n",
       "ZnO                                             2.0   \n",
       "\n",
       "                       (ElementProperty, mean row)  \\\n",
       "(Input Data, formula)                                \n",
       "Hg0.7Cd0.3Te                                 5.350   \n",
       "CuBr                                         4.000   \n",
       "LuP                                          5.500   \n",
       "Cu3SbSe4                                     4.125   \n",
       "ZnO                                          3.000   \n",
       "\n",
       "                                       ...                    \\\n",
       "(Input Data, formula)                  ...                     \n",
       "Hg0.7Cd0.3Te                           ...                     \n",
       "CuBr                                   ...                     \n",
       "LuP                                    ...                     \n",
       "Cu3SbSe4                               ...                     \n",
       "ZnO                                    ...                     \n",
       "\n",
       "                       ('AtomicOrbitals', 'LUMO_element')_Ti  \\\n",
       "(Input Data, formula)                                          \n",
       "Hg0.7Cd0.3Te                                               0   \n",
       "CuBr                                                       0   \n",
       "LuP                                                        0   \n",
       "Cu3SbSe4                                                   0   \n",
       "ZnO                                                        0   \n",
       "\n",
       "                       ('AtomicOrbitals', 'LUMO_element')_Tl  \\\n",
       "(Input Data, formula)                                          \n",
       "Hg0.7Cd0.3Te                                               0   \n",
       "CuBr                                                       0   \n",
       "LuP                                                        0   \n",
       "Cu3SbSe4                                                   0   \n",
       "ZnO                                                        0   \n",
       "\n",
       "                       ('AtomicOrbitals', 'LUMO_element')_Tm  \\\n",
       "(Input Data, formula)                                          \n",
       "Hg0.7Cd0.3Te                                               0   \n",
       "CuBr                                                       0   \n",
       "LuP                                                        0   \n",
       "Cu3SbSe4                                                   0   \n",
       "ZnO                                                        0   \n",
       "\n",
       "                       ('AtomicOrbitals', 'LUMO_element')_U  \\\n",
       "(Input Data, formula)                                         \n",
       "Hg0.7Cd0.3Te                                              0   \n",
       "CuBr                                                      0   \n",
       "LuP                                                       0   \n",
       "Cu3SbSe4                                                  0   \n",
       "ZnO                                                       0   \n",
       "\n",
       "                       ('AtomicOrbitals', 'LUMO_element')_V  \\\n",
       "(Input Data, formula)                                         \n",
       "Hg0.7Cd0.3Te                                              0   \n",
       "CuBr                                                      0   \n",
       "LuP                                                       0   \n",
       "Cu3SbSe4                                                  0   \n",
       "ZnO                                                       0   \n",
       "\n",
       "                       ('AtomicOrbitals', 'LUMO_element')_W  \\\n",
       "(Input Data, formula)                                         \n",
       "Hg0.7Cd0.3Te                                              0   \n",
       "CuBr                                                      0   \n",
       "LuP                                                       0   \n",
       "Cu3SbSe4                                                  0   \n",
       "ZnO                                                       0   \n",
       "\n",
       "                       ('AtomicOrbitals', 'LUMO_element')_Y  \\\n",
       "(Input Data, formula)                                         \n",
       "Hg0.7Cd0.3Te                                              0   \n",
       "CuBr                                                      0   \n",
       "LuP                                                       0   \n",
       "Cu3SbSe4                                                  0   \n",
       "ZnO                                                       0   \n",
       "\n",
       "                       ('AtomicOrbitals', 'LUMO_element')_Yb  \\\n",
       "(Input Data, formula)                                          \n",
       "Hg0.7Cd0.3Te                                               0   \n",
       "CuBr                                                       0   \n",
       "LuP                                                        0   \n",
       "Cu3SbSe4                                                   0   \n",
       "ZnO                                                        0   \n",
       "\n",
       "                       ('AtomicOrbitals', 'LUMO_element')_Zn  \\\n",
       "(Input Data, formula)                                          \n",
       "Hg0.7Cd0.3Te                                               0   \n",
       "CuBr                                                       0   \n",
       "LuP                                                        0   \n",
       "Cu3SbSe4                                                   0   \n",
       "ZnO                                                        1   \n",
       "\n",
       "                       ('AtomicOrbitals', 'LUMO_element')_Zr  \n",
       "(Input Data, formula)                                         \n",
       "Hg0.7Cd0.3Te                                               0  \n",
       "CuBr                                                       0  \n",
       "LuP                                                        0  \n",
       "Cu3SbSe4                                                   0  \n",
       "ZnO                                                        0  \n",
       "\n",
       "[5 rows x 328 columns]"
      ]
     },
     "execution_count": 7,
     "metadata": {},
     "output_type": "execute_result"
    }
   ],
   "source": [
    "df.head()"
   ]
  },
  {
   "cell_type": "markdown",
   "metadata": {
    "collapsed": true
   },
   "source": [
    "## Data visualization (unbalanced, many metals (target=0))"
   ]
  },
  {
   "cell_type": "markdown",
   "metadata": {
    "collapsed": true
   },
   "source": [
    "Let's start by the distribution of the target:"
   ]
  },
  {
   "cell_type": "code",
   "execution_count": 8,
   "metadata": {},
   "outputs": [
    {
     "data": {
      "image/png": "[encoded data removed]",
      "text/plain": [
       "<Figure size 432x288 with 1 Axes>"
      ]
     },
     "metadata": {},
     "output_type": "display_data"
    }
   ],
   "source": [
    "ax = df[TARGET].hist(bins=20)\n",
    "ax.set_xlabel('Band gap (eV) - all');"
   ]
  },
  {
   "cell_type": "code",
   "execution_count": 9,
   "metadata": {},
   "outputs": [
    {
     "name": "stdout",
     "output_type": "stream",
     "text": [
      "39.30% of the compounds are metal (expt gap == 0 eV)\n"
     ]
    }
   ],
   "source": [
    "print('{:.2f}% of the compounds are metal (expt gap == 0 eV)'.format(sum(df[TARGET]==0)/len(df)*100))"
   ]
  },
  {
   "cell_type": "markdown",
   "metadata": {},
   "source": [
    "We note that it is very unbalanced with most of the target variable being close to 0 (metals). Metals have very different properties and chemistry than nonmetals (gap>0). We return to this point in the following sections."
   ]
  },
  {
   "cell_type": "code",
   "execution_count": 10,
   "metadata": {},
   "outputs": [
    {
     "data": {
      "image/png": "[encoded data removed]",
      "text/plain": [
       "<Figure size 432x288 with 1 Axes>"
      ]
     },
     "metadata": {},
     "output_type": "display_data"
    }
   ],
   "source": [
    "ax = df[TARGET][df[TARGET]>0.0].hist(bins=20)\n",
    "ax.set_xlabel('Band gap (eV) - nonmetals');"
   ]
  },
  {
   "cell_type": "markdown",
   "metadata": {},
   "source": [
    "Much better! Although, the high band-gap materials/insulators are still underrepresented."
   ]
  },
  {
   "cell_type": "markdown",
   "metadata": {},
   "source": [
    "## Further pre-processing of the data: standardization + PCA"
   ]
  },
  {
   "cell_type": "markdown",
   "metadata": {},
   "source": [
    "We generated more than 300 features some of which are highly cross-correlated and some may be just noise for this particular problem. I already tried training a random forest with a full feature set and the performance is much poorer than (RMSE difference of ~ 0.25 eV!). So, we proceed with standardization+PCA:"
   ]
  },
  {
   "cell_type": "code",
   "execution_count": 11,
   "metadata": {
    "collapsed": true
   },
   "outputs": [],
   "source": [
    "from sklearn.preprocessing import StandardScaler\n",
    "\n",
    "scaler = StandardScaler()\n",
    "df_scaled = scaler.fit_transform(df.drop(TARGET, axis=1))"
   ]
  },
  {
   "cell_type": "code",
   "execution_count": 12,
   "metadata": {
    "collapsed": true
   },
   "outputs": [],
   "source": [
    "from sklearn.decomposition import PCA\n",
    "N_COMPONENTS = 10\n",
    "pca = PCA(n_components=N_COMPONENTS)"
   ]
  },
  {
   "cell_type": "code",
   "execution_count": 13,
   "metadata": {
    "collapsed": true
   },
   "outputs": [],
   "source": [
    "df_pca = pca.fit_transform(df_scaled)\n",
    "df_pca = pd.DataFrame(df_pca, columns=['PCA{}'.format(i+1) for i in range(N_COMPONENTS)], index=df.index)"
   ]
  },
  {
   "cell_type": "code",
   "execution_count": 14,
   "metadata": {},
   "outputs": [
    {
     "data": {
      "text/html": [
       "<div>\n",
       "<style scoped>\n",
       "    .dataframe tbody tr th:only-of-type {\n",
       "        vertical-align: middle;\n",
       "    }\n",
       "\n",
       "    .dataframe tbody tr th {\n",
       "        vertical-align: top;\n",
       "    }\n",
       "\n",
       "    .dataframe thead th {\n",
       "        text-align: right;\n",
       "    }\n",
       "</style>\n",
       "<table border=\"1\" class=\"dataframe\">\n",
       "  <thead>\n",
       "    <tr style=\"text-align: right;\">\n",
       "      <th></th>\n",
       "      <th>PCA1</th>\n",
       "      <th>PCA2</th>\n",
       "      <th>PCA3</th>\n",
       "      <th>PCA4</th>\n",
       "      <th>PCA5</th>\n",
       "      <th>PCA6</th>\n",
       "      <th>PCA7</th>\n",
       "      <th>PCA8</th>\n",
       "      <th>PCA9</th>\n",
       "      <th>PCA10</th>\n",
       "    </tr>\n",
       "    <tr>\n",
       "      <th>(Input Data, formula)</th>\n",
       "      <th></th>\n",
       "      <th></th>\n",
       "      <th></th>\n",
       "      <th></th>\n",
       "      <th></th>\n",
       "      <th></th>\n",
       "      <th></th>\n",
       "      <th></th>\n",
       "      <th></th>\n",
       "      <th></th>\n",
       "    </tr>\n",
       "  </thead>\n",
       "  <tbody>\n",
       "    <tr>\n",
       "      <th>Hg0.7Cd0.3Te</th>\n",
       "      <td>5.345642</td>\n",
       "      <td>-2.340511</td>\n",
       "      <td>2.496895</td>\n",
       "      <td>-0.366101</td>\n",
       "      <td>-1.870263</td>\n",
       "      <td>0.135581</td>\n",
       "      <td>-1.454732</td>\n",
       "      <td>-0.074508</td>\n",
       "      <td>1.174569</td>\n",
       "      <td>1.994567</td>\n",
       "    </tr>\n",
       "    <tr>\n",
       "      <th>CuBr</th>\n",
       "      <td>2.305238</td>\n",
       "      <td>-1.036593</td>\n",
       "      <td>-5.239440</td>\n",
       "      <td>0.007534</td>\n",
       "      <td>-5.687478</td>\n",
       "      <td>1.904117</td>\n",
       "      <td>4.181306</td>\n",
       "      <td>1.195812</td>\n",
       "      <td>-1.568272</td>\n",
       "      <td>-0.648261</td>\n",
       "    </tr>\n",
       "    <tr>\n",
       "      <th>LuP</th>\n",
       "      <td>0.536487</td>\n",
       "      <td>2.833398</td>\n",
       "      <td>3.931115</td>\n",
       "      <td>-2.656278</td>\n",
       "      <td>1.121773</td>\n",
       "      <td>-2.569535</td>\n",
       "      <td>1.212774</td>\n",
       "      <td>0.264647</td>\n",
       "      <td>-2.871355</td>\n",
       "      <td>2.366970</td>\n",
       "    </tr>\n",
       "    <tr>\n",
       "      <th>Cu3SbSe4</th>\n",
       "      <td>2.787081</td>\n",
       "      <td>-0.658015</td>\n",
       "      <td>-4.391065</td>\n",
       "      <td>-0.802652</td>\n",
       "      <td>-5.120643</td>\n",
       "      <td>2.406673</td>\n",
       "      <td>2.875994</td>\n",
       "      <td>-1.591907</td>\n",
       "      <td>-1.207159</td>\n",
       "      <td>-0.433770</td>\n",
       "    </tr>\n",
       "    <tr>\n",
       "      <th>ZnO</th>\n",
       "      <td>-2.368389</td>\n",
       "      <td>-3.718579</td>\n",
       "      <td>-1.827168</td>\n",
       "      <td>-1.226492</td>\n",
       "      <td>0.221911</td>\n",
       "      <td>0.883704</td>\n",
       "      <td>1.703703</td>\n",
       "      <td>4.057939</td>\n",
       "      <td>2.562604</td>\n",
       "      <td>0.438240</td>\n",
       "    </tr>\n",
       "  </tbody>\n",
       "</table>\n",
       "</div>"
      ],
      "text/plain": [
       "                           PCA1      PCA2      PCA3      PCA4      PCA5  \\\n",
       "(Input Data, formula)                                                     \n",
       "Hg0.7Cd0.3Te           5.345642 -2.340511  2.496895 -0.366101 -1.870263   \n",
       "CuBr                   2.305238 -1.036593 -5.239440  0.007534 -5.687478   \n",
       "LuP                    0.536487  2.833398  3.931115 -2.656278  1.121773   \n",
       "Cu3SbSe4               2.787081 -0.658015 -4.391065 -0.802652 -5.120643   \n",
       "ZnO                   -2.368389 -3.718579 -1.827168 -1.226492  0.221911   \n",
       "\n",
       "                           PCA6      PCA7      PCA8      PCA9     PCA10  \n",
       "(Input Data, formula)                                                    \n",
       "Hg0.7Cd0.3Te           0.135581 -1.454732 -0.074508  1.174569  1.994567  \n",
       "CuBr                   1.904117  4.181306  1.195812 -1.568272 -0.648261  \n",
       "LuP                   -2.569535  1.212774  0.264647 -2.871355  2.366970  \n",
       "Cu3SbSe4               2.406673  2.875994 -1.591907 -1.207159 -0.433770  \n",
       "ZnO                    0.883704  1.703703  4.057939  2.562604  0.438240  "
      ]
     },
     "execution_count": 14,
     "metadata": {},
     "output_type": "execute_result"
    }
   ],
   "source": [
    "df_pca.head()"
   ]
  },
  {
   "cell_type": "code",
   "execution_count": 15,
   "metadata": {},
   "outputs": [
    {
     "data": {
      "image/png": "[encoded data removed]",
      "text/plain": [
       "<Figure size 432x288 with 1 Axes>"
      ]
     },
     "metadata": {},
     "output_type": "display_data"
    }
   ],
   "source": [
    "plt.bar(height=pca.explained_variance_, x=range(1, N_COMPONENTS+1));\n",
    "plt.ylabel('explained variance');\n",
    "plt.xlabel('PCA eigenvectors #');"
   ]
  },
  {
   "cell_type": "code",
   "execution_count": 16,
   "metadata": {
    "collapsed": true
   },
   "outputs": [],
   "source": [
    "# from matminer.figrecipes.plot import PlotlyFig\n",
    "\n",
    "# pf = PlotlyFig(df_pca, mode='notebook', margins=0, x_title='PCA1', y_title='PCA2')\n",
    "# pf.xy(('PCA1', 'PCA2'), labels=df.index, colors=df[TARGET])"
   ]
  },
  {
   "cell_type": "markdown",
   "metadata": {},
   "source": [
    "Looking at this plot we learn that the compounds don't particularly cluster based on the first 2 PCA directions. So, we need more than just 2 PCA features to model this data. Also, not even in terms of metal/nonmetal which may be one more reason to have separate classifier for metal/nonmetal."
   ]
  },
  {
   "cell_type": "markdown",
   "metadata": {},
   "source": [
    "# Training models"
   ]
  },
  {
   "cell_type": "code",
   "execution_count": 17,
   "metadata": {
    "collapsed": true
   },
   "outputs": [],
   "source": [
    "from sklearn.model_selection import RandomizedSearchCV, GridSearchCV\n",
    "from sklearn.ensemble import RandomForestRegressor\n",
    "from sklearn.metrics import r2_score\n",
    "rf_params_dict = {\n",
    "        'n_estimators': [100, 200, 400],\n",
    "        'max_features': np.arange(0.05, 1.01, 0.05),\n",
    "        'min_samples_split': range(2, 21),\n",
    "        'min_samples_leaf': range(1, 21),\n",
    "        'bootstrap': [True, False]\n",
    "    }"
   ]
  },
  {
   "cell_type": "code",
   "execution_count": 18,
   "metadata": {
    "collapsed": true
   },
   "outputs": [],
   "source": [
    "from sklearn.model_selection import train_test_split\n",
    "X_train, X_test, y_train, y_test = train_test_split(df_pca, df[TARGET], test_size=0.2, random_state=SEED)"
   ]
  },
  {
   "cell_type": "markdown",
   "metadata": {},
   "source": [
    "## 1) Single model on the mixed data (metals + nonmetals: higher RMSE)"
   ]
  },
  {
   "cell_type": "code",
   "execution_count": 19,
   "metadata": {
    "collapsed": true
   },
   "outputs": [],
   "source": [
    "model_reg1 = RandomizedSearchCV(estimator=RandomForestRegressor(), \n",
    "                           random_state=SEED,\n",
    "                           param_distributions=rf_params_dict,\n",
    "                           n_iter=15,\n",
    "                           scoring='neg_mean_squared_error',\n",
    "                           cv=5,\n",
    "                           verbose=1,\n",
    "                           n_jobs=-1)\n",
    "# with open(os.path.join(CALC_DIR, 'rf_mixed_optimized.pickle'), 'rb') as fm:\n",
    "#     model_reg1 = pickle.load(fm)"
   ]
  },
  {
   "cell_type": "code",
   "execution_count": 20,
   "metadata": {},
   "outputs": [
    {
     "name": "stdout",
     "output_type": "stream",
     "text": [
      "Fitting 5 folds for each of 15 candidates, totalling 75 fits\n"
     ]
    },
    {
     "name": "stderr",
     "output_type": "stream",
     "text": [
      "[Parallel(n_jobs=-1)]: Done  34 tasks      | elapsed:   21.6s\n",
      "[Parallel(n_jobs=-1)]: Done  75 out of  75 | elapsed:   44.3s finished\n"
     ]
    }
   ],
   "source": [
    "model_reg1.fit(X_train, y_train)\n",
    "with open(os.path.join(CALC_DIR, 'rf_mixed_optimized.pickle'), 'wb') as fm:\n",
    "    pickle.dump(model_reg1, fm)"
   ]
  },
  {
   "cell_type": "code",
   "execution_count": 21,
   "metadata": {},
   "outputs": [
    {
     "data": {
      "text/plain": [
       "-0.6930154361423736"
      ]
     },
     "execution_count": 21,
     "metadata": {},
     "output_type": "execute_result"
    }
   ],
   "source": [
    "model_reg1.score(X_test, y_test)"
   ]
  },
  {
   "cell_type": "code",
   "execution_count": 22,
   "metadata": {},
   "outputs": [
    {
     "data": {
      "text/plain": [
       "0.6950766268671557"
      ]
     },
     "execution_count": 22,
     "metadata": {},
     "output_type": "execute_result"
    }
   ],
   "source": [
    "y_pred = model_reg1.predict(X_test)\n",
    "r2_score(y_test, y_pred)"
   ]
  },
  {
   "cell_type": "code",
   "execution_count": 23,
   "metadata": {},
   "outputs": [
    {
     "data": {
      "text/plain": [
       "{'n_estimators': 200,\n",
       " 'min_samples_split': 17,\n",
       " 'min_samples_leaf': 1,\n",
       " 'max_features': 0.5,\n",
       " 'bootstrap': False}"
      ]
     },
     "execution_count": 23,
     "metadata": {},
     "output_type": "execute_result"
    }
   ],
   "source": [
    "model_reg1.best_params_"
   ]
  },
  {
   "cell_type": "code",
   "execution_count": 25,
   "metadata": {},
   "outputs": [
    {
     "name": "stdout",
     "output_type": "stream",
     "text": [
      "5-fold cross-validation scores for the basic model (metals+nonmentals)\n",
      "RMSE: 0.9001 +- 0.0649\n"
     ]
    }
   ],
   "source": [
    "from sklearn.model_selection import KFold, cross_val_score\n",
    "\n",
    "cv = KFold(n_splits=NFOLD, shuffle=False, random_state=SEED)\n",
    "model_cv = RandomForestRegressor(**model_reg1.best_params_, n_jobs=-1)\n",
    "\n",
    "rmse_scores = [np.sqrt(abs(score)) for score in cross_val_score(model_cv, df_pca, df[TARGET], scoring='neg_mean_squared_error', cv=cv)]\n",
    "print('{}-fold cross-validation scores for the basic model (metals+nonmentals)'.format(NFOLD))\n",
    "print('RMSE: {0:.4f} +- {1:.4f}'.format(np.mean(rmse_scores), np.std(rmse_scores)))"
   ]
  },
  {
   "cell_type": "code",
   "execution_count": 26,
   "metadata": {},
   "outputs": [
    {
     "name": "stderr",
     "output_type": "stream",
     "text": [
      "IOPub data rate exceeded.\n",
      "The notebook server will temporarily stop sending output\n",
      "to the client in order to avoid crashing it.\n",
      "To change this limit, set the config variable\n",
      "`--NotebookApp.iopub_data_rate_limit`.\n"
     ]
    },
    {
     "data": {
      "text/html": [
       "<div id=\"06d2f91d-e423-4414-b1cf-6dfa13d55b8a\" style=\"height: 525px; width: 100%;\" class=\"plotly-graph-div\"></div><script type=\"text/javascript\">require([\"plotly\"], function(Plotly) { window.PLOTLYENV=window.PLOTLYENV || {};window.PLOTLYENV.BASE_URL=\"https://plot.ly\";Plotly.newPlot(\"06d2f91d-e423-4414-b1cf-6dfa13d55b8a\", [{\"type\": \"scatter\", \"x\": [1.22, 2.07, 0.0, 6.89, 0.16, 2.56, 1.62, 0.0, 0.0, 2.41, 0.0, 1.1, 2.26, 0.5, 0.0, 1.9, 0.0, 0.66, 0.0, 0.0, 3.01, 0.0, 0.0, 0.0, 0.0, 4.37, 2.2, 1.2, 4.9, 0.0, 0.0, 1.89, 0.0, 0.81, 2.4, 1.35, 1.57, 0.7, 2.0, 0.64, 4.75, 2.59, 3.6, 0.0, 0.8, 0.0, 1.1, 0.0, 3.1, 0.0, 3.22, 0.0, 0.0, 1.27, 0.0, 0.0, 1.51, 2.98, 0.0, 1.3, 1.93, 1.84, 3.1, 2.07, 0.35, 3.54, 1.82, 0.0, 0.0, 0.0, 3.44, 1.57, 2.9, 0.0, 2.16, 2.7, 1.93, 0.0, 4.89, 0.0, 0.0, 0.0, 0.0, 0.0, 0.0, 0.0, 0.85, 1.2, 0.0, 2.21, 5.0, 1.3, 0.74, 5.4, 0.0, 0.92, 2.8, 0.0, 1.74, 0.0, 1.8, 1.4, 0.3, 3.71, 0.0, 0.0, 2.2, 0.0, 1.3, 3.2, 0.0, 0.0, 0.0, 4.28, 2.2, 0.0, 0.0, 2.3, 0.0, 0.0, 0.48, 1.39, 0.0, 3.2, 0.0, 0.0, 1.5, 0.0, 0.42, 0.0, 0.0, 0.0, 2.1, 0.7, 1.57, 2.77, 0.0, 3.0, 0.89, 0.0, 0.0, 0.0, 3.75, 3.63, 1.2, 3.58, 0.0, 2.41, 2.07, 1.07, 2.3, 0.0, 0.0, 2.3, 1.62, 0.0, 2.05, 0.0, 1.43, 0.8, 4.87, 2.56, 3.02, 0.0, 0.0, 0.0, 0.0, 2.68, 2.52, 1.45, 1.82, 1.95, 1.45, 1.2, 0.43, 0.0, 0.0, 0.0, 2.0, 0.0, 0.0, 2.43, 0.0, 0.0, 2.75, 0.0, 1.87, 0.0, 0.0, 0.8, 2.47, 1.37, 2.21, 0.0, 2.23, 0.0, 3.01, 0.0, 1.7, 0.0, 0.0, 0.0, 0.68, 0.0, 0.0, 0.0, 2.2, 1.56, 0.7, 1.55, 0.0, 1.85, 4.6, 0.0, 4.25, 0.0, 0.0, 0.0, 2.21, 0.0, 1.44, 0.02, 0.0, 1.89, 0.0, 2.04, 0.64, 0.0, 1.68, 2.68, 0.0, 1.83, 0.0, 2.09, 2.49, 0.0, 2.63, 3.06, 0.0, 0.0, 1.35, 2.3, 1.4, 0.0, 4.94, 0.0, 5.4, 0.0, 0.6, 0.0, 1.9, 0.0, 0.0, 0.0, 0.0, 3.4, 6.93, 2.01, 0.78, 0.0, 2.71, 0.0, 4.0, 0.0, 1.59, 2.16, 2.17, 0.28, 1.0, 0.0, 0.19, 0.23, 0.0, 1.37, 2.05, 7.3, 2.85, 2.2, 5.4, 0.2, 2.18, 0.34, 0.0, 3.3, 0.0, 0.0, 0.0, 0.0, 2.06, 1.9, 2.4, 0.0, 0.0, 2.04, 2.3, 2.34, 1.97, 3.23, 0.0, 0.0, 3.4, 0.22, 0.4, 1.07, 1.88, 0.55, 2.81, 5.55, 2.3, 2.6, 0.0, 1.6, 0.0, 0.46, 2.12, 1.7, 0.0, 3.39, 2.54, 0.0, 0.0, 0.0, 0.0, 3.31, 0.9, 2.03, 0.0, 2.27, 1.85, 0.0, 2.82, 1.59, 0.0, 0.0, 1.26, 0.0, 0.29, 0.0, 0.72, 0.0, 5.3, 2.11, 0.0, 1.67, 0.0, 0.0, 0.0, 0.47, 3.0, 0.0, 0.0, 0.0, 0.0, 0.0, 0.0, 4.84, 0.22, 0.0, 1.63, 2.58, 0.55, 1.61, 2.0, 2.2, 2.8, 1.3, 0.0, 2.73, 0.0, 0.0, 1.95, 0.0, 1.01, 2.07, 0.0, 0.0, 0.0, 0.4, 0.0, 0.0, 9.9, 0.0, 1.36, 0.0, 0.0, 1.3, 2.46, 1.7, 3.76, 4.77, 1.95, 0.0, 0.0, 2.26, 0.0, 0.0, 0.95, 0.0, 0.13, 1.02, 0.0, 1.63, 0.0, 2.92, 0.0, 0.0, 1.32, 5.76, 3.44, 0.0, 0.0, 3.03, 1.1, 2.4, 1.51, 0.11, 2.03, 3.0, 0.0, 0.0, 2.3, 2.93, 1.27, 0.32, 2.87, 1.5, 0.56, 0.3, 0.0, 3.03, 0.47, 0.0, 3.5, 2.52, 0.0, 0.0, 3.9, 0.0, 3.3, 0.88, 0.0, 4.42, 2.5, 0.0, 1.4, 2.02, 0.0, 0.0, 0.0, 0.0, 0.35, 2.14, 2.4, 0.0, 2.05, 0.0, 1.38, 0.4, 0.0, 1.82, 2.18, 1.25, 0.67, 0.0, 3.46, 0.44, 0.0, 1.47, 0.0, 2.85, 0.57, 0.0, 0.4, 3.5, 1.55, 1.8, 1.87, 0.0, 0.0, 1.9, 1.16, 0.0, 0.08, 0.0, 3.24, 0.0, 3.02, 2.24, 0.27, 0.8, 0.0, 0.0, 1.02, 0.0, 0.0, 0.0, 0.0, 2.2, 1.31, 1.85, 3.0, 3.09, 2.26, 0.0, 0.95, 6.53, 1.52, 0.45, 2.45, 0.0, 0.33, 1.0, 0.9, 1.28, 1.5, 1.9, 2.25, 2.1, 2.11, 1.8, 0.5, 2.03, 3.09, 0.0, 1.5, 1.43, 1.35, 0.0, 0.0, 0.0, 1.08, 0.0, 0.0, 7.2, 0.25, 3.68, 3.45, 0.0, 0.0, 0.9, 0.0, 2.93, 6.25, 0.0, 0.0, 0.0, 0.0, 3.8, 0.0, 5.03, 1.7, 3.75, 0.65, 0.0, 0.0, 1.4, 2.1, 1.5, 1.76, 0.0, 1.87, 1.16, 3.08, 1.42, 0.0, 2.6, 1.18, 0.8, 2.48, 0.0, 0.0, 1.96, 1.37, 2.14, 0.22, 0.13, 4.23, 0.0, 0.0, 0.0, 0.0, 6.36, 0.0, 0.0, 0.9, 1.44, 1.88, 0.0, 1.0, 1.1, 0.0, 0.0, 0.0, 0.0, 3.6, 0.36, 1.63, 1.81, 1.74, 0.0, 2.48, 0.0, 0.0, 0.0, 2.48, 0.0, 2.6, 0.0, 3.26, 3.37, 0.8, 0.13, 3.14, 0.0, 0.8, 0.0, 1.61, 2.48, 1.38, 0.0, 2.96, 5.13, 0.19, 0.34, 2.3, 0.6, 2.27, 1.64, 0.0, 0.0, 5.83, 0.0, 1.0, 3.26, 2.49, 2.86, 0.0, 0.0, 0.25, 2.3, 0.0, 0.0, 0.17, 3.12, 0.0, 2.91, 0.8, 0.81, 0.0, 0.0, 1.81, 0.2, 0.0, 2.1, 1.5, 0.0, 2.58, 3.54, 0.0, 6.53, 2.5, 3.2, 0.0, 0.0, 2.4, 0.24, 0.0, 3.06, 0.0, 1.2, 0.0, 0.0, 0.0, 0.8, 2.63, 2.2, 0.0, 1.65, 3.1, 0.72, 8.1, 2.44, 0.0, 0.0, 0.55, 2.52, 0.0, 0.0, 0.4, 3.3, 0.1, 1.05, 0.0, 2.4, 4.27, 1.18, 1.52, 1.54, 1.01, 0.0, 2.44, 0.0, 0.0, 0.7, 2.1, 0.0, 0.0, 2.61, 0.18, 0.0, 2.96, 0.0, 0.63, 0.0, 3.04, 0.25, 0.23, 6.53, 1.56, 0.88, 6.15, 0.3, 2.42, 2.35, 0.0, 1.9, 0.67, 1.5, 0.0, 0.41, 0.0, 1.51, 0.0, 1.86, 0.0, 0.0, 1.25, 1.83, 0.95, 0.0, 0.22, 0.0, 0.0, 0.0, 2.4, 0.0, 2.0, 1.72, 0.0, 3.97, 3.48, 0.0, 0.0, 2.64, 0.0, 1.4, 0.11, 0.0, 2.25, 2.05, 0.0, 3.0, 0.0, 1.72, 1.8, 0.0, 4.5, 0.0, 1.24, 0.41, 1.86, 0.0, 2.6, 1.48, 1.9, 2.0, 0.0, 0.0, 2.01, 0.0, 1.89, 1.59, 2.3, 0.26, 0.0, 0.0, 2.12, 0.0, 3.08, 3.76, 0.0, 0.0, 2.34, 1.2, 2.0, 4.0, 2.26, 2.52, 0.0, 0.75, 0.0, 0.0, 4.89, 0.0, 1.75, 0.44, 0.0, 2.22, 0.0, 0.0, 1.1, 0.0, 0.0, 0.0, 1.0, 2.56, 2.43, 0.0, 1.0, 3.63, 0.0, 1.2, 1.86, 0.0, 4.5, 0.0, 1.66, 1.89, 2.6, 1.07, 0.28, 0.0, 3.46, 2.31, 2.26, 1.0, 3.1, 0.44, 2.15, 0.0, 2.4, 0.0, 0.0, 0.0, 0.0, 1.73, 0.4, 0.0, 0.7, 2.01, 0.0, 0.0, 0.4, 1.02, 3.58, 0.6, 1.78, 3.44, 0.5, 3.0, 0.0, 0.0, 3.1, 1.08, 1.07, 2.7, 2.87, 0.0, 0.37, 2.0, 7.25, 0.0, 2.16, 6.89, 1.75, 2.47, 0.19, 2.0, 2.54, 0.51, 0.37, 0.0, 1.6, 0.0, 0.0, 2.8, 1.49, 3.3, 2.75, 3.94, 1.76, 0.5, 0.0, 0.0, 1.85, 0.0, 0.0, 5.38, 2.8, 1.35, 0.0, 0.0, 3.25, 0.0, 0.9, 0.0, 0.0, 3.73, 1.04, 0.0, 1.4, 1.1, 1.18, 2.7, 3.38, 0.66, 0.35, 0.0, 0.19, 0.0, 4.84, 0.0, 2.31, 2.04, 2.2, 0.0, 5.61, 3.6, 2.2, 0.0, 0.0, 0.9, 0.0, 0.0, 0.85, 0.12, 3.83, 0.39, 1.04, 0.0, 6.28, 3.02, 0.98, 1.6, 0.0, 0.35, 0.0, 0.0, 0.0, 0.0, 0.47, 0.35, 0.0, 0.75, 2.82, 1.7, 0.0, 0.17, 0.0, 0.0, 0.38, 2.58, 0.0, 0.5, 3.97, 1.17, 1.5, 0.14, 0.0, 1.1, 2.6, 1.89, 2.45, 1.76, 0.0, 1.2, 0.24, 4.4, 0.0, 1.6, 1.63, 2.4, 0.0, 0.0, 0.0, 4.75, 1.76, 0.0, 4.76, 0.0, 0.0, 3.8, 0.81, 0.0, 1.9, 1.2, 0.35, 0.0, 0.0, 0.5, 1.45, 0.0, 1.4, 3.35, 1.5, 0.31, 1.59, 2.03, 4.06, 3.78, 0.25, 1.45, 1.52, 2.7, 2.5, 0.0, 0.0, 1.02, 1.1, 0.0, 1.08, 0.31, 0.0, 0.0, 0.0, 2.65, 0.0, 0.0, 2.15, 2.07, 0.0, 0.69, 2.35, 2.3, 0.0, 1.1, 0.54, 2.72, 0.0, 0.0, 3.7, 0.89, 0.0, 0.0, 0.27, 2.92, 0.0, 2.0, 1.04, 0.0, 1.02, 3.5, 0.0, 0.96, 0.31, 1.12, 0.0, 1.88, 0.93, 1.09, 0.0, 1.95, 0.0, 1.29, 0.0, 10.5, 0.0, 0.0, 0.31, 2.1, 0.14, 0.0, 1.53, 1.7, 0.93, 1.47, 0.0, 0.0, 0.0, 0.0, 4.53, 0.34, 2.0, 2.4, 0.53, 0.0, 3.85, 0.0, 0.0, 0.0, 3.2, 0.0, 0.0, 2.23, 0.0, 2.0, 0.2, 0.0, 2.49, 0.0, 0.45, 3.1, 1.29, 1.92, 1.92, 1.87, 0.0, 3.26, 3.6, 3.38, 0.0, 0.84, 0.0, 2.19, 0.0, 0.4, 2.18, 0.0, 0.0, 1.28, 0.39, 0.53, 0.32, 1.46, 0.0, 0.5, 0.7, 2.57, 0.0, 3.1, 1.47, 0.0, 1.23, 2.5, 2.6, 2.8, 2.13, 0.0, 0.0, 0.0, 2.67, 1.15, 0.41, 0.43, 0.0, 0.99, 3.75, 3.4, 1.09, 0.0, 0.0, 0.0, 0.0, 1.2, 9.21, 1.92, 0.45, 0.0, 3.4, 0.0, 0.8, 0.4, 1.5, 0.88, 3.26, 3.1, 3.06, 0.0, 0.94, 0.0, 3.28, 0.65, 1.61, 0.24, 3.56, 0.56, 0.0, 0.28, 0.0, 1.5, 1.1, 1.0, 5.63, 0.46, 1.48, 2.79, 0.91, 1.6, 1.11, 0.0, 3.3, 0.58, 4.17, 0.0, 0.0, 0.82, 0.0, 3.76, 1.5, 0.0, 0.0, 0.0, 2.6, 0.8, 4.0, 0.0, 0.0, 1.1, 0.0, 1.0, 0.0, 0.92, 0.24, 0.0, 0.0, 0.0, 2.64, 3.67, 1.91, 0.0, 3.08, 4.15, 0.0, 0.1, 0.9, 0.35, 3.7, 1.42, 4.42, 0.0, 0.9, 1.75, 3.88, 6.08, 0.0, 1.12, 0.0, 0.3, 1.66, 0.95, 0.0, 1.71, 2.9, 0.3], \"y\": [1.128467079378956, 2.015974682539681, 0.2838093829781331, 5.048531092102347, 0.25835731684981667, 2.4104347826087036, 1.6942536897824374, 0.4770325583444332, 1.020384449647575, 2.434875927822178, 0.0644313113969364, 1.3642926050338564, 2.3093195833333415, 0.43938919968919943, 0.10915409632034638, 0.2052720716089467, 0.0006269230769230769, 0.6153601533189034, 0.05755478951603951, 2.2151248183066934, 2.434875927822178, 2.368251105561107, 0.04644587537462537, 1.2836587367493622, 0.0411243224136974, 3.832852861652234, 2.323495178848926, 1.0081971509046506, 2.7546144914113637, 0.008006750749250748, 0.0007824242424242423, 0.16767006257631256, 0.008739494047619048, 0.7586041071428562, 0.2826298007548009, 1.3823529411764657, 1.1939930830974577, 0.8214611376123883, 1.9165930316211566, 0.6811183302808304, 3.084621380425128, 0.9352906294400043, 3.058278407495286, 0.000455, 0.5077030155955161, 0.005702403846153847, 1.073311385142636, 0.22666266136641144, 2.9035378837828807, 1.0947943845043842, 2.3375009181790434, 0.22053038274225784, 0.794251266441891, 1.3823529411764657, 0.09753370088245092, 0.05756790875790876, 1.4776470588235298, 2.635751586746587, 0.22909959235209232, 0.11146795600233102, 0.6669315611471863, 1.50949207493895, 2.95268198162948, 1.8171248651348646, 0.3621206274281274, 2.4330519172494163, 0.9980026445082696, 3.076640943986572, 6.000998130133752, 0.06412357413419915, 3.198186554070929, 1.554351199356199, 2.100333877650127, 0.0, 1.1765173624292369, 2.752312735875235, 2.096315789473689, 0.001824242424242424, 4.549711579670328, 0.01573931297868798, 0.37966076978576985, 0.30139183455433455, 0.40096352633477605, 0.03212142857142858, 0.07123790251415248, 0.019215350690975692, 1.179169068015319, 0.6917224469280719, 0.015489702380952382, 2.2118198856005105, 2.7535999211899203, 1.077438409021534, 0.984762869144745, 1.1941035724691975, 0.2190630380730383, 0.7355115639915641, 1.6369103735847492, 0.33042105609668115, 1.6943780733155749, 0.6913455525724275, 1.7163264288489295, 1.518571127830502, 0.30349359161671674, 3.9797671634615357, 0.04158248980186479, 0.13631755265567772, 2.584047059190809, 0.5752375248362748, 0.6195939586108337, 3.4227777777777777, 0.07331635947385949, 0.10705311688311689, 1.358402685717061, 1.1549221496559, 2.661753546245423, 0.00423, 0.6021716691641695, 1.2088157514013764, 0.3239222295066043, 0.33301754460816974, 0.6830057533438786, 2.1312346756715503, 0.007395340909090909, 2.321892724844599, 0.25011558823121327, 1.1137597499722502, 1.680244314782439, 0.08284517066267066, 0.3988281250000006, 0.47215817141192157, 2.5570821314796324, 0.26070782294094796, 2.0214939699189705, 0.8201183608058602, 1.4803943692418686, 1.9445688811882564, 0.004848611111111111, 2.9106205966255967, 1.0538900111693872, 0.158582533091908, 1.2924295690420693, 0.1508139323870574, 3.2854967805805297, 2.2080996789321796, 2.004902528280898, 3.0740766567460303, 0.38620661310911275, 2.2842163235375716, 1.8559522423409933, 1.3930216609779114, 1.4865757919857927, 0.5678376352120101, 0.02464303571428571, 2.1305750156787653, 1.842471444527694, 0.0035190476190476187, 2.114039095765346, 2.5234657309357313, 1.3865617899461649, 1.0538900111693872, 2.7535999211899203, 2.498315060772562, 2.4082125544594293, 0.11315390970140969, 0.0020939285714285717, 0.05811705537518038, 0.00458, 2.761806684981684, 0.36481986173548664, 1.3372472817460317, 1.4970196846209367, 0.7551375177600176, 1.6718598151848156, 1.061827126484627, 0.8037095009851255, 0.45649791964979486, 0.01777751984126984, 0.48915712475024975, 0.3248100946969698, 0.2732364647158397, 0.6220717530386277, 1.948215492285492, 0.011457083333333335, 0.0010616666666666665, 2.2377836539155296, 1.2719259722222218, 1.5754532496669997, 2.9117904556554555, 0.9593938838938841, 0.4223791754773004, 2.3503450564713066, 1.360129040750917, 2.645297089438342, 0.39770912705350214, 1.4437876381257635, 0.0009871428571428572, 2.9530502632783837, 0.8889199637862143, 1.6465760488816736, 0.08874994123931623, 0.0016906060606060604, 0.6707803191946944, 0.7074066735347989, 0.14307115662115663, 0.7126370156926407, 0.026231674089799085, 2.123520409798534, 1.5487951488095222, 0.6101584866522368, 2.10725362463925, 1.0228219460400718, 1.9357132631951375, 4.208933093642466, 0.2733521563159063, 3.8058710200216446, 0.010806559065934068, 0.7491764345948164, 3.1182974995143753, 1.874476547688423, 0.011203755203130203, 1.4776470588235298, 0.14471008262570734, 0.10921816572316569, 2.2253073912198924, 0.025655773809523816, 2.096315789473689, 0.18777967046842053, 0.9110527362914869, 1.9791916947635702, 2.0576016538322786, 0.07342610285547786, 2.2603904384504387, 0.030223596611721602, 2.2118198856005105, 2.2842163235375716, 0.7152167990342987, 2.0088086800699294, 1.6568907192113438, 0.14454539072039072, 0.061783222680097706, 1.2587499999999974, 0.044648731476856496, 0.11455019244644246, 0.1913533378427129, 3.741396535686536, 0.20502152028527024, 3.593977665598288, 0.09885942064879563, 0.7910738670357412, 0.3812596538184041, 2.3353856787656784, 1.1327180185092693, 0.025258032106782107, 0.0, 0.0008, 3.1282756156343647, 7.141974706890329, 1.1505478955766466, 2.128459791874791, 0.6421912577700077, 1.8236668966450214, 0.3215280735236985, 2.4700241586191565, 0.0, 1.8139315165390173, 1.1152418870018872, 1.91364433420746, 0.5371357084582083, 0.9071951768370519, 0.25906821102508604, 0.28826726648351636, 0.415401987873238, 1.597460436507937, 0.9295151147463645, 1.9003890057858814, 5.273524272047397, 2.7194580278749085, 2.038803851495727, 4.25628508089133, 0.633098600288601, 2.3093195833333415, 0.28826726648351636, 0.000455, 2.9530502632783837, 1.8199144500638247, 0.015919783549783552, 0.22613502830502827, 0.02596321095571095, 2.6740635240453994, 2.42236776973027, 1.989512172659212, 0.2846957946914198, 0.049941807359307366, 1.5785040233377736, 2.3818335388222884, 2.054388576423577, 3.044198430805304, 3.0577004254079254, 0.024236625874125874, 0.0557463444888445, 3.3624846007464773, 0.15398724123099103, 0.4845642909867907, 0.9440074327755583, 2.0260356968031967, 0.48700078650516204, 2.761806684981684, 1.7633295559995568, 2.183729087648461, 2.55656978500666, 0.24242320755633265, 1.244502851315352, 0.03544515484515485, 0.5043555082417587, 1.848787634726385, 1.4967130994005982, 0.0037094119769119772, 0.5868346644327892, 2.3181299566405813, 0.0034000000000000002, 0.19474564948939949, 0.012893750000000002, 0.018896919191919194, 3.2549981707875393, 0.1559871188533688, 1.9959954036935286, 0.0, 0.29806106789044295, 1.1727147136197145, 0.2474369687950938, 1.9645003030996793, 1.5297221161477412, 0.5756924211205462, 0.20409151168276168, 1.2244420093795092, 0.34588009282384286, 0.3699482417582415, 0.1722095866633367, 0.7074066735347989, 0.00579266317016317, 4.351457975635472, 2.096315789473689, 0.008356060606060606, 1.533339893162394, 0.012448611111111112, 0.0, 0.433007957806083, 1.1116886464230213, 2.413947865120991, 0.028159672619047626, 0.7510637761544011, 1.8394064889971145, 0.01982295607170607, 0.014118274572649572, 0.0, 4.04407670697358, 0.2614958995865246, 0.1651475928932179, 1.6076619370906875, 2.530909090909087, 0.7577668863775116, 1.6943780733155749, 2.096315789473689, 2.163742421675545, 2.9035378837828807, 1.6933740158493455, 0.29621872377622366, 2.3283782723526474, 0.0, 0.9904955556943053, 1.3759314740814739, 0.06764305860805861, 0.936717527264402, 2.0206505475774232, 0.0, 0.02522572843822844, 1.2383692220279718, 0.4202363087606837, 0.23323560127372633, 0.17007952831890336, 0.2944931500444001, 0.0056325, 1.448487551892551, 2.8329647400516147, 1.5880714771339777, 1.2587499999999974, 2.3050198158785666, 1.625548788364413, 3.208837658660786, 3.942617395313018, 2.3300553062215554, 0.5767094936313686, 0.6864419742063492, 1.8563649159867908, 0.03256681436618936, 0.02838063908313908, 0.879668510656011, 0.005797817460317461, 0.04261601960539459, 0.1590217044760794, 0.31772583374958385, 2.056360724553224, 0.4070909106865356, 2.841199423354423, 0.04697368041680541, 0.3741780545843048, 1.3720083010739261, 4.916420405913533, 2.758992315254188, 1.1564864766483511, 1.9664144671994663, 1.9961021279415032, 1.150569381729382, 2.0330459804084797, 1.4776470588235298, 0.16777352140914634, 2.033979124556002, 1.4749627325452315, 0.750195259115884, 0.5753198864330117, 1.5384113346375852, 2.369849499389499, 1.5656583542152307, 0.22625054813242293, 3.7309801352813854, 1.8091177405233663, 0.8094891025641029, 0.2718917123154625, 0.0, 1.794501889013764, 1.120659636197136, 0.02710238095238095, 2.9374807227494752, 2.379788924592921, 1.770268330766455, 0.4538379331779334, 3.7057839445970706, 0.09114985084360085, 2.8911885307747793, 0.8647543293512052, 0.11970825084637583, 2.6474861129148626, 2.0598911045898536, 0.3439557787351539, 1.5116798654817407, 1.710517565698191, 0.18498167075979577, 2.556911163905538, 0.031925595238095246, 0.0009936126373626373, 0.2614958995865246, 2.066727168387168, 2.723925920260295, 0.009643750000000001, 2.2118198856005105, 0.0023880555555555556, 1.128467079378956, 0.5589956493506488, 0.03560756951381951, 1.8414999999999973, 1.844076879786881, 1.3823529411764657, 0.7974560160672661, 0.19363185314685313, 1.8514868992119002, 0.4456960580391828, 0.07967329573204575, 1.2050865387390388, 0.003, 2.9356244991119977, 0.8094891025641029, 0.1296624868881119, 0.34714729353979346, 3.372405794968919, 1.7671011648767903, 1.4498335042735042, 1.5754532496669997, 0.1453292284798534, 0.00033571428571428576, 1.7943485932817176, 1.2715805458430465, 0.0441412425074925, 0.07247262730325234, 0.01263809523809524, 2.4425669186369183, 0.15369090243090244, 2.9530502632783837, 2.033979124556002, 0.2125850595238096, 0.6328406972194466, 0.10494243346930848, 0.04995253787878788, 0.958354123654124, 0.03572872544122545, 0.005837820512820512, 0.41229394855144863, 1.3050135058691312, 2.0854398930236435, 2.9044414305833057, 1.7916061972055717, 0.9088371576340326, 2.6443490476190483, 2.0363177213758457, 0.0019463888888888892, 1.1974446658202902, 4.659004526168282, 1.4776470588235298, 0.9228590814740815, 2.2709761437173914, 0.006825, 0.45616840749528287, 0.7151195527389279, 1.2575069900932405, 1.3327025654206914, 1.305196293428793, 2.0206505475774232, 2.0465312688700177, 2.0465312688700177, 1.5739945565545557, 1.6375611705655466, 1.0125933675882939, 1.9489635982073494, 2.4209846873959378, 0.32540585012210016, 1.3971791177572432, 1.2114906827200582, 1.6281593210261966, 0.36190115322177824, 0.003607692307692308, 0.048984147935397945, 1.3589926962620718, 0.018947352092352092, 0.002900238095238095, 7.915082571525692, 0.27722349934787416, 3.6956249999999886, 3.4227777777777777, 0.09565670829170832, 0.2351091071428572, 0.3649528618603618, 0.03950397491397492, 2.703282676351426, 6.331626679570427, 0.0, 0.009643750000000001, 1.1843536378898885, 0.23132745268620267, 3.3882496212121187, 0.0017154761904761907, 4.634343034326779, 1.7600030300949059, 3.372405794968919, 0.73537765956266, 0.34837894092019084, 0.47550395451770455, 0.6761573470279723, 1.4292959446109454, 1.6044565200771448, 1.9346540367271607, 0.0019465001665001664, 2.3948998987817744, 1.5116798654817407, 2.5619596907259394, 2.068020810578311, 0.042594261363636365, 2.6004733343739566, 1.2674570968614736, 0.8396698760961256, 2.582426696911181, 0.0023536111111111114, 0.08051800851925855, 1.7237767549117555, 1.0684223562548572, 1.3744302129814625, 0.25835731684981667, 0.18220948253135746, 1.6651031572594062, 0.0010483630952380953, 0.4529737264124767, 0.6886207933732931, 0.0016, 6.331626679570427, 0.9287661303973803, 0.016071833721833722, 1.3303059459290711, 1.090793800158175, 2.070515668775669, 1.2879397089715838, 1.5587326474220224, 1.0159287042124545, 0.4902587995337997, 0.07095331182706181, 0.4011868684787434, 0.048932339466089464, 1.4647153801060064, 0.3988281250000006, 1.7134463499001011, 1.6605837635975127, 1.6943780733155749, 0.0, 2.341471182289932, 0.012989861111111112, 0.6829388035575539, 0.04231661088911088, 2.8209248509823515, 0.014066471861471861, 2.788613277763903, 0.6152591221972475, 2.5480240647546912, 1.4506387498612505, 0.6767485153735151, 0.9821889334276829, 3.0079298371073384, 0.07707934523809525, 0.6663182151182155, 0.0033895833333333334, 0.9229293407980904, 2.218175364080364, 1.6224153975191467, 0.00015333333333333334, 2.957897688422688, 2.0798491638916663, 0.28826726648351636, 0.35208666541791567, 2.2609322739760245, 1.4145040426240425, 1.8414999999999973, 1.6990726821789317, 1.9399923792873808, 0.059484440351315365, 6.331626679570427, 1.647780553335554, 1.4889269538794543, 1.8522211707736707, 1.3253647201409704, 2.9356244991119977, 0.3666032226800976, 0.14528377497502493, 0.005599732142857143, 2.552268573301698, 0.00188, 0.026064999999999994, 0.21291675012487501, 3.109797337939837, 0.0, 2.6120300380869126, 0.879668510656011, 0.7586041071428562, 0.015715367965367967, 0.004001964285714286, 1.7010887825369074, 0.29095332993395506, 0.10256222915972915, 1.6490896801809292, 1.834372308524809, 0.17911350233100237, 2.530909090909087, 1.9967276381951382, 0.0017950582750582752, 6.122674585692082, 1.765007085969586, 2.007541284132534, 0.1600702890859141, 0.05020813415750916, 2.217247243059228, 0.2125850595238096, 2.4409397894466647, 1.9784128338328337, 2.8029544866938614, 1.192042383866135, 0.11130943084693079, 0.1575740363109113, 0.0014961538461538465, 0.9225041101259851, 2.248422470515596, 2.096315789473689, 2.0108357832445334, 1.6995099900099904, 4.588177707015211, 0.6901346803890559, 7.786471863553113, 1.1757402781246538, 0.2938033757908757, 0.03850587995337995, 0.6060428004634256, 0.6129028853785105, 0.4353908561577313, 0.15633402028527027, 0.4268676535270288, 3.4267181168137433, 0.3653233168914421, 1.367458039391164, 0.0006381547619047619, 2.395694664363414, 3.7612837595043827, 1.0568805153180154, 1.4776470588235298, 1.6447517166860919, 0.879668510656011, 0.00029404761904761907, 2.530909090909087, 0.06153016206016205, 0.07661142267454767, 0.4548065143190134, 2.005855931650051, 0.4070909106865356, 0.21612078033078036, 2.2047267395798644, 0.2166320863858362, 0.006997069597069596, 2.39067371919747, 0.78506194493007, 0.7113122984654239, 0.0, 2.957311898171273, 0.2125850595238096, 1.9243284158925038, 6.083822145215893, 0.28137372703685204, 1.0538900111693872, 0.8177381382506386, 0.08366591429403927, 2.2203145235320236, 2.2246378728791085, 0.11084737998113005, 2.070515668775669, 0.905839353701854, 1.4534438967976469, 0.981361661949162, 0.3988281250000006, 0.057240859418359415, 1.4776470588235298, 0.0, 1.7404703413947176, 0.008075, 0.0227304662004662, 1.4610980723443219, 1.8414999999999973, 1.077438409021534, 0.0, 0.15398724123099103, 0.29210143113830606, 0.4753556021756021, 0.07953066135253636, 2.370938302253302, 1.5529418948412692, 2.0056276859945608, 1.7600030300949059, 0.021753593073593067, 3.170312109765232, 3.3882496212121187, 1.7020211605061604, 0.00064375, 1.3276934128371636, 0.24950561813186806, 1.1425776499888993, 0.09121951111388606, 0.09130770146520147, 2.250521370990121, 2.076918035714284, 0.35700895750083256, 3.3624846007464773, 0.41186315968753456, 1.5057608850177593, 1.7602185336885343, 0.09481055021367521, 3.0500965306915298, 0.1726619416000666, 1.1256697030747034, 0.3988281250000006, 1.8414999999999973, 0.14226004682817184, 0.39116594051781556, 1.582749221056721, 1.6998250278194036, 1.777394116785992, 0.07216200507825507, 2.7724651523476522, 1.1599669437506939, 0.0015, 1.6183881680125418, 1.6942536897824374, 2.0524458199439435, 0.38276065899378414, 0.006758636988011989, 0.0014199999999999998, 1.3652189963508716, 1.6393069096181596, 3.077870628607503, 3.6956249999999886, 1.7806412727550216, 0.021427947052947056, 2.239952163739038, 0.5674828760822513, 1.5057608850177593, 3.5158318262987, 2.0200612503468762, 2.6004733343739566, 0.015168573232323235, 0.7401661788211794, 0.08669443542568545, 0.12461906711344213, 2.8603602611971355, 0.18496943272005775, 1.554351199356199, 0.7427384437090683, 2.8178326433982686, 1.9210721416083905, 0.07578956043956045, 0.00026833333333333337, 1.128467079378956, 0.0, 0.06944986867299367, 0.013017393786768788, 0.850446366619492, 2.2914763425463427, 2.1865700615115555, 0.4123916024253525, 0.2898513363025863, 3.064405097957598, 0.02800927218614718, 1.4610980723443219, 2.0206505475774232, 0.03131103063603064, 1.1270242147435914, 1.321479875124875, 1.4296465499778006, 1.2110535931429687, 2.3466166403735156, 1.366631080655456, 0.2832873910117658, 0.11581141865079365, 3.372405794968919, 2.6637484351065597, 1.7881334404484408, 0.9575009288628042, 2.695367534826285, 0.36714476148851155, 2.00793175962926, 0.0874935585941836, 2.2025057717282714, 3.288773011224886, 0.004695684523809523, 0.4804628128121877, 0.19456313235375736, 1.7837083295177032, 0.07247262730325234, 3.432343305930179, 0.7869324684343434, 2.096315789473689, 0.01630655594405594, 0.03388315587190587, 0.0021669828782328784, 0.9675511201992459, 2.585065876484626, 0.11431598505661004, 1.6584575045787568, 3.3882496212121187, 0.6791563656482409, 1.9445590807109563, 0.28656843781218777, 0.0056075, 2.7474292613636364, 0.9700991723554238, 1.2239395992895998, 1.5572030405011663, 2.761806684981684, 0.0011624242424242424, 0.3546314817127317, 1.0752620387251646, 7.915082571525692, 0.021118939393939395, 2.02318539862915, 3.971842031024529, 1.4354017082223332, 2.208100467379842, 0.25413496003996, 0.8490110012210006, 2.723925920260295, 0.5007936767399263, 1.2780555764374517, 1.0425317114135877, 0.42946872724497726, 0.003647064393939394, 2.024507171162169, 2.5820768128399383, 1.5487951488095222, 2.7705216829004327, 2.3739478489565986, 3.689364750596626, 1.288915653374404, 0.5951501299395049, 0.005812500000000001, 0.4407494346625598, 1.121148983100233, 0.03884029761904762, 0.5868990457459209, 4.25628508089133, 1.735765441653937, 1.1939930830974577, 0.012544975579975581, 0.018177728937728937, 2.2320777020895775, 1.1145303748335003, 0.763437574231324, 0.35079253420190926, 0.15021682359307362, 3.6956249999999886, 1.3842021449383952, 0.02812247252747253, 1.440555397519147, 0.6366256127206128, 1.2587499999999974, 1.6289892876567884, 1.9575662551337547, 0.4708959588328341, 0.9156828238428238, 0.9323970870795875, 0.2614958995865246, 0.13889840992340993, 1.2206231596875354, 0.0017574206349206352, 1.065587329406704, 2.24946014589577, 1.514339441893891, 0.003663571428571429, 6.162008274087026, 2.3686226173826173, 2.140539016539016, 1.9065315522671773, 0.008359236596736595, 0.9897729551698298, 0.07197142149517145, 0.018324882825507826, 1.635890114542321, 0.3546304815323565, 3.415658448218449, 1.410788058677433, 0.12115007638195134, 5.0474033625402415, 6.162008274087026, 1.8327858846708842, 1.5167373577811079, 1.7609232316988566, 1.2007204277993246, 0.3988281250000006, 0.5895651609501611, 0.010135996711621712, 0.07562045197857699, 0.07215840513653013, 0.6952064604145857, 0.31648927544677546, 0.01668480311355311, 0.9814881646825401, 2.761806684981684, 2.1906062613081367, 0.006137534132534133, 0.14385333666333636, 0.5405248234404487, 0.17560375971250966, 1.2721500643106893, 2.1633134539765795, 0.007934166666666666, 1.0822877042402044, 2.6626706806388047, 0.9602429197191701, 1.6899910797535802, 0.2560810896048395, 0.0005538461538461539, 1.3136359977522476, 2.323495178848926, 2.4368866023559774, 2.5346652530802536, 1.5399669261002162, 0.025598484848484846, 1.005306882076256, 0.2125850595238096, 2.989600682720058, 0.7696300223387729, 2.3300553062215554, 1.7600030300949059, 2.2648516156066143, 0.004050000000000001, 0.08181255952380953, 0.010235042735042735, 3.103540504634255, 1.8695797239565994, 0.32032731629481626, 3.7162182237207224, 0.02890149017649018, 0.0038301136363636363, 2.9374807227494752, 0.7586041071428562, 0.19331662788600273, 0.3405058784271286, 1.494925410284161, 0.5787655524336778, 0.19091757929570427, 0.3836531621156622, 0.4708959588328341, 1.2039304533660786, 0.19163021249583753, 1.10615201402764, 3.4227777777777777, 1.3136359977522476, 0.2614958995865246, 1.5792981015913907, 1.848787634726385, 2.843792872266621, 3.6956249999999886, 0.28826726648351636, 1.8862253988372735, 1.4776470588235298, 2.1476155137917625, 2.5346652530802536, 0.6616371071983571, 0.018834910714285714, 1.120102825785326, 1.3971791177572432, 0.0018497619047619048, 1.1248579477466982, 1.7814207220557217, 0.18561215277777776, 2.439588165931292, 0.11987387432012428, 2.5997996219058734, 2.122113120143745, 0.0018787878787878787, 1.648290691530693, 2.096315789473689, 0.13157158868908872, 0.8610447089715852, 1.8377797612110107, 1.43187212065712, 3.7280255474386688, 1.0707323120588566, 0.5043555082417587, 2.4173194175269175, 0.31484289897602397, 0.0018347619047619048, 2.538724188866689, 1.1656041450910184, 1.1661979755661012, 0.19986625000000002, 0.2510653556859806, 2.7879159616078355, 0.4630779256160508, 2.0799646520146506, 1.0081971509046506, 1.626223033841159, 1.0999233618464865, 3.3882496212121187, 0.0001, 0.850446366619492, 0.28826726648351636, 1.2587499999999974, 0.19333338369963368, 1.6447517166860919, 0.12564430000555002, 0.7699376156482404, 0.0, 1.9471021642940398, 0.0015533333333333332, 1.3136359977522476, 0.014783250915750914, 10.077838157328769, 0.11660365148740148, 0.15540287164224664, 0.3699482417582415, 2.3093195833333415, 0.18138253191253192, 0.07844344391719392, 1.3973220704989455, 1.652320476190479, 0.850446366619492, 1.5356801959845705, 0.01731176698301698, 0.09503135961260961, 0.6280666014541018, 0.976738035922411, 3.495372894605393, 0.24881914592352117, 2.083619142593517, 2.4446388592657353, 0.2560810896048395, 0.0, 1.9280566872710623, 0.003466666666666667, 0.01016736013986014, 0.5155133041958042, 3.0266934643134675, 1.1501780307192808, 0.0017628282828282833, 2.1046502294927287, 1.125827783327783, 2.2278643088855588, 0.04261601960539459, 0.0, 2.272338814588191, 0.0, 1.034933042304918, 2.644794588952714, 1.4189972345016089, 1.6855810510323008, 1.983452816905316, 1.8414999999999973, 0.2102617352786103, 3.4227777777777777, 3.3882496212121187, 0.44045769674769697, 1.1902723996836497, 0.8593380655455656, 0.12809329441391942, 1.6231977249833494, 0.003513073038073038, 0.7028412812881561, 2.420695506507381, 0.10077369318181816, 0.7870696422327669, 1.128467079378956, 0.39999568840881367, 2.014048104950604, 0.34433946719946734, 1.4342680842768343, 0.013403690476190479, 0.6153601533189034, 1.7755988295732053, 2.530909090909087, 0.04596200715950715, 2.7182213186813184, 2.16601760593573, 0.0838628203046953, 0.9711725172743919, 1.514339441893891, 2.530909090909087, 1.6963842596292595, 3.3689687336968577, 1.563016069000444, 0.07931947843822845, 0.03145293220668221, 1.8604030790043284, 1.2249799021811516, 0.3988281250000006, 0.8569942046148291, 1.4795950093656347, 0.1641899752331003, 2.797962617382619, 2.370703321886448, 0.850446366619492, 0.16340863740426242, 0.045372351953601966, 0.026735827922077925, 0.1654877043095793, 1.1256697030747034, 9.320620230949606, 1.761301531870908, 1.869231036255411, 0.14112713952713954, 3.521377045732046, 1.311117433885559, 0.7903889785214784, 0.9207676335470084, 1.6383456524725273, 0.7151195527389279, 3.2778196508352773, 2.649145433177934, 2.589457121767123, 0.9410429281829285, 1.314048474234099, 0.8230684512015762, 1.963177729770229, 0.6901346803890559, 1.9270671610334102, 0.2125850595238096, 3.2431439795621055, 0.6901346803890559, 0.08120699404761904, 0.2614958995865246, 1.3113076864801871, 0.643129809981685, 1.2198888992257748, 1.884916479076479, 5.1874742239010985, 0.5043555082417587, 1.764216863830613, 2.5054644107281603, 1.0675108246614502, 1.2588325200493948, 0.850446366619492, 0.0245002380952381, 2.941754546495174, 0.5043555082417587, 1.194517950799201, 0.024668924408924413, 0.08473746753246751, 0.7586041071428562, 0.0995864846958597, 2.361606201229325, 1.8358072314613496, 0.1723380586774336, 0.0012, 0.11592050955988457, 1.476382244422244, 1.3373980744255745, 0.23305775613275617, 0.792687389208014, 0.0, 0.8181722961760465, 0.009637069597069597, 1.192042383866135, 2.0622031356837613, 1.0675108246614502, 0.2560810896048395, 0.06015457251082251, 0.10255021936396937, 0.10185537358474855, 2.5805297848679136, 5.654371504953375, 2.0295667266067268, 0.13325076465201463, 2.9579909084665363, 3.208837658660786, 0.0, 0.07247262730325234, 1.0042867145354644, 0.2321867707292707, 3.1815019796176047, 1.4776470588235298, 2.6812359543234554, 0.19252575188700188, 0.6803209312909313, 0.8760978767760021, 3.861111225441226, 6.162008274087026, 0.0, 1.090793800158175, 0.020654716117216115, 0.33788540362415354, 2.053031472832724, 0.8864428121184369, 0.5805321703296705, 1.7897032324619822, 2.7194580278749085, 0.6791563656482409], \"mode\": \"markers\", \"marker\": {\"symbol\": \"circle\", \"line\": {\"width\": 1, \"color\": \"black\"}, \"showscale\": true, \"size\": 10.0, \"color\": [4.215457032205988, 3.448077348424514, 3.1743642915390278, -9.170904316821101, 3.8199425471022193, 2.1812527783694455, 5.331501894050131, 0.8287298083759238, -7.163237337462103, 4.807318582615312, -1.9332867722759821, 0.13338047060282188, 4.698192337527472, 3.889266194167846, 1.2120864036240768, -5.277667197128115, 5.912563325892967, 1.9511953554453105, 2.748641136669595, -3.2469515270144793, 4.807318582615312, -7.539328371286901, -6.81991596658627, -5.812421577919058, 2.188175775398834, -6.8677432208695945, 0.5285430553414724, 4.5684766023644, -2.5353083034007415, -7.056435751520899, 5.724848687653054, -5.473000344184419, -6.316469355374446, 5.5539320836447725, -7.051054998642564, 2.720820110966241, 1.1931899060589684, -0.5032980417937719, -2.8012592978677597, 4.774928420045793, -7.69925146842601, -5.3070912288002, 2.903922953491374, -6.82690378329036, 4.935764462867478, 3.886588090795713, 3.8664554507378166, -5.057941220778631, 3.125833895512898, -1.0185463812833595, -1.595223425202369, 3.420385419503895, 1.9046904447080424, 2.720820110966241, -4.41444502154598, -1.3775901248754399, 5.197163116162632, -2.4348371633621806, -8.510640112982408, -4.940326089632933, -4.583747843279739, -2.1310812615303925, -3.5562238131274753, -3.075548255124577, 3.828041439517371, -6.681244491608418, -4.083730507151244, -3.143386442758307, -11.049007344347116, 1.6241501358289923, 0.44222382040668506, -0.981913556704102, -5.221082254538506, -7.051570400276319, 0.1926968604446886, -3.196068038353474, 3.82597448921011, 6.2096638945720395, -3.883673700963496, 2.6246521571948525, 5.963867950801541, -1.0504396336095976, -3.811446445120951, -7.619783716809584, 3.762194573081464, 7.191472754863474, 1.0679374594730864, -0.8863162424412794, 1.5795920043286857, -0.8899583680090719, -1.0064508623817963, 3.1407441581638955, 3.3042165634985894, -7.266598708241158, 6.863102365597664, 4.29580060154077, -2.76732772838386, -1.9841502739309682, 2.0755412047409925, -8.234790334858623, 4.5293902933499375, 3.1559442017313355, 4.480403122220348, -7.522421935834839, 1.9528240948819495, 5.9928993107587765, -2.8124934520988947, 0.9091733919989062, 2.3426277333719305, -2.3683885230006867, 0.6561464790566971, -3.004479204026251, -5.84383827300984, -7.4402634913185635, -4.509026933041743, 4.4529817269359855, -1.6026442274674548, -0.5912273483962817, 1.1032088620269507, 6.875602450268307, -0.383595040299263, -1.1469470791468606, 2.135738758245664, -6.469938543532748, 1.838560726554864, -3.462909754061699, 2.906791262231708, 2.9318905828766613, 5.154202729562821, -4.208426150179443, -3.7357382982299296, 5.942764978091895, -1.7637760324959764, 2.7167963641405706, 0.7987530103930901, -3.493495757480211, 3.941966879188996, -2.8766111532239873, 3.8787018558787665, 1.6806956536212505, -6.20547002771103, -8.083249937563428, -5.813795395318924, -6.449188103010461, 1.3209824648303152, -6.320816330575399, 0.327248256977472, 4.70081503802196, -3.4241536306795832, -6.453547441373369, -1.1386108655095422, -5.7248569573098536, 1.7787229073550717, -3.1637109625375373, -0.5349729533849678, 2.9961635299894422, 2.275494871088577, -3.959508186996734, -0.524262364340693, 3.8787018558787665, -1.0064508623817963, -0.06085868755812743, -2.6763436316720237, 5.005669908377232, 2.075498599725636, 1.6303518836211994, 2.3302653431418587, 3.3233210863758234, -8.039516744514149, 3.447642468197129, -2.713171303961833, -2.299103863540308, -0.7656781921607855, -1.3972953028638406, 0.42281436123506244, -7.663396835632672, 0.02914435459201791, -1.355948095090751, -5.884782394831353, -1.361777317916403, -5.152139901193723, -4.748363169449912, 1.433450229340861, 2.5173722917828267, -6.663835138896448, -2.7674075661972517, 4.038678494479112, -7.3917859132446715, -0.6161787572859863, 0.4337402177086751, -1.7900653250297993, 4.375765369020673, -1.7960498296856822, -6.736833564892554, -1.719853237934322, 1.6167771966681952, 2.6408183014683786, -9.659442448659865, 0.36342554066406685, 3.606668695686687, 3.610327157828295, 0.6882573543550372, 5.2729289067149185, 3.856627373780262, -6.209974976220816, 3.578805999966811, -4.314897582295019, 5.586889132887369, 1.949300148592836, -5.679593308615244, -5.451302578686151, 2.0160772766200967, -7.808080775802405, 5.699618144446771, -6.245553381023095, 3.796943776649222, 5.932064016991102, -6.796495957551214, -1.0404470593105835, 4.2580532610863475, 5.197163116162632, 3.773223771638542, 1.0106947884580435, -3.002111148786364, 5.512222380036966, 3.82597448921011, -4.918773163857655, -5.482925724288627, 2.8053432366198208, -0.9554314494405219, 7.054649486590292, -2.709447228393868, -0.08615025800780253, -0.8899583680090719, 4.70081503802196, -0.09396800184433617, -0.3355810817352375, -4.8374240459876905, 0.7864907809123052, 6.179418984331501, 3.7348108665801347, 2.178353455801568, 1.2546025696393843, 2.5724966806130034, -9.604147802539986, 0.012265853101973112, -7.518144142558315, -8.015531964744806, 1.7909485968551953, -8.256389710262813, -2.560506748879901, -7.438450426742889, 4.470508089741609, 4.321784761262338, 4.127463415746707, 0.4591180115241362, -7.24317036159384, -5.142037800400997, -1.7727068262489076, -9.191508885356816, -1.9209195361193616, -1.942363237812634, -7.543850860153356, 5.59375035893198, -2.127353590768386, 1.02119336206485, -3.7869301360645706, -0.9605510983315594, 1.2320353036777238, 0.46270237451654844, 6.3368287650115045, 2.4660174615454, -4.299708433949489, -2.4547429097677624, 1.017705772045275, -9.381493879317325, 0.45288226950320715, -1.3674358047772048, -3.6120527690968363, 1.3767863775439526, 4.698192337527472, 6.3368287650115045, -6.748763972562132, 2.6408183014683786, -3.501939646978424, -6.987322225016032, -5.72743412669051, 5.869884571538101, -2.7390059633468637, -2.6665192897571646, 4.6709671511991875, -8.668181522383891, 6.662311421451613, -3.2323533964163613, -1.2432126712390044, -8.228968042638394, -6.880388777169251, -3.105230339592623, 1.5180721886408186, 4.228040872632821, -8.251408816076465, 3.8004531623700344, 3.9445051415972747, 4.717475585658134, -3.3928813599380714, 6.040797566852741, 3.3233210863758234, -5.497714948703414, 1.7439942813309377, 1.5593849140328009, 2.6655436602715086, 0.7323899636934499, 0.2731853582766079, 6.3147921710347275, 0.6744016645830908, -2.423386784473412, 5.218072562690512, -6.307907359716742, -6.016904663665902, 5.559597482765478, 0.4189381535909699, 2.758846602560636, 5.757306691353916, 0.2727404975285363, 1.621223001057144, 4.28694545879921, 3.0728712832060796, 1.0128348725988532, -4.294973822037457, -2.0154122325842696, -3.579612360633551, -5.286932556404449, -3.842260419547053, 0.7321363850200125, -0.3762284967794055, -4.937144900252158, 2.420989663582969, -7.289310364504866, 5.273247426344562, 6.877147470760265, -7.559288546421486, 3.82597448921011, 2.65447319869913, -2.386989747844329, 2.0309453902747263, 1.3264964040643745, 0.15141078908888483, 0.566377169217376, -4.968114787063248, 3.482631402300081, -4.030845992230388, -6.197014509403503, 3.457137465316608, 4.109822207304074, 5.306616219575597, -8.253935475956888, 2.5253290747860992, 4.832313618974703, -2.4257151776452504, 1.2320639139278031, 3.0097540267945844, 2.0755412047409925, 3.82597448921011, -1.725545488634359, 3.125833895512898, 2.326889063587677, -0.882842485077162, -4.698902157901399, 6.3914292371555685, 2.3693246219116664, -1.5850186815703045, -7.0367622793545666, -1.1700626727739047, 1.4569102340459825, 5.912242786039197, 2.148072863026596, -5.889594005343011, 4.947654072151676, 1.9472294507635723, 1.8993341706597313, -6.049004790980471, 4.493126438973965, -0.922101279442043, -0.7704486532446614, 1.0630978528799682, 3.7348108665801347, -3.546213508529671, -2.396566122851517, -2.8275204305138546, -8.61776948391236, -0.5423950808689088, -4.314394809700366, -1.7377524733794514, -2.6105572800173005, 7.302529158440583, 1.8008889176401475, 2.5950962818875527, 3.7913733109688454, 2.395105858006098, -7.1557269305488305, -3.1253643469579067, -1.2301637044904565, -6.745061936685528, 3.9525867989935524, 2.317933162217894, -7.338266962111027, 3.149791210160839, -8.70013631035033, -1.0810293819932466, -6.608465987473945, -9.508611712069204, 0.6084004585668759, 3.505420047427191, -1.1460529909937476, 5.197163116162632, 5.345730676100823, 1.512775852201293, -0.3119922019592653, -1.96023237892477, 0.005925736655921611, -2.792626795357655, -2.633381033646056, -1.2027226605562964, 5.8801745022986855, -7.8274969601652735, -2.348320180293364, 3.4608230135885916, 6.6333160075703805, 3.938050914824516, -3.4309803931999396, 5.125162378660192, 5.578636819108192, 1.1998859615909763, 2.107356226417398, -7.574841887576546, -7.16617005741969, -7.772232078576056, 2.7667002848178415, 0.5154680712648826, 1.1298881636501692, 5.741595379996297, -1.1491146750534071, 0.8270866995934971, 2.825672746428104, 2.0379492181867818, -1.7900009609170338, 0.598657593610279, -5.617409534059979, 5.296722057777917, 2.0220747350831614, 2.5253290747860992, 1.0696186054138488, -1.1064682041969514, 2.7681562180375887, -0.8899583680090719, 2.238995738767944, 4.215457032205988, 2.642107861230721, 5.743214410968868, 3.4097139194844486, 3.6666978216332664, 2.720820110966241, 3.27243258371239, -5.716562778806359, -6.460741888180376, -2.4637285372506716, -2.586864992150684, 2.675296030149888, 3.16765929120518, -2.079242434785775, 3.4608230135885916, -7.7364403904473225, 5.188530950651926, 0.6031218658206098, 1.4009662860050185, 0.6249148422801837, 4.038678494479112, -7.417866301883662, 4.6999528357579665, -0.7217750298309638, 2.5850481995257657, -5.72669034050435, 5.880544835994168, -7.017086332465514, -6.3547472855476155, -4.721933325167118, 2.6408183014683786, 1.512775852201293, 6.682791238812123, 6.150799801587699, -4.676772170550112, -1.7730121046500487, 3.160546614505852, 2.1069963397443883, -6.909540148762472, -9.724613839781881, 0.7651848901349486, -1.025203056999472, -3.4344184795943806, -2.7883348317971075, -0.6130168257996607, -4.279755625748893, -1.5987812423823757, 2.462171172761291, 0.4177248429673039, -9.65471936530971, 5.197163116162632, 2.272905226098211, -3.60989841556205, 1.1778156699375515, 3.418021409050411, 3.071186934744222, 0.9980800124750204, 3.5551235423349197, -4.108600702595233, 1.4569102340459825, 1.073031350561595, 1.073031350561595, -1.3021762108760044, 0.445302447620762, 5.293236067100718, 3.542622366814666, -2.997987273402874, -2.761505745528189, -1.0966459264855648, 0.6541145300365127, -1.702370052811057, 2.6026579693392686, -6.755711245717967, 1.6909733502521695, -0.09861412470433975, 2.401252258462009, -6.878746049255363, -2.807779385068162, 4.770265501334868, 1.262729069496322, -2.3683885230006867, 3.2185791094784535, -6.278209939638084, -2.3552182666243713, 4.6860683464047685, -3.0981287411554472, -1.228125853127103, 4.146854985664775, 2.8708057152608406, -4.170307287543633, -7.343185753568901, -0.5961096895409822, 2.067909683448101, -8.042939535979473, 1.712865538447845, 0.6031218658206098, 4.281181431768706, -5.345768764595264, 2.3599784174670617, -0.1341856878280769, -4.063398323690888, -1.9829403302204347, -0.4085173558098688, 3.2106195505967285, -3.9033182787188982, 2.0379492181867818, -5.709351742278973, -3.7210777235119226, 0.383015616258927, 1.667968064743593, 1.3964864866275135, 0.8322436217600446, 1.454217143685127, 2.5595371459912606, 1.2495327938217495, -2.1614474751430093, 0.616223686921962, -2.6639402082916543, 3.8199425471022193, 5.500803298416401, -6.464009834789427, 2.869384358560471, -7.7190590133251415, -4.909835302737292, 3.5840521676361012, -1.228125853127103, -4.058403868412149, -7.282050908899914, 1.7744933160371552, 5.288729215175555, 1.1158682798236017, 0.882567964900893, -1.113806551403786, 5.2060321154124765, -6.580293801202396, -3.8113020266283604, -4.969439455375018, -6.619306868272644, -2.9710445801882064, 5.154202729562821, -2.7358741224936822, 2.6501605776304915, 2.0755412047409925, 4.975777900292734, 2.769353668873466, 2.9352837639464155, 0.00254507810931779, -0.0974711002595933, -4.94293198267611, 3.7039406295942845, 3.06293344585216, 0.2928152660485721, -3.3775704504885207, -4.957112779963092, 1.0445378476784843, 2.848368255648158, -4.519251482778525, 3.970858981101708, 4.472031599583768, 1.6410975410995527, 0.256616240894211, -1.0176246972581247, -3.0613733972853505, 1.426455637021055, -8.594051029185726, -0.14578296742249597, 6.3368287650115045, 2.748730833295672, -4.163504485813268, -0.24357574957614161, 3.4097139194844486, 0.7974757891954904, -6.399778276900611, 3.2968606010514896, -1.228125853127103, -2.259282743786202, -0.6142992691242481, -7.654140891906118, -4.807508739942461, -2.079242434785775, -5.44840337189183, 3.378960748201225, 1.5671232014698753, -1.264846974786826, 4.966567491740143, -6.7553810367478, 6.081465504238057, -7.976159763685335, 2.5928908349550355, -4.59247764059459, 2.5950962818875527, 5.5539320836447725, -7.060513735640231, 3.717104278737054, 3.541934905548901, 5.089815787397133, -7.097732529863684, -1.2132509611333253, -2.7817715780562726, -0.6654295097387235, 1.2320639139278031, -5.2584499531301665, 2.915761573921582, -9.010474205346348, 0.578499951815846, -8.114721997327852, -0.4708875067402461, 4.024302294676521, 0.8818325256665415, 6.682791238812123, -4.415051403149973, -3.7143550431861625, -4.148504170541261, -0.12451406071729992, 2.8494631215315143, -1.5877181776460612, 3.8766247205400095, 0.9595321678125383, 0.8284040997551111, 3.82597448921011, -7.781102543510194, -0.5093311927035674, -8.458476317202573, 4.501196038676638, -6.360112639458864, -2.0474440130418206, 4.352598950532795, 5.482607205987266, 4.791645547058484, -7.2161825461840285, -0.13628661713204845, 3.8775782102445406, 2.7870811059413185, -3.2157975494246425, 5.362583799612737, 0.01886418196434597, -6.740599054232568, -3.234710589062652, -6.099639571122771, 0.9733134625526022, 5.197163116162632, 1.2476157100444145, 2.5950962818875527, 2.496415333258332, 1.2320639139278031, 2.972340710607679, 2.236534018827045, 1.6417034093150944, 3.7152943542934915, -6.770345746552745, -0.9470219656169732, -5.576957708686803, -2.6796059995277304, 6.72809853485289, -7.000222716011166, -6.214585130555325, 4.726001213378979, 3.030438813369406, -3.168880701490637, 6.682791238812123, 3.5441440460566667, -9.005729682882706, 1.1524325671616669, 3.8787018558787665, -7.443358314830536, -1.8603863561787437, 1.7112822000909618, 2.152710972460956, -0.5913646945716817, 1.1158682798236017, 0.9487030956307335, 0.5350988679132834, -5.9827521775758274, 5.154202729562821, 8.548048723826806, 5.197163116162632, 1.7188089404617877, 3.5368429623485986, 1.1327362318201672, 4.29822366483672, 1.6938605159751772, 3.4097139194844486, 3.1407441581638955, 1.9837278933518805, 3.8004531623700335, -1.6515737411446951, 3.58349678969144, -4.96652705623499, -3.8028535813980247, -8.869933144818157, -1.6494677677498553, 1.712865538447845, 1.3544608393486022, -7.556766540903586, -0.5961096895409822, -4.5462892924775895, 1.841448036160893, -2.499394549863476, 2.139010805987897, 4.149487101653851, 5.788428189146605, -6.131921522217445, -2.1231589433893365, 3.724051467112172, -6.828306008366661, -8.251408816076465, -4.983100765566521, 2.9798428411225912, -1.6276875137832978, -5.937574685101167, -9.05531712974924, -2.4066258656136923, 3.0090703505869043, 5.154202729562821, 3.4097139194844486, -2.435093234668755, -4.575695783577008, 1.132983075679927, -1.7460621431991603, -6.098104746288732, 5.0216632968505674, -5.521538604637429, -3.949829555114568, 6.617873077913385, -0.778337789675603, 5.331501894050131, -2.72695418992962, 4.557120885286008, 3.214183730323406, 3.5548221609797817, 3.6306083843781107, -1.979299897106621, -6.090639922835562, 1.262729069496322, -2.3227600993353112, -6.926170128883445, -2.5360812188313466, 0.9430312787187406, 2.9798428411225912, -1.5918501723915062, -2.4934164628825024, 1.667968064743593, 3.732890313768657, 4.757309515963555, 1.3883639664538454, -2.685096907825825, -7.933029689804955, -8.214159944354007, -0.981913556704102, 3.493747543241561, -1.9802620638328325, 1.0823404273785608, 0.24360095743979765, 2.1790839467921033, 4.215457032205988, 4.573225583449731, -1.9930944186887103, 3.4224203678111373, 5.058413666306686, -0.43703697411451936, 1.0414835609770177, -0.3972093353046832, 3.1372128018634062, -6.369315975284206, 2.956049191238629, 1.6938605159751772, 1.4569102340459825, 1.5862691802156037, -3.004601471594325, 1.781068465022138, 0.6247990396203006, 0.44818859783324516, -4.885433227509916, -0.20998727099786846, 4.299726807056742, 1.6174339028232767, 0.6031218658206098, -3.781854991469592, 0.62428572630507, 3.3319457681837235, -5.244947852190128, 3.4397621844149096, -3.8415696543334206, -6.262701551023775, -7.221035650618392, -5.4244234389925, 4.85302028338945, 3.7629237250022354, -8.328179585205234, 4.582989316007318, 5.880544835994168, -0.5321562811233249, 2.7712305522871907, 3.82597448921011, -7.271560245621464, 4.199024377540344, 2.655393048883929, 2.527240331876413, -2.5625688242097904, 1.6628465394926666, 5.0069528262571765, -0.5961096895409822, 1.158333879803392, -1.6336739576333106, -3.988653611421237, 7.960645064288336, 1.4355160791424966, 3.357787978886831, 0.025834437304006565, -4.242868120513788, 3.3233210863758234, 2.9762742059164284, 4.935488066295857, -5.391185533632911, -2.807779385068162, 3.966157464648491, 3.5951611632624645, -9.563971314733328, -1.8651964488337927, -1.0485703304985305, 5.828202616686186, -3.039186718564494, -1.1064682041969514, 5.720630095785364, -0.1433746649547229, -8.369253255482928, 1.3557038481616375, 2.7169597644087493, -6.34352764640538, -2.4480274622255496, 5.586889132887369, -3.333555911477729, -3.8277290875062633, -0.0022878533276951066, -0.28304621699936305, 1.6898493264578864, 6.173288071146562, 2.631656785460644, -6.264430515075099, 2.6385416952147676, -0.03298579826847184, -3.6120527690968363, 3.4679501828850454, 1.1931899060589684, 1.0600922588175195, 3.8084869226928637, -3.0841686694794794, -6.1889050739722204, -0.8861864653727968, 0.3165525907408008, -7.2342167339004435, 1.262729069496322, -1.383637570798385, 0.4693132073695638, 0.6123693592636192, -1.307757919490125, 3.7348108665801347, -2.4699733639650043, -7.566244764152653, -5.22239996678933, 2.9306008589647203, -0.747169042055779, 2.5253290747860992, -6.782431427028513, -8.920082592922013, 2.4070244819323037, -4.714334157622028, 0.6172643367965708, 3.7941637864614908, 2.2505717275220585, -1.858625523025113, 1.4104380492150936, -1.9250724772000516, -6.893979404372931, 1.9065500288448929, 4.210071567887361, -0.6002316994812459, 2.0937338379008428, 2.0659507469086256, 5.576398539034113, -3.421631470226773, 0.23327145629323004, 1.9728668352991026, -8.479641216698422, -1.858625523025113, -5.021347531278642, -1.5923953672386022, -2.9764395385248688, 4.989252634141801, 5.154202729562821, -0.47322897036059186, 1.0022372557527321, -6.803329960263036, 5.111328106753312, -0.378539672347855, 5.325241383557075, -5.5714899320618585, 0.4636394901947817, 3.3233210863758234, -0.5092321509440995, 2.1986110711294047, 3.784959415667878, -3.7654335207071643, -1.5452407003688302, 0.9964481786467041, -1.7515121485957297, 2.695288670862779, 0.5862681122272281, -6.155698499487179, -0.11229925119599797, 0.6726026480787406, 4.965862663270668, 3.200766688506765, 3.751660354010996, 0.5285430553414724, -0.46391019148092666, 1.5934237805871598, 3.625923147211792, 5.307257873359861, 2.452261697023117, 6.682791238812123, -6.151410960722968, 0.9906765374631712, -0.5423950808689088, 1.712865538447845, -4.054222916489312, 1.2915859513558379, 2.589564518109072, 0.44604886570046565, -7.630002225705022, -0.980429870481558, -0.9660440031544607, -4.090592068134376, 7.2549670044019114, 5.617789822868092, 1.1998859615909763, 5.5539320836447725, 5.55477878772206, -0.31565830309320636, 0.5210922001995518, 5.480600953624194, 2.4275371612419443, -6.129064838577917, -5.22239996678933, -3.411472515406431, -4.932578222329362, 0.519723308701745, -2.3683885230006867, 3.751660354010996, 2.5253290747860992, 3.653969155956153, 0.6744016645830908, -7.333661143312493, 1.262729069496322, 6.3368287650115045, -2.590982901467088, 5.197163116162632, -3.4119197260723024, 1.5934237805871598, -3.740934547368801, 2.7407025729956365, 0.5165370328297106, -1.0966459264855648, 2.407417917651991, 2.3900784032281925, 1.7914504121259165, 5.768375350797629, -6.953590879092731, 2.69670060589968, 1.5201948569068429, -8.244438996629315, 6.112615661030324, -4.637725675493162, 3.82597448921011, -7.396240186318023, 3.7145718239216547, -5.6959402787700695, -2.1223634974553756, -7.7636474201395105, 5.43228924288893, 6.3147921710347275, -1.2725914412072477, -7.446540432149322, 2.075175172637481, -5.76552387118762, 1.3001271534487349, -8.26568370354115, -0.33241264102108903, 5.69344304839031, -0.8500754148921471, -6.125872081484396, 2.021759513022692, 4.5684766023644, -4.063831552561851, 5.288001592891721, -0.5961096895409822, 3.2819335376170926, 5.058413666306686, 6.3368287650115045, 3.7348108665801347, -5.69196584386058, 1.2476157100444145, -0.15822694575329552, -0.797121393808238, -6.966908657032249, -1.499791774654842, 3.408322660060691, 3.751660354010996, 1.268537175330513, -8.602202732299705, 5.585002119490172, 6.5259302995994855, 2.420989663582969, 4.698192337527472, 5.237438894228382, -0.17326425376202967, 0.43294022073372257, 4.377310183822501, 5.058413666306686, 3.3666597203348063, 4.446050098380156, 6.769003871857235, -1.6748290768504985, 1.7723766691386706, 2.765217258074283, 4.905907354619227, -2.546992108816209, 0.9928641531931249, 4.965862663270668, 1.0171047654362495, -3.5671049382649858, 0.985835419726379, 11.28992412451958, -7.586748597358275, 2.9464437871408715, -1.1727481222804228, 3.5058014916527833, -2.611602647348516, -7.4547157917430855, -2.882826659561543, 2.395105858006098, 3.281088640703524, 3.8794066936316165, 5.3298758728085005, 0.31499309883790927, -3.439456920348895, 2.5979311251598167, 1.352958393818999, 4.442824176288201, 3.4097139194844486, 2.0596700005874564, -2.3683885230006867, -0.5961096895409822, -7.622897996162749, -1.8073151792909512, 4.68018358822357, 6.399167314612797, -3.4161443915631278, 0.439613793222479, -0.029785774257715218, -2.2060562114672715, 4.607192536149467, -8.95014439908146, 4.215457032205988, 5.314056330103929, 1.129049492442343, 5.146005823574468, 2.904000716893728, 3.1308086473552676, 1.9511953554453105, -2.456845924818261, 1.2320639139278031, -7.336316615230065, -3.304673760784724, -0.021846516915440917, 3.2507791370937626, 2.135848129617692, 3.7941637864614908, 1.2320639139278031, -5.87056290877774, -8.012807656176358, -1.7949917874055934, 3.782497316803172, 1.1269989913711838, -1.9482559485309676, -0.007060272714606249, 5.154202729562821, -0.6368718071432848, -7.279427774817423, 0.20133669224402145, -3.5269292542942408, -1.2563638413312703, 5.058413666306686, -1.3197229419032523, 4.327078588394534, 6.8702276056586395, 1.950357233271022, 3.0090703505869043, -10.117275819613047, 3.5397749916155234, -7.368497651461375, -1.5099050673935426, -7.706811562765901, -3.76784533991805, 1.6168466419975258, 0.20624587360428234, -2.2199802889855063, 3.071186934744222, -8.302004503049304, -3.55985239159025, -2.895324809376069, -5.717318558507284, 3.4147454761224356, -0.27048309721477093, 0.0573518328679253, 4.501196038676638, -0.7371817149162975, 6.682791238812123, -2.918261906366347, 4.501196038676638, -1.5791183539512914, 2.5253290747860992, -0.5710718385108293, -5.4637112019142835, 3.2162258435000814, -1.6518009925420296, -7.465218521043744, 6.3147921710347275, -2.612386613340229, 0.5777214310589505, 4.809612207160777, -3.342285624864303, 5.058413666306686, 1.7261238261014504, -8.760396068400922, 6.3147921710347275, -7.953901131140555, 0.06588285264433302, 4.939103644723559, 5.5539320836447725, 2.05621390505509, -6.408585885254948, 1.950558894090033, 2.2735415435248507, 1.4664975489972025, 1.6459947732298967, -4.978218572097836, 3.4445282304796843, -3.4967387668973693, 1.1108879970245906, -6.930394254823082, 2.967408669129596, 3.501684927533418, -0.12451406071729992, -5.558429500815249, 4.809612207160777, 4.965862663270668, -5.438423685482459, -4.534765679869883, 1.5359841749905447, 0.638284186556195, -8.90955602445082, -4.031130103899191, -2.518392260354048, 2.3052379115607007, -2.8275204305138546, 3.9560784362432195, 5.880544835994168, -0.7300476760912833, 5.790825220575613, -8.327329812331108, 5.197163116162632, -6.962856211282762, 0.002871071940341553, 2.514982258415465, -1.6626473274986033, -8.392083976776311, -1.858625523025113, 2.080711368712919, 5.288729215175555, -6.2634606096314815, 4.571262670486363, -1.1902278686130274, 3.1017735823500816, -4.08506813277246, -4.472482176682762, 0.45288226950320715, 1.158333879803392], \"colorbar\": {\"title\": \"PCA1\", \"titleside\": \"right\", \"tickfont\": {\"family\": \"Courier\", \"size\": 18.75}, \"titlefont\": {\"family\": \"Courier\", \"size\": 18.75}}, \"colorscale\": \"Viridis\"}, \"line\": {\"dash\": \"solid\", \"width\": 2}, \"text\": [\"GeSe\", \"Ag3AsSe3\", \"Mn5Ge2\", \"CsLiB6O10\", \"Pb0.99Sn0.01Se\", \"As2S3\", \"As2Te3\", \"K3Sn\", \"Li3Ni2(GeO4)3\", \"PbI2\", \"Ti3SnC2\", \"Ce2Ge2Se7\", \"ZnTe\", \"RuSbTe\", \"CsIr\", \"MnVTe2O8\", \"YbPmPt2\", \"Mn11Si19\", \"NdAs2Pd2\", \"P2O5\", \"PbI2\", \"V3H4O8\", \"BaZn(MoO2)4\", \"Li8PO3\", \"YbMn2As2\", \"LiIO3\", \"CdIn2S4\", \"CdAs2\", \"PrB6\", \"Li5Fe6(BO3)6\", \"LuHfRu2\", \"Mn3Ta2O8\", \"MgTi11O20\", \"GaSb\", \"La20Mo12O63Cl4\", \"InP\", \"WSe2\", \"LiMgAs\", \"RbZrPSe6\", \"Ga1.005Sb0.995Se0.015\", \"LiPbB9O15\", \"Cu2Ta11O30\", \"Zn0.99Cd0.01Se\", \"Li4Fe3NiO8\", \"PtAs2\", \"Hf5Te4\", \"Cu2In4Te7\", \"GeW6O18\", \"CuI\", \"LiMn9Se10\", \"Hg4P2ZrCl6\", \"YSn3\", \"Cu18S11\", \"InP\", \"ScTi9N9\", \"Lu3BC3\", \"GaAs\", \"PbN6\", \"Ba3Nb2CoO9\", \"MnO2\", \"Ta0.67Zr1.33O0.42N2.61\", \"Cs2Hg4.65Cd1.35S7\", \"Rb3Al3Ge7S20\", \"La4InSbS9\", \"DyTe1.7\", \"SmSb2BO8\", \"K2CuVS4\", \"Tl16O15F17\", \"RbF3\", \"LiInSn\", \"CdGa2S4\", \"NaAsSe2\", \"Bi2Mo3O12\", \"Li2TiMn3O8\", \"EuGa2Se4\", \"RbInSnS4\", \"GaSe\", \"VPt2\", \"B2O3\", \"YbSi2Ag2\", \"HgOsPb2\", \"PmLi2Al\", \"ZnWO2\", \"BaTi14O28\", \"InHgW2\", \"Y3Tm\", \"AgS\", \"Eu3P2\", \"UAl8Fe4\", \"InN\", \"CaSe\", \"Hg0.8Cd0.2Se\", \"Gd2Te3\", \"La2O3\", \"Hg3Sb\", \"OsAs2\", \"Cs2Hg3S4\", \"Zn2WN2\", \"GeS\", \"Li4WO5\", \"ZnIn2Te4\", \"AgAsSe2\", \"OsTe2\", \"KIO3\", \"CaGa3Ni2\", \"Mn2Hg5\", \"Na2Ga2SnS6\", \"Nb4Co2PdSe12\", \"GdTe\", \"ZnO\", \"Ce3Al\", \"Si4Cu5O14\", \"YbBO3\", \"LiCdBO3\", \"K2La2Sb2S9\", \"HfInCu2\", \"AgPdO2\", \"Na2Te\", \"KBi2\", \"In3Sb\", \"RbBi3Se5\", \"Ba2AsGaSe5\", \"TmBPd3\", \"Nb6VSb3O25\", \"NdMg2\", \"Yb2SrS4\", \"BiSeBr\", \"Cr10Sb3Te7\", \"InAs\", \"CaB2C2\", \"Sn3P3O13\", \"Ga5Pd13\", \"CsYbZnSe3\", \"Sm2Te3\", \"CuInS2\", \"La2S3\", \"Sm2TlZn\", \"Ba2Ga8GeS16\", \"CuInTe2\", \"Pr3I\", \"Yb6U3O17\", \"Ba3CaIr2O9\", \"MoO3\", \"EuBiW2O9\", \"CuBiP2Se6\", \"LaVI5O16\", \"TiI\", \"SbI3\", \"Rb7Th2P6Se21\", \"Ho2Mo3O12\", \"YbGa2S4\", \"BaPd2O4\", \"EuMn2Ge2\", \"K2Au2Sn2S6\", \"CsCd4In5Se12\", \"HfGaCo2\", \"CdS0.55Se0.45\", \"SnP3O9\", \"Dy4S4Te3\", \"CuInTe2\", \"CaSe\", \"AgCd3PS6\", \"RbCd4Ga5S12\", \"U2Ti\", \"NdTiGe\", \"Sc8Te3\", \"Zr2Al\", \"ZnSe\", \"CeFMoO4\", \"Cu0.1In1.9Se2.9\", \"LiAlB14\", \"TiS2\", \"PbMnIn2S5\", \"TbIn3S6\", \"CuFeS2\", \"TbBa2IrO6\", \"Pm2LiAl\", \"Ti3Cu3O\", \"KAg11V4O16\", \"EuLi2Sn\", \"Tm2Ru2O7\", \"Ba3B1.5S6Bi0.5\", \"MgSi7Ir3\", \"Zr6Al2Ni\", \"KAuI4O12\", \"Ca3PbN\", \"Se3Te\", \"KBiO3\", \"ThCrB4\", \"Rh2S3\", \"CsSmCdSe3\", \"Hg0.25Zn0.75Te\", \"HgO\", \"NaNi2O3\", \"Ba4CuInSe6\", \"NdSi2Ir2\", \"TlBr\", \"Tb3Rb2AlF16\", \"Nd2Se3\", \"Al9Co2\", \"Al5Rh2\", \"RbGe3\", \"Ga1.005Sb0.995Te0.015\", \"ZrSb\", \"Eu2Ge(BO4)2\", \"Zr7Sb4\", \"K3SmAs2S8\", \"CdTe\", \"Mn15Si26\", \"Ca3N2\", \"EuRhO3\", \"SbSI\", \"ZnB12O24H10\", \"Cu10Sb3\", \"NaInI4O12\", \"Ho3Ge5\", \"Ge3Sb\", \"BaSn4O8\", \"Ba2GaBiSe5\", \"MgPt5\", \"GaAs\", \"Pb0.87Sn0.13Se\", \"EuMg2Bi2\", \"Ba3BSbSe6\", \"HoCu4Pd\", \"GaSe\", \"Ce2O2FeSe2\", \"Nb2Co3O9\", \"CdS0.01Se0.99\", \"KInSe2\", \"CrNi3\", \"Nd2ZrS5\", \"Li2LaTl\", \"InN\", \"SbI3\", \"Cr2CuS4\", \"BaIn2Se4\", \"Ag2MoI4O14\", \"Zr2Co12P7\", \"SmHg3\", \"InSe\", \"CsAu\", \"Ca3Sb2\", \"Mn2CoAs\", \"Ba7B3O9F5\", \"Sr8Al7\", \"KScSe2O6\", \"Rb5W18O54\", \"Eu7Ga6Sb8\", \"Ba2YReO6\", \"CsPSe6\", \"Sr3Li4La5O12\", \"TlZn2Tc\", \"Ho2Co17\", \"Tm2ZnGa\", \"HgBrCl\", \"CaO\", \"K6Nb2.97Ta1.03S25\", \"TlTaS3\", \"Rb2NaNiF6\", \"BaZnSiSe4\", \"ThS\", \"Li2WTeO6\", \"TbRh2\", \"CsYbMnSe3\", \"CsInTe2\", \"K2Cu2ThS4\", \"NaBiSe2\", \"IrP2\", \"Li2Ga\", \"PbTe\", \"Cu3SmTe3\", \"Co5RuO8\", \"Ce2YbCuS5\", \"Hg6.5As4CdCl6\", \"Li3Cs2B5O10\", \"ZnIn2S4\", \"Ba2InNdSe5\", \"CaS\", \"Cu3YbSe3\", \"ZnTe\", \"PbTe\", \"Li5Fe2Ni3O10\", \"TlBr\", \"La3AlN\", \"LiMnCoO4\", \"CoW2O8\", \"Tb5Tl3\", \"Bi4PdSe4O12\", \"NaInS2\", \"SnI2\", \"Li4VF7\", \"Sm3Zr\", \"La10OSe14\", \"Li2In2GeSe6\", \"K8Ce2I18O53\", \"BaPdI4O12\", \"BaGa2GeS6\", \"KHg\", \"MnCu2Sn\", \"SrTiO3\", \"Pb0.94Sn0.06Se\", \"Bi2Se3\", \"Ga0.8In0.2As\", \"HoN\", \"In4Te3\", \"ZnSe\", \"HfO2\", \"In0.5Al0.5P\", \"Cu0.3Ga1.7S2.7\", \"La3ZrSb5\", \"NaInTe2\", \"LiEr2Ga\", \"CdSb\", \"TaGaSe2\", \"Cs2Bi2Cd2S5\", \"HoInAu2\", \"SmBiW2O9\", \"V2O5\", \"ErCu\", \"LiCa2Ge3\", \"HoSi2Pd2\", \"ScAg\", \"CuCl\", \"SrGe2\", \"Hg0.06Zn0.94Te\", \"Pr5In11Ni6\", \"Mg2Si\", \"Rb2CuVS4\", \"HoB2C2\", \"Ba4CuGa5S12\", \"Rb4Ti3S14\", \"TiFeH2\", \"CsMg149\", \"La3LuSe6\", \"Ti3PO7\", \"PbS\", \"KNb2O5\", \"Ga1.001Sb0.999Te0.003\", \"LuIr\", \"PrF3\", \"GaSe\", \"DyGe2Ru2\", \"RbCu2SbS3\", \"Dy2MgTl\", \"Mg2SiPt\", \"Te2W2SeS\", \"NaSbTe2\", \"GaVTe2O8\", \"Sm2Cu4Sn5\", \"HoCu2O4\", \"La2Pr2O7\", \"Nb5Ga4\", \"YbSn2Pd\", \"Yb3Tc\", \"RbH3Se2O6\", \"Mg2Sn\", \"CeCd2Ag\", \"Cs2Hg6S7\", \"CdS\", \"Hg0.3Cd0.7Se\", \"GeS\", \"GaSe\", \"K4In4P6Se20\", \"CuI\", \"In0.99Al0.01P\", \"CaB2Ir2\", \"LaInS2O\", \"Hf2Ni\", \"Cu2HgGeSe4\", \"Li0.5Pb1.75GeS4\", \"Li7Ti5O12\", \"TlCr5S8\", \"InS\", \"Hf2MnIr\", \"Sc11Al2Ge8\", \"Sm2Mo2O7\", \"Pb0.8Ge0.2Te\", \"Ca11Ga7\", \"Mg3Bi2\", \"MnF2\", \"Y3Fe29\", \"NaSbSe2\", \"Zn2SnN2\", \"AlB2\", \"InSe\", \"Li2HgGeS4\", \"Eu3S4\", \"LiGaS2\", \"CsH3Se2O6\", \"BaGa2SnSe6\", \"TiReN3\", \"BaSi\", \"Sm3Al0.33SiS7\", \"Zn8Ag5\", \"YSi2Rh2\", \"CuInSe2\", \"Hf3Ni4Ge4\", \"ReSi2\", \"La2CoTiO6\", \"ZnCu3P3O13\", \"Ba4Ga2Se8\", \"La10Mn9O30\", \"AgI\", \"UGa5Ir\", \"Ca2NiIrO6\", \"Hg0.9Cd0.1Se\", \"CsB3GeO7\", \"Pb17O8Cl18\", \"Nb3V(PO4)6\", \"Cs2SeClF6\", \"TlHg6S4Br5\", \"Cu0.7In1.3Se2.3\", \"CsCdInSe3\", \"GaAs\", \"InSb0.3As0.7\", \"Ag3AsS3\", \"K2ZnTe2\", \"Cr3N2\", \"UCuP2\", \"CsCu2AsS3\", \"NaCdAsS3\", \"LuIn3S6\", \"Pb0.999Sn0.001Te\", \"Ba3V2Se4O16\", \"Cs2PdSe8\", \"TlSe\", \"Sb2Te3\", \"SmSnPd\", \"PrCuOS\", \"AgIn5Te8\", \"Co3W\", \"Hg2Cl2\", \"AgBr\", \"UB4H16\", \"Yb2Ce8O19\", \"LiNbO3\", \"Al6Ru\", \"B6P\", \"Cu3YSe3\", \"TiFe2\", \"SrSe\", \"AlB12\", \"AlPd5I2\", \"CdSnP2\", \"Ag2NbP2S8\", \"Cr2GeC\", \"Rb6O\", \"MnTcOs\", \"CaGe2Rh2\", \"Mg2Sn\", \"AgAsS2\", \"TaGaS2\", \"ErSi2Pd2\", \"InN\", \"UAlNi4\", \"GeSe\", \"PtPAs\", \"SnRh\", \"CdSe\", \"SiTe2\", \"InP\", \"AgSbSe2\", \"BaAlCu4O7\", \"EuSb2BO8\", \"NaBiS2\", \"Tb3Mn2C6\", \"Cu2ZnSiTe4\", \"NdGe2Pt2\", \"Bi2O3\", \"TlSe\", \"Ba2CuWO6\", \"ZnSnSb2\", \"TlCl\", \"CuGa0.4In1.6S3.5\", \"EuDy2Se4\", \"TeSe3\", \"Li2Co4O7F\", \"YbTbRh2\", \"Cs3Bi2I9\", \"Pr2Te3\", \"Ca3Cu2(ClO2)2\", \"PtSb2\", \"Li2CrCo3O8\", \"Pb6B4O13H2\", \"Zr6Al2CoH10\", \"TlBr\", \"Ag3AsS3\", \"InSb\", \"SnGe\", \"MnCo4O8\", \"Nd2WC2\", \"SnS0.4Se0.6\", \"Ti2AlV\", \"Li4Ti5Cr3O16\", \"Na3UF7\", \"U3Cu2Se7\", \"Ba5Ga4Se10\", \"PdI2O6\", \"Cs5BiP4Se12\", \"Cu3TaS4\", \"Bi12TiO20\", \"KBaAsSe3\", \"UGaNi\", \"EuSb2Se4\", \"Ba2B6O9(OH)4\", \"GaAs\", \"Ir0.67Se2\", \"SrNd2S4\", \"NdRe4Si2\", \"PbSe0.5S0.5\", \"FeSi2\", \"PbSnS3\", \"BiSeI\", \"Pb2MnO4\", \"InS\", \"CdSiP2\", \"CdSiP2\", \"K2Hg3S1.03Se2.97\", \"TlS2\", \"Ge2Sb2Te5\", \"Si2Te3\", \"CsCd4Ga5S12\", \"MgTi4S8\", \"LiAsSe2\", \"Ba2GaBiTe5\", \"Nd2YbCuS5\", \"TbGa3\", \"Li2Fe3NiO8\", \"TiAl\", \"La2Ge2Se7\", \"CeInIr\", \"Li5Co2Ni3O10\", \"RbBr\", \"Bi2Te2.4Se0.6\", \"ZnS\", \"ZnO\", \"Ca3Au4\", \"Mg2CuWO6\", \"TiS3\", \"ScZn3\", \"Na2ZnSn2S6\", \"RbI\", \"SmTmZn2\", \"Hf3Si4Cu4\", \"La2PC\", \"Li4MgNi3O8\", \"GaN\", \"Lu2MgHg\", \"KH3Se2O6\", \"Sb2S3\", \"TlCl\", \"In2Se\", \"V6PbO11\", \"Mn5As4\", \"RuPS\", \"K2S\", \"Sm2Mn3Sb4S12\", \"RbZn4In5Se12\", \"GaTc2W\", \"BaLa2In2S7\", \"CdSnP2\", \"CaBi2O4\", \"Li2FeGeS4\", \"YbAl4Mo2\", \"GaS\", \"Ag8GeS6\", \"RuP2\", \"As2S5\", \"UNiSn\", \"ZrSi2\", \"Ba3ThSe7\", \"Ba2InNdTe5\", \"KAu5PS8\", \"Pb0.99Sn0.01Se\", \"InSb0.6As0.4\", \"YbClWO4\", \"PrMgAg2\", \"Li4Ni2(PO4)3\", \"SrCe2S4\", \"TbInIr\", \"RbI\", \"YbAgO2\", \"Li4Mn5Nb3O16\", \"Sn2BiS2I3\", \"CdIn2Te4\", \"AgSbS2\", \"Si2NiP3\", \"Pb2Bi5.9La2.1S14\", \"GaAs0.15Sb0.85\", \"Ce3NbS3O4\", \"CaTi4S8\", \"Mn3SbO8\", \"Li4TiCr3O8\", \"AgAlO2\", \"InAs\", \"CsCu2SbS3\", \"CuGa3Se5\", \"GeS\", \"Sm2RuAu\", \"CdGa2Se4\", \"Ho4Ga16Co3\", \"Be2HgTe\", \"LiAl2Rh\", \"Cd2V2Te2O11\", \"Lu7Ni2Te2\", \"AsBr3\", \"Ca3BiAs\", \"Li2CdSnS4\", \"Ba3Tb2P4S16\", \"CsSb\", \"AgPbBiSe3\", \"Pb2V3Se5O18\", \"GdZn\", \"RuAs2\", \"LaBPt3\", \"NdLuSe3\", \"PbSbO2I\", \"Ag2.7Ba6Sn4.3S16\", \"SmCo2Si2\", \"BaTiO3\", \"AgCl\", \"PbTe\", \"Cu3DyTe3\", \"K10Mn4Sn4S17\", \"K2.15Pb1.7Sb8.15Se15\", \"CdSe\", \"B4C\", \"EuTiO3\", \"BaAg\", \"RbI\", \"Al7C3N3\", \"Cs1.13Cd1.13Bi2.87Se6\", \"K2Sm2Ti3O10\", \"Sn3WO6\", \"Bi2O3\", \"V3CrO10\", \"MnGaNi2\", \"SrIr4In2Ge4\", \"PbBiO2Br\", \"Ti2RuOs\", \"LiMnO2\", \"Bi1.4Te3Sb0.6\", \"BaTeMo2O9\", \"Nd2Ge5Rh3\", \"Ba4Ge3S9Cl2\", \"CuInSe2\", \"GaSb\", \"Li3CrCo3O8\", \"PrSbPt\", \"Cu0.35Ga1.65Se2.65\", \"OsSb2\", \"Li2MnNi3O8\", \"K3Bi2I9\", \"LaZnAsO\", \"Dy2C\", \"CdS\", \"Zn0.2Ba2B2S5.2\", \"Al2Ru\", \"Li6Rb5B11O22\", \"Mn2P2Se6\", \"Na3ZnB5O10\", \"LiAl2Tc\", \"YbIn4Ni\", \"In0.01Al0.99P\", \"InSb\", \"Bi2B3O9\", \"Li2MnGeS4\", \"Si2SbO6\", \"K2CsSb\", \"SmAs2Au\", \"ErFeC2\", \"Hf5CuPb3\", \"Cu3SbS4\", \"Tl4GaIn3S8\", \"GaSe\", \"Na2SO4\", \"La2Se3\", \"Ba8Al10B12O41\", \"CdGeAs2\", \"CsCl\", \"Tb4GaSbS9\", \"SiHg3\", \"Si2Pd9\", \"Ga0.28In0.72As\", \"La2Sr2PtO7.13\", \"YNi2P2\", \"Yb8Ge3Sb5\", \"Cu3SbSe4\", \"Bi2I4O13\", \"GaBi\", \"Ce2YbCuSe5\", \"Li3Co4TeO8\", \"ErN\", \"LiInI4O12\", \"TlPrSe2\", \"GaAs\", \"TlSbS2\", \"CuInSe2\", \"PrNiGe2\", \"CdS\", \"MnGaPt\", \"TiMn2Al\", \"Cs3Bi\", \"GaAs0.4P0.6\", \"La8Mn7O24\", \"Te2Mo(WS2)3\", \"Li8GeN4\", \"Zr6O\", \"TmPd\", \"Cs3Sn3F2Cl7\", \"TbH2\", \"Ga1.02Sb0.98Se0.06\", \"HoSi2Pt2\", \"Na2ZnGe2S6\", \"InSb\", \"PAs\", \"Li4Rb3B7O14\", \"Gd1.87Lu2.13Se6\", \"CuInTe2\", \"NdF3\", \"TiC0.9\", \"CuGa2S3.5\", \"Ga0.6Al0.4P\", \"HoSiRu2C\", \"AgSbS2\", \"Be3Sb2\", \"ZrSe3\", \"HoTiO3\", \"InAs\", \"TaW3\", \"GaAs\", \"ScBIr3\", \"Cu0.2Ga1.8Se2.8\", \"LiGaPt2\", \"Lu7Te2Pd2\", \"Bi2S3\", \"CdSe\", \"Hg0.8Cd0.2Se\", \"CaIn2Ir\", \"Pb0.94Se0.94Sn0.06Se0.06\", \"Li2NdAs2\", \"SmSb2\", \"Ti9O10\", \"CsInGeS4\", \"Cs2SCl6F\", \"K2MnSn2Se6\", \"Sb2S3\", \"Sc3Re2Si4\", \"BaIn2P4O14\", \"GaN\", \"EuKS2\", \"YbFe4Ge2\", \"Cu2Te3O8\", \"ScGa6Fe6\", \"Sb2Se3\", \"Pb0.8Sn0.2Te\", \"MgMnO3\", \"Na2BaGeSe4\", \"Ga2Se3\", \"EuCaO2\", \"SrTiO3\", \"NaCeS2\", \"CdIn2Se4\", \"Tl4Nb2S11\", \"ScCoO3\", \"Sr5V3O12F\", \"YB2C\", \"AgInSe2\", \"InAs\", \"CdSe\", \"Cu9Se4(Cl3O7)2\", \"ScN\", \"Cu3AsS4\", \"KCu4AsS4\", \"LaTaN2O\", \"DyBiPt\", \"BeGaO3\", \"CeMn0.5OSe\", \"YbAg2\", \"Cs3Sb2I9\", \"As2Te3\", \"Cs3Sb2Br9\", \"CdSnAs2\", \"Tm4In(NiGe2)2\", \"HfAlPd2\", \"ZnSiAs2\", \"DyS2\", \"Nb2O5\", \"ZnS\", \"Rb2FeI4\", \"Li7Ni11O22\", \"Al0.74Gd3Si0.7S7\", \"RuAsS\", \"CdIn2Se4\", \"As2O3\", \"NdCuOTe\", \"GaS\", \"DyZnGa\", \"Ga0.5In0.5As\", \"CeAl2Zn2\", \"UVC2\", \"CsGe5BO12\", \"Ba3NaIr2O9\", \"NaAsSe2\", \"EuBi2Te4\", \"AuBrO2\", \"TlAsS2\", \"La2Fe2I\", \"Zr3Al2\", \"GeSe\", \"YbZnPt\", \"NaTi5Se8\", \"Nb3Bi\", \"Zn3As2\", \"Cs2Hg3I8\", \"SnS2\", \"AgW6Br14\", \"DyAs\", \"Li6Al2Te8O22\", \"NaTl\", \"Bi2S3\", \"InS\", \"NaHg\", \"CaB6\", \"InFe2CuSe4\", \"Ba2GaSbTe5\", \"Pr4InSbSe9\", \"Cu2Ta4O11\", \"Cs2ZnGe3Te8\", \"Bi2Te0.9Se2.1\", \"ThSi2Ru2\", \"TlCl\", \"Ba8Sn4S15\", \"K2Cd3Te4\", \"Ag7AsSe6\", \"SrZnSO\", \"Ru2Si3\", \"Cs2HgI2Cl2\", \"YTiO3\", \"Rb2PtI6O18\", \"NiCO4\", \"DyMn2\", \"Tl9SbSe6\", \"Ba2LaIrO6\", \"As2Se3\", \"PtSb2\", \"Zn3N2\", \"Cu2SnSe3\", \"GaSe\", \"Li4Mn5NbO12\", \"PrIn\", \"Fe2TiSi\", \"PrTe2\", \"TlN3\", \"MnSi\", \"GaTe\", \"GaN\", \"NiP2\", \"Dy2S3\", \"ZnIrO3\", \"FePd3\", \"AlP\", \"MoTe2\", \"Eu2SnSe5\", \"CaLa2S4\", \"ZnSe\", \"Lu2AlTc\", \"Pb0.96TeGa0.04\", \"PrTaN2O\", \"RbBr\", \"Tm3Ge4Pd4\", \"GaAs0.3P0.7\", \"BaClBF4\", \"Mn2.04Gd1.47In0.49S5\", \"Na2GeIn2Se6\", \"HgTe\", \"Li2B6\", \"TaGaS2\", \"Tl2Te3\", \"Th2Se5\", \"Ba2CaReO6\", \"MoSe2\", \"LaSn3Ru\", \"ErRe2O8\", \"HfS3\", \"CdTe\", \"Bi3Ge3O10.5\", \"Li4HgGe2S7\", \"PbCl2\", \"La4InSbSe9\", \"PdS\", \"TiPd\", \"Mg3Ga7Co2\", \"EuH2\", \"MnSiNi2\", \"La3Ge3Br2\", \"CaS\", \"Tl4CdI6\", \"WSe2\", \"YMgGa\", \"YbSnRh\", \"Bi12GeO20\", \"Pr2Ir2O7\", \"RbBiSe2\", \"UCu2P2\", \"BaMn4O7\", \"ZnS\", \"Rb2Cu2Sn2Se6\", \"LiSiPd2\", \"Cu2CdSnS4\", \"Ce3LuSe6\", \"InSe\", \"Mg3B50C8\", \"Sr2SmTaO6\", \"V2O4\", \"Hg0.1Cd0.9Se\", \"LaP2Ru2\", \"Mg2Sn\", \"KCuPO4\", \"Rb3NaMo2O8\", \"Sn5B2Ir6\", \"Ta0.67Zr1.33O1.38N1.97\", \"SnGa2GeS6\", \"Al2Te3\", \"MgSbPt\", \"KI\", \"MgTe\", \"K5In3P6Se19\", \"Li5Bi4O12\", \"Nd4MgRu\", \"SnSe\", \"VP\", \"TmAl4Ni\", \"Cd6P7\", \"TlBiTe2\", \"BiFSeO3\", \"K1.46Sn3.09Bi7.45Se15\", \"NdAs\", \"KH(CN2)3\", \"KI\", \"SrThP2S8\", \"EuSb4S7\", \"Cs2PdP2Se6\", \"Ge5Te8As2\", \"InAs\", \"BaAl2\", \"CaSi2Pd2\", \"BaNb4O6\", \"Ga3Pt2\", \"K2Bi8Se13\", \"Hg0.63Cd0.37Te\", \"Na5Cu7O13\", \"PtS2\", \"ZnSe\", \"AgBiP2S6\", \"ErBPd3\", \"Pb0.9Sn0.1Se\", \"MnCdO2\", \"Ti2CoS4\", \"RbSbTe2\", \"Dy4GaSbS9\", \"NdCo2Ge2\", \"Nd2Sn3Se9\", \"Pb2H2P2O6\", \"Na3Sb\", \"Rb2CsSb\", \"Cd3As2\", \"Sc4Ge6Rh7\", \"Cu2Se\", \"CdIn2S4\", \"BiOI\", \"Cu0.4Ga1.6S2.6\", \"AsSeI\", \"Dy12Co7\", \"Tl2Au2Sn2Se6\", \"InSb\", \"Sr3Se3O8Cl\", \"Cu8O\", \"BaGa2SnSe6\", \"Sb2S3\", \"Ba2HgS5\", \"BMo\", \"KHg11\", \"Nd2Fe14B\", \"SrSeO4\", \"RbMn4In5Se12\", \"PmLi2Ge\", \"SrS\", \"TmTl\", \"Lu2TlAg\", \"Hg2Cl2\", \"GaSb\", \"BaTh3\", \"Ca2Si\", \"CuIn3S5\", \"AgSbTe2\", \"Mg23Al30\", \"YbBa2(CuO2)4\", \"VO2\", \"RbCu2VS4\", \"NaC\", \"Tl2Cu2SnS4\", \"ZnO\", \"Cu2Se\", \"Mg2Sn\", \"Cu0.9Ga1.1Se2.1\", \"TaGaSe2\", \"Gd2Mo3O12\", \"ZnS\", \"PbTe\", \"K3Ta2AsSe11\", \"GaAs\", \"CaNd2S4\", \"Cu0.4Ga1.6S2.6\", \"Mg2CrN2\", \"V3SiNi2\", \"EuBi2Se4\", \"LiAsSe2\", \"SmMn2Ge2\", \"SnS0.99Se0.01\", \"MnSb2Se4\", \"VNi2\", \"Na11Bi5O16\", \"MgSc\", \"Cu0.1Ga1.9S2.9\", \"NbHO3\", \"Ho2Au\", \"NaCeS3\", \"GaSe\", \"Li15Mn2O12\", \"Dy2Te3\", \"Cs4Zr3S14\", \"Eu2Ga2GeS7\", \"RbSbO3\", \"TeI\", \"CdSb\", \"Sb8O11I2\", \"LiNi2(PO4)3\", \"PmMgRh2\", \"Cd4LuB3O10\", \"In6S7\", \"RbAgF3\", \"CeB2Ir3\", \"InSb0.9As0.1\", \"BiOBr\", \"CeSbO3\", \"ZnGeP2\", \"CdAs2\", \"Sm2IO2\", \"CdIn8Te13\", \"GaN\", \"NbSiIr\", \"Zn3As2\", \"PbTe\", \"InSe\", \"Li2CrCuO4\", \"TlSbS2\", \"Li2HgGe\", \"SmP\", \"Li7Ti16O32\", \"K2FeGe3Se8\", \"MgScAg2\", \"Cu2Se\", \"MnBe2Co\", \"NaF\", \"Ti2MnFe\", \"MnCu3\", \"PbS\", \"ZnTe\", \"InSb0.1As0.9\", \"Hf3Zn3N\", \"RbMn4Ga5Te12\", \"AlSb\", \"Zn3As2\", \"CdSiAs2\", \"Nd3In\", \"DyCd2\", \"USeS\", \"CsSn3\", \"ZnI2\", \"Ru2Ge3\", \"Sc2S3\", \"CuGaS2\", \"Cd3As2\", \"UFe5Si3\", \"BiPO4\", \"LiTm2Rh\", \"ErLu3\", \"Ba3ErRu2O9\", \"Zn0.75Cd0.25Se\", \"La3NiBr3\", \"PmGaAu2\", \"NaAsS2\", \"Mg4Sc3(SiO3)8\", \"Cs4GeP4Se12\", \"ReSi2\", \"TbNiGe2\", \"GeSe2\", \"TaTiFe2\", \"Rb1.45Pb3.1Sb7.45Se15\", \"RbInGeS4\", \"Cd5Ga2S2Te6\", \"BiSBr\", \"BiI3\", \"CdSe\", \"LiCa2Mg\", \"ZnO\", \"GaN\", \"K2Dy2Ti3O10\", \"Lu2FeS4\", \"Ga2GeTe3\", \"InPt\", \"Rb2TiCu2S4\", \"Y3Fe62B14\", \"CoPS\", \"NaIn3S5\", \"Th2In\", \"CsNi2F6\", \"GeSe\", \"Ag0.25Cd0.5In2.25Te4\", \"Cu2GeS3\", \"Pb0.99Ge0.01Te\", \"BAs\", \"InSiIr\", \"Mn11Si19\", \"Nd2HfS5\", \"CdS\", \"Li15Fe4O16\", \"KInGeS4\", \"AgP15\", \"Eu3Sn\", \"Ag2S\", \"Al2Te3\", \"CdS\", \"Cs4Th2P6S18\", \"BaV2SeO8\", \"KUCuSe3\", \"MnTePd\", \"CaAl8Co2\", \"La1.86Tb1.14Ga1.67S7\", \"Ba2GaErTe5\", \"InAs\", \"CsBi3Se5\", \"Li3Ni(SbO3)4\", \"Li2CdGe\", \"BaGa2SiS6\", \"BaAl4Se7\", \"Zn3As2\", \"Sc3GaC\", \"MnGePd\", \"UAu2\", \"UGa2\", \"AgInSe2\", \"BaF2\", \"Cu0.15Ga1.85Se2.85\", \"La2NiVO6\", \"SmNi2B2C\", \"CsYTe3O8\", \"EuCuSeF\", \"PtP2\", \"OsP4\", \"Rb3Nb2AsSe11\", \"FeSi2\", \"Sr3Ti2O7\", \"Li2CdGeS4\", \"BaIn2S4\", \"LuU2S3O2\", \"Ag1.75InSb5.75Se11\", \"Cr2NiS4\", \"Ag2ZnSiS4\", \"CdGeAs2\", \"CsZn4In5Se12\", \"InSb\", \"LiInS2\", \"CdGeAs2\", \"U2Re2C3\", \"Mg2Sn\", \"BeAlB\", \"UO\", \"TlInSe2\", \"BaUSe3\", \"Mg5B3O9F\", \"CdSb\", \"NaSbS2\", \"HgGa2S4\", \"ZnAs2\", \"HgSnO3\", \"Zn3As2\", \"TaAl3\", \"K2Gd2Ti3O10\", \"CdSb\", \"Ba2InTaO6\", \"PrB2Ru2\", \"Yb2Sn\", \"GaSb\", \"YbBaSn3\", \"Pb2BO4H\", \"Sn2SbS2I3\", \"Mg3Rh\", \"HoSi2Ru2\", \"ThAl\", \"Sn2WO5\", \"Pb6Sb6Se17\", \"NiO\", \"Cu11Sb4S13\", \"Li17Ti20O40\", \"Cu2GeSe3\", \"NdSbPd\", \"K2CsSb\", \"Ba3PN\", \"ZnAs2\", \"Cd3As2\", \"LiCu5P3O13\", \"AlCoO3\", \"Li2Sn5\", \"AgGaS2\", \"RbCaBO3\", \"LiZnN\", \"Co3H\", \"CuBr\", \"LiGaS2\", \"NdInAu\", \"PtSb2\", \"Cr2S3\", \"InSb0.99As0.01\", \"La3FMo4O16\", \"GaAs\", \"Pb2B3O7.5H2\", \"SrAl\", \"IrSe2\", \"Ba2Cu2ThSe5\", \"CsTa3Se2O12\", \"KI\", \"MgRh2Pb\", \"CdIn2Te4\", \"YCoO3\", \"Bi2Te2Se\", \"BaLa2In2Se7\", \"Hg0.6Cd0.4Se\", \"Ce4FeSe6O\", \"Ta1.33Zr0.67O0.12N3.03\", \"ZnIn2S4\", \"NiP2\"], \"hoverinfo\": \"x+y+text\", \"hoverlabel\": {\"font\": {\"size\": 25.0, \"family\": \"Courier\"}}, \"name\": null, \"showlegend\": null}], {\"titlefont\": {\"size\": 25.0, \"family\": \"Courier\"}, \"legend\": {\"font\": {\"size\": 25.0, \"family\": \"Courier\"}, \"x\": 0.1, \"y\": 1.1, \"orientation\": \"h\"}, \"xaxis\": {\"title\": \"Actual gap (eV)\", \"type\": \"linear\", \"titlefont\": {\"size\": 25.0, \"family\": \"Courier\"}, \"tickfont\": {\"size\": 25.0, \"family\": \"Courier\"}}, \"yaxis\": {\"title\": \"Predicted gap (eV)\", \"type\": \"linear\", \"titlefont\": {\"size\": 25.0, \"family\": \"Courier\"}, \"tickfont\": {\"size\": 25.0, \"family\": \"Courier\"}}, \"plot_bgcolor\": \"white\", \"paper_bgcolor\": \"white\", \"hoverlabel\": {\"font\": {\"size\": 25.0, \"family\": \"Courier\"}}, \"title\": \"\", \"hovermode\": \"closest\", \"margin\": {\"t\": 0, \"b\": 50.0, \"r\": 0, \"l\": 50.0, \"pad\": 0}}, {\"showLink\": true, \"linkText\": \"Export to plot.ly\"})});</script>"
      ]
     },
     "metadata": {},
     "output_type": "execute_result"
    }
   ],
   "source": [
    "from matminer.figrecipes.plot import PlotlyFig\n",
    "pf = PlotlyFig(mode='notebook', margins=0, x_title='Actual gap (eV)', y_title='Predicted gap (eV)')\n",
    "pf.xy([(y_test, y_pred)], labels=X_test.index, colors=X_test['PCA1'])"
   ]
  },
  {
   "cell_type": "markdown",
   "metadata": {
    "collapsed": true
   },
   "source": [
    "## 2) Two models: 1 regressor on nonmetals + 1 classifier for metal/nonmetals"
   ]
  },
  {
   "cell_type": "markdown",
   "metadata": {},
   "source": [
    "### Regressor for nonmetals (gap > 0)"
   ]
  },
  {
   "cell_type": "code",
   "execution_count": 83,
   "metadata": {
    "collapsed": true
   },
   "outputs": [],
   "source": [
    "df_pca_seco = df_pca[df[TARGET]>0]"
   ]
  },
  {
   "cell_type": "code",
   "execution_count": 84,
   "metadata": {
    "collapsed": true
   },
   "outputs": [],
   "source": [
    "X_train, X_test, y_train, y_test = train_test_split(df_pca_seco, df[df[TARGET]>0][TARGET], test_size=0.2, random_state=SEED)"
   ]
  },
  {
   "cell_type": "code",
   "execution_count": 92,
   "metadata": {
    "collapsed": true
   },
   "outputs": [],
   "source": [
    "model_reg2 = RandomizedSearchCV(estimator=RandomForestRegressor(), \n",
    "                           random_state=SEED,\n",
    "                           param_distributions=rf_params_dict,\n",
    "                           n_iter=15,\n",
    "                           scoring='neg_mean_squared_error',\n",
    "                           cv=5,\n",
    "                           verbose=1,\n",
    "                           n_jobs=-1)\n",
    "# with open(os.path.join(CALC_DIR, 'rf_optimized.pickle'), 'rb') as fm:\n",
    "#     model_reg2 = pickle.load(fm)"
   ]
  },
  {
   "cell_type": "code",
   "execution_count": 93,
   "metadata": {},
   "outputs": [
    {
     "name": "stdout",
     "output_type": "stream",
     "text": [
      "Fitting 5 folds for each of 15 candidates, totalling 75 fits\n"
     ]
    },
    {
     "name": "stderr",
     "output_type": "stream",
     "text": [
      "[Parallel(n_jobs=-1)]: Done  34 tasks      | elapsed:   13.4s\n",
      "[Parallel(n_jobs=-1)]: Done  75 out of  75 | elapsed:   30.1s finished\n"
     ]
    }
   ],
   "source": [
    "model_reg2.fit(X_train, y_train)\n",
    "with open(os.path.join(CALC_DIR, 'rf_optimized.pickle'), 'wb') as fm:\n",
    "    pickle.dump(model_reg2, fm)"
   ]
  },
  {
   "cell_type": "code",
   "execution_count": 94,
   "metadata": {},
   "outputs": [
    {
     "data": {
      "text/plain": [
       "-0.347173430557449"
      ]
     },
     "execution_count": 94,
     "metadata": {},
     "output_type": "execute_result"
    }
   ],
   "source": [
    "model_reg2.score(X_test, y_test)"
   ]
  },
  {
   "cell_type": "code",
   "execution_count": 95,
   "metadata": {},
   "outputs": [
    {
     "data": {
      "text/plain": [
       "0.8580584121922457"
      ]
     },
     "execution_count": 95,
     "metadata": {},
     "output_type": "execute_result"
    }
   ],
   "source": [
    "y_pred = model_reg2.predict(X_test)\n",
    "r2_score(y_test, y_pred)"
   ]
  },
  {
   "cell_type": "code",
   "execution_count": 96,
   "metadata": {},
   "outputs": [
    {
     "name": "stdout",
     "output_type": "stream",
     "text": [
      "5-fold cross-validation scores for the model only nonmentals\n",
      "RMSE: 0.5843 +- 0.0487\n"
     ]
    }
   ],
   "source": [
    "from sklearn.model_selection import KFold, cross_val_score\n",
    "\n",
    "cv = KFold(n_splits=NFOLD, shuffle=False, random_state=SEED)\n",
    "model_cv2 = RandomForestRegressor(**model_reg2.best_params_, n_jobs=-1)\n",
    "\n",
    "rmse_scores = [np.sqrt(abs(score)) for score in cross_val_score(model_cv2, df_pca_seco, df[df[TARGET]>0][TARGET], scoring='neg_mean_squared_error', cv=cv)]\n",
    "print('{}-fold cross-validation scores for the model only nonmentals'.format(NFOLD))\n",
    "print('RMSE: {0:.4f} +- {1:.4f}'.format(np.mean(rmse_scores), np.std(rmse_scores)))"
   ]
  },
  {
   "cell_type": "code",
   "execution_count": 97,
   "metadata": {},
   "outputs": [
    {
     "name": "stderr",
     "output_type": "stream",
     "text": [
      "IOPub data rate exceeded.\n",
      "The notebook server will temporarily stop sending output\n",
      "to the client in order to avoid crashing it.\n",
      "To change this limit, set the config variable\n",
      "`--NotebookApp.iopub_data_rate_limit`.\n"
     ]
    },
    {
     "data": {
      "text/html": [
       "<div id=\"825de0f5-f76f-4f11-a37b-f2a014e180e8\" style=\"height: 525px; width: 100%;\" class=\"plotly-graph-div\"></div><script type=\"text/javascript\">require([\"plotly\"], function(Plotly) { window.PLOTLYENV=window.PLOTLYENV || {};window.PLOTLYENV.BASE_URL=\"https://plot.ly\";Plotly.newPlot(\"825de0f5-f76f-4f11-a37b-f2a014e180e8\", [{\"type\": \"scatter\", \"x\": [1.7, 2.1, 2.35, 2.42, 1.87, 0.7, 3.48, 3.5, 0.9, 1.97, 2.45, 1.9, 1.27, 0.75, 3.61, 7.95, 1.92, 3.15, 4.19, 0.47, 0.85, 2.99, 1.32, 1.96, 0.7, 2.48, 0.2, 3.1, 2.96, 3.88, 1.75, 1.2, 0.64, 0.6, 2.0, 1.42, 1.4, 3.44, 6.31, 4.0, 1.45, 1.5, 2.83, 0.8, 1.42, 2.8, 2.47, 1.0, 0.36, 2.4, 4.9, 0.71, 2.33, 0.21, 0.7, 2.83, 2.92, 1.67, 0.6, 0.5, 1.11, 2.13, 2.56, 1.97, 0.6, 0.2, 1.2, 2.68, 1.66, 3.25, 2.01, 2.85, 1.02, 0.4, 0.16, 1.8, 2.65, 3.46, 0.26, 0.35, 2.06, 0.2, 0.43, 0.6, 1.3, 1.7, 0.66, 3.65, 1.18, 1.48, 1.37, 3.9, 2.21, 2.69, 0.9, 1.8, 2.64, 3.68, 5.71, 3.3, 2.14, 4.61, 0.89, 3.34, 2.58, 1.18, 3.21, 6.26, 1.42, 2.32, 1.67, 2.34, 1.6, 1.86, 2.16, 1.5, 0.58, 0.7, 2.3, 2.23, 3.5, 0.39, 0.96, 1.38, 3.43, 0.65, 2.16, 3.54, 1.17, 6.38, 0.28, 3.58, 4.0, 2.8, 1.42, 1.88, 1.32, 2.2, 0.12, 2.4, 1.4, 0.6, 3.41, 0.31, 0.94, 0.88, 3.41, 1.3, 2.06, 0.59, 0.49, 0.3, 3.39, 7.6, 1.6, 0.8, 1.2, 3.28, 3.71, 1.89, 4.75, 1.54, 0.95, 2.27, 3.76, 1.0, 3.21, 2.6, 2.4, 3.02, 0.16, 1.39, 1.95, 4.0, 1.07, 0.68, 2.31, 2.34, 2.06, 2.06, 2.4, 2.56, 2.55, 3.31, 2.41, 0.05, 1.95, 0.7, 2.39, 2.45, 1.1, 1.47, 0.21, 2.04, 0.38, 2.56, 2.44, 3.7, 2.8, 4.3, 0.33, 8.5, 1.96, 0.32, 0.66, 1.8, 5.3, 0.9, 0.95, 2.53, 2.2, 2.4, 0.82, 2.8, 2.4, 2.19, 1.45, 2.46, 0.11, 4.42, 1.25, 2.0, 2.59, 3.12, 3.73, 3.25, 1.9, 2.08, 0.59, 0.55, 4.19, 2.12, 0.45, 1.3, 0.17, 0.9, 3.23, 0.67, 2.65, 2.36, 1.85, 3.4, 6.53, 0.42, 2.79, 1.29, 5.54, 1.2, 2.58, 2.66, 1.83, 1.76, 0.21, 1.13, 0.75, 0.96, 0.14, 4.0, 1.88, 0.31, 0.95, 0.63, 1.45, 2.7, 2.87, 2.64, 4.0, 2.01, 1.51, 0.9, 1.43, 1.6, 1.65, 0.91, 0.75, 3.14, 0.5, 0.9, 2.11, 0.15, 2.8, 0.4, 6.4, 1.65, 0.8, 1.1, 4.27, 0.64, 2.1, 5.93, 1.2, 2.1, 2.5, 2.45, 2.4, 0.9, 3.42, 0.4, 0.12, 3.57, 0.27, 0.2, 1.05, 3.22, 0.9, 0.9, 4.9, 1.75, 1.22, 1.63, 2.31, 2.8, 2.7, 1.02, 0.28, 7.83, 1.42, 0.44, 1.41, 1.75, 0.8, 2.1, 2.7, 2.87, 0.32, 1.62, 0.29, 2.17, 1.6, 3.02, 0.72, 0.32, 8.1, 1.85, 3.0, 0.3, 2.15, 1.3, 0.34, 1.15, 1.68, 2.05, 2.7, 2.84, 2.37, 5.89, 1.04, 3.3, 1.75, 2.03, 2.23, 7.33, 2.64, 4.3, 0.32, 7.7, 1.8, 3.3, 6.6, 1.6, 2.17, 2.26, 0.71, 0.18, 2.32, 0.45, 2.57, 1.42, 3.25, 0.35, 0.06, 2.5, 1.52, 0.25, 0.4, 4.77, 0.93, 3.74, 4.9, 0.6, 2.0, 0.28, 1.9, 1.28, 0.9, 1.25, 0.19, 1.85, 0.5, 2.07, 0.22, 1.8, 2.1, 1.7, 1.69, 3.1, 0.8, 1.7, 1.7, 0.42, 3.1, 0.42, 4.4, 0.2, 5.76, 1.4, 1.86, 1.68, 0.75, 1.6, 1.44, 0.75, 3.08, 3.59, 0.14, 0.3, 1.07, 2.47, 1.35, 2.59, 0.65, 1.01, 6.25, 1.89, 1.5, 2.58, 2.46, 0.81, 1.07, 1.67, 1.74, 0.87, 1.42, 2.7, 2.46, 1.37, 2.7, 1.81, 3.46, 2.85, 1.0, 6.53, 3.71, 1.98, 0.18, 1.0, 1.5, 3.02, 1.0, 1.15, 0.95, 3.02, 0.22, 1.4, 3.75, 2.45, 2.08, 5.51, 2.15, 2.29, 1.8, 1.07, 1.26, 2.82, 2.46, 1.55, 1.89, 0.67, 2.55, 2.8, 1.84, 2.35, 0.43, 2.45, 0.27, 0.26, 1.6, 3.0, 1.0, 2.38, 1.88, 3.2, 4.47, 2.06, 1.74, 1.22, 1.84, 0.9, 2.2, 0.28, 1.37, 3.8, 2.0, 3.1, 0.45, 2.6, 2.0, 2.06, 6.08, 0.82, 3.46, 0.92, 0.4, 1.0, 0.51, 2.54, 3.6, 5.56, 3.48, 3.88, 1.17, 1.77, 3.27, 2.23, 3.1, 2.59, 0.8, 6.37, 2.54, 1.89, 1.4, 2.7, 2.12, 2.0, 4.59, 1.54, 6.53, 1.8, 2.0, 1.7, 0.95, 6.4, 0.24, 0.73, 1.8, 2.91, 1.56, 1.5, 1.6, 2.84, 0.6, 3.52, 1.2, 0.14, 0.15, 0.8, 2.1, 0.7, 1.0, 7.8, 2.4, 0.85, 2.3, 0.43, 6.2, 4.89, 3.2, 2.1, 3.5, 0.7, 2.3, 2.1, 1.06, 2.34, 3.67, 0.28, 2.0, 2.56, 1.95, 2.06, 1.9, 1.5, 4.2, 4.2, 0.43, 2.09, 2.2, 0.29, 3.22, 2.8, 1.69, 0.54, 2.24, 1.59, 0.67, 0.64, 2.52, 1.28, 3.63, 6.43, 3.93, 5.13, 3.0, 3.56, 1.65, 1.77, 3.77, 0.55, 2.6, 0.81, 2.3, 1.07, 2.21, 1.82, 1.88, 3.01, 1.34, 2.23, 0.39, 6.0, 2.73, 1.07, 0.9, 1.58, 3.1, 1.32, 1.82, 0.5, 0.35, 2.4, 0.4, 3.12, 3.2, 2.5, 0.88, 1.26, 3.44, 1.49, 1.25, 2.33, 2.81, 0.25, 3.54, 1.5, 1.57, 3.39, 2.05, 8.1, 3.99, 0.11, 1.58, 2.13, 1.65, 2.12, 0.74, 1.45, 2.54, 2.17, 1.58, 0.26, 6.7, 2.24, 2.7, 3.2, 0.73, 3.0, 3.48, 0.88, 3.3, 4.9, 0.28, 1.92, 3.01, 0.35, 0.15, 1.52, 4.89, 5.15, 2.9, 1.62, 4.1, 1.98, 2.64, 1.02, 1.32, 3.68, 2.3, 0.7, 8.5, 1.51, 1.81, 1.66, 1.69, 2.16, 5.5, 6.53, 8.4, 0.46, 2.09, 1.08, 2.36, 2.9, 0.41, 2.78, 2.34, 0.35, 1.96, 1.42, 1.25, 0.28, 1.1, 1.07, 2.58, 1.48, 2.53, 6.0, 2.53, 1.8, 0.45, 0.2, 0.5, 1.56, 0.94, 0.34, 1.43, 9.33, 5.4, 2.62, 2.75, 3.6, 1.05, 1.25, 2.18, 0.37, 0.5, 4.87, 2.8, 0.7, 1.8, 2.5, 3.13, 1.93, 0.3, 0.28, 2.64, 3.0, 3.64, 0.18, 3.8, 3.4, 1.2, 1.65, 4.76, 1.07, 2.15, 1.63, 2.85, 2.35, 1.96, 0.27, 5.61, 1.02, 1.0, 1.87, 3.55], \"y\": [1.4938157079032077, 1.6151307310051073, 2.056402073551448, 1.9026182007616563, 2.336746536519038, 0.6324699673243427, 3.7472591893523166, 3.4619076098901034, 1.4107878446553448, 3.0639600215062717, 2.448350079365079, 2.2595310331335337, 1.4298965284021534, 1.0672740684315694, 1.6791821434815193, 7.252964400321904, 1.7316438505938505, 3.1075934381590624, 3.985852566738816, 1.115344066766567, 1.1900964178182927, 2.9340475322594077, 1.2483333333333346, 1.930514214812964, 1.6330835239760242, 3.443318800782552, 0.5474343214424467, 4.817343966172717, 3.442665236046848, 3.356968183205683, 1.8878947368421006, 1.1474602537740048, 0.24577588800088765, 1.0772062486124987, 1.9228957519563772, 2.747744622807746, 1.3015830931568433, 3.4078947368420915, 4.6548042455461225, 3.7138544869713614, 1.3957324881368631, 2.7628160545704294, 2.402481616161616, 0.9592633621239871, 1.7423957446026208, 2.0152120127314217, 2.2160102649433897, 1.3707446835803083, 0.27630375000000046, 2.471524626484627, 3.4253639845571073, 0.8570236151348657, 2.0062639046370263, 0.2567570143745145, 0.6533515672521923, 2.467135983252858, 2.4642556563575315, 1.6846481784881784, 0.5913211861055614, 0.4952173956598959, 1.0929349568487075, 3.725987401973029, 2.667024500152625, 2.154728839910091, 0.4236930511155513, 1.2673723825041927, 1.0867941603535358, 2.4492924508130756, 1.1725539661033413, 2.945217629245755, 2.0905030135142626, 2.2305368527306033, 0.9638206447025199, 1.0151346774753016, 0.2454255807387055, 1.689084139679766, 2.8916079276279265, 3.6936685101703857, 0.27879541756854254, 0.7607776133588634, 0.9635517268842273, 0.30815206265956285, 0.6666982650682649, 1.3081564812964817, 1.3744503363997131, 1.7614798326673329, 0.7788154419191919, 2.811725937257188, 1.3249266209484956, 1.6025048633311139, 1.7026661314380065, 3.2343327513093625, 1.7670116647241647, 2.7852041323260077, 1.6564013811188816, 3.238381311605059, 2.5285000000000055, 3.7124297630841365, 4.8039497425491176, 2.7760800370462873, 2.1685146757409264, 4.24826498947969, 1.6330835239760242, 3.0739070981795975, 1.9831375018037511, 1.2407411640442887, 3.4011154997780033, 6.190901024184138, 1.364117647058828, 2.28148604569042, 1.6601809695165937, 2.0354595879814634, 1.917405078324454, 1.7502051705239203, 2.0765150101981367, 1.9641847090300057, 0.3824981287462536, 0.9271014018620272, 1.7865101024669767, 2.030620382187258, 2.327084838147962, 1.329711731324231, 0.8912048192085703, 1.1507061444111444, 3.286839953796202, 0.7580044034437785, 1.9409879599567108, 3.1739078175296895, 1.406717318237317, 2.9871249610805872, 0.37051572115384634, 3.0979006606587842, 4.123391799936175, 1.9257005291236553, 1.6846481784881784, 2.247385681193806, 1.3633112499999986, 2.9629336691086703, 0.24577588800088765, 2.1863453612359867, 1.4136244479131976, 1.0968562222499723, 2.6911628982822737, 0.35846572281884803, 0.9708504352591857, 0.8901843544649795, 3.845211518897772, 1.2483333333333346, 2.2948740869547115, 0.7263303956460209, 0.4859009113802866, 0.2352043036130537, 1.980473649336773, 4.939721817973695, 2.9839268172799427, 0.9508824662837165, 1.9915203487484758, 2.7491010353535352, 3.1739078175296895, 1.3569711318542566, 4.1356111726467955, 2.09567114066489, 1.4274101409007656, 1.53755493596681, 3.1401678926628915, 1.0750644012237773, 2.683932737748362, 2.3587499999999904, 2.4974654324148067, 2.447558785103786, 0.15702935064935056, 0.9910535252941508, 1.9353787334193557, 3.2893897953764064, 0.9508824662837165, 0.7615446549977797, 2.114596214549339, 2.2207336585636575, 2.1059325605644372, 1.2240306615606613, 2.154384154603567, 2.3587499999999904, 2.411824586247087, 3.2472256715506704, 2.0781100885919623, 0.1328156236818738, 1.550045370948495, 0.806791228077478, 2.2856249999999947, 0.8311393280330782, 0.6163249648268403, 1.4378809865134867, 0.2090431135531136, 2.0892826692057933, 0.6583311476023979, 2.574794679764679, 2.5285000000000055, 2.8939081410585032, 2.2857538292263286, 3.941903539307915, 0.27369248938561436, 8.554658385017763, 2.2041495482989246, 0.6893923500804753, 1.2346692037823292, 1.917405078324454, 5.171272072441451, 0.935704259453997, 1.868152002911304, 2.377898399170274, 2.229057384629259, 2.3791588206238212, 0.7778122015484524, 2.397163600146198, 2.069362362012989, 2.4003094921744914, 1.5711255076867576, 2.465364928682428, 0.1328156236818738, 3.52343293858919, 1.4122101539432788, 2.0537342778055288, 2.583009065101565, 2.6856969951576275, 3.7058823529411846, 3.4619076098901034, 1.0816231287462537, 1.6013171409146407, 0.5913211861055614, 2.260381773018648, 3.4823539274614266, 2.4652642315323563, 1.084678289973915, 1.3633112499999986, 0.3245760079503829, 1.1999793933843927, 3.1314297702991474, 1.0882773388417146, 2.143009903291153, 1.485433061799312, 0.9867290125152621, 2.9178177249833497, 6.263471784049283, 0.6797647977716725, 2.46243495865246, 1.549101361832612, 4.945220329809079, 1.1313414872627374, 2.5285000000000055, 3.297584519647021, 1.8878947368421006, 1.95340723602786, 0.19336651959151954, 1.1849549610805865, 0.806791228077478, 1.1436425267787766, 0.2520968700049947, 3.2662302827034084, 1.747694670121546, 0.2520968700049947, 2.20219349560162, 1.3026594604007105, 1.366770888278387, 2.5837077102064567, 3.803599028194028, 2.5243538745976246, 3.743263805916306, 1.7845412513181276, 0.6258900920607168, 1.6246966057553567, 1.1063581273587522, 1.5357856272893782, 1.8582714964202476, 1.0867941603535358, 1.4564555384892888, 2.8424842853674095, 0.35846572281884803, 0.718479991189366, 1.7239766177572426, 0.1511851814158064, 2.7852041323260077, 0.6583311476023979, 3.0880998185476813, 1.8582714964202476, 0.6870191972610721, 1.1900964178182927, 4.128972680236431, 0.7243090879259628, 3.3578506202824925, 6.186415062090673, 0.9231790077283821, 2.0042520494783007, 2.754241099664223, 2.3778738594044855, 2.377898399170274, 1.1356746459096458, 2.6110171008158485, 0.7603038801476301, 0.2064765509490505, 3.316887445540571, 0.29955381216006205, 0.3257054460123211, 1.1114311931818193, 3.2622286607142854, 0.7104341239316238, 1.0867941603535358, 4.914268099608726, 1.5304428882922647, 1.1954651854395597, 1.7614798326673329, 2.074257114135863, 3.6944803779115616, 2.3225381021062272, 1.3416479558635805, 0.2804810026085025, 7.117480901459654, 1.4789473684210517, 0.7380521577727823, 1.5315191749223016, 1.5527912769869021, 1.5443079993617508, 1.5239213472638478, 2.5243538745976246, 2.9457141387778862, 0.7568977632783885, 1.7266256968031977, 0.295067654220779, 2.534133804112556, 1.9266200474525461, 2.4458179310966814, 1.023718300241426, 2.8025570929070924, 8.361203068528699, 2.9949894769813534, 2.312728284423909, 1.0240778908591408, 2.4274213828532587, 3.86652182969808, 0.27630375000000046, 1.1053228185009434, 1.6616943040293055, 2.0596184948384946, 2.53366999958375, 2.7815033610139865, 1.210733392126879, 6.186415062090673, 1.0437329403929412, 3.5931626490176485, 2.034406727924853, 2.089205861291488, 1.6953766726329218, 6.614482144383394, 2.3587499999999904, 3.5735122940254196, 0.34556481234043757, 7.117480901459654, 1.72386856580919, 2.6346944953657445, 7.255831019952269, 1.5652021434815184, 1.6434361636974126, 2.0780616031191057, 0.9771829786879791, 0.21844166666666684, 2.3587499999999904, 0.7048667343808153, 2.536758468892222, 1.0508713638444882, 2.3830148879592623, 0.25804237422299925, 0.6541465341602845, 2.583009065101565, 1.4789473684210517, 1.220445988872239, 0.5526927797202797, 4.460293743617494, 0.9886413716144962, 3.679543231213231, 3.6908737040043285, 0.8765931459512717, 2.3676709740953483, 0.24769357836607842, 1.6045110307054065, 1.882705814879565, 0.7105496577034074, 1.0508713638444882, 0.27630375000000046, 1.9187305759518265, 1.035645108918859, 1.9388288956182718, 0.17927254093129058, 1.5823109629953382, 2.042528576284825, 1.9539615356171616, 1.6846481784881784, 2.6856969951576275, 1.589346644327894, 1.6846481784881784, 1.8878947368421006, 0.35179077263014774, 3.1038018798562548, 0.3988888888888898, 2.614292621753246, 0.4118074161949165, 4.407901874999997, 0.9932079538517038, 1.7662786258186258, 1.8211659968357672, 0.8145948810217564, 0.7638760717795279, 1.1094230715118216, 2.1321925000000017, 2.964522747738374, 3.316887445540571, 0.24577588800088765, 1.035645108918859, 1.160426897408148, 2.5499973507742264, 1.9096780672105678, 2.4958899090492848, 1.0962647905566656, 0.9508824662837165, 6.190901024184138, 1.7395107801920298, 1.4992741167859918, 2.5285000000000055, 2.667024500152625, 0.7778122015484524, 1.074282490911866, 1.917405078324454, 1.9703159423909409, 1.145432072580198, 1.4789473684210517, 2.586078103771226, 2.338835393148517, 1.4283276697607954, 2.6577123945498964, 2.011888299339551, 3.078390088106337, 2.3685806724525467, 1.145432072580198, 5.216009093545344, 4.054875158730159, 2.3427420486092863, 0.2396906258325008, 2.2029739094932843, 1.5050136029942291, 2.40036054043179, 1.113047772227773, 1.0690423210816964, 0.45644100670163185, 2.950010146520141, 1.0683689718614715, 1.3271496315490066, 3.4011154997780033, 3.9421716130397386, 1.4786243759712503, 4.267397329717065, 1.7977619772588522, 2.9629336691086703, 1.7670802259546008, 0.7868250788794541, 1.0394437871156617, 2.7852041323260077, 2.551381657856033, 1.5050136029942291, 1.6151307310051073, 0.7778122015484524, 1.326466336996337, 2.6321041362110127, 1.7929382638195133, 2.344642291181041, 0.24577588800088765, 2.4931711291486267, 0.2520968700049947, 0.40384767538017546, 1.563261974345099, 3.5789350314269073, 0.9690183457514712, 2.3241707487651215, 1.925530710608835, 5.6843611367105105, 3.727774871811407, 3.248093193944213, 1.8878947368421006, 0.8089803316128308, 1.6470456927100685, 1.3576325758269505, 1.4126673606948594, 0.3314528937728937, 0.8526235791985789, 3.493458641358641, 1.6933162755994007, 4.225713961038959, 0.3988888888888898, 1.4876109398204138, 2.0086252271339773, 1.9388288956182718, 6.018895805444543, 1.079942292984793, 3.4011154997780033, 0.7451628202353205, 1.0185601006632257, 1.1507117181429678, 0.9886413716144962, 2.0130090127927613, 2.407763573889562, 4.945220329809079, 3.4078947368420915, 3.639265944264068, 1.1094230715118216, 1.8878947368421006, 4.721878101620606, 2.018663741532159, 3.085838687493064, 2.5285000000000055, 1.0772062486124987, 6.190901024184138, 2.428906115065491, 1.7524830676961938, 1.503011606967595, 2.7854261212398734, 1.4384115257659011, 2.0123833043674155, 2.6527306014124754, 2.074280092546341, 6.10652143141581, 1.6773486690392938, 1.9501123384254628, 2.2118752052114563, 1.0262302927015794, 6.226647215700967, 0.34829381285381267, 0.806791228077478, 1.67304650509213, 2.964522747738374, 1.2417027574508817, 2.1040615618409357, 1.5241333678821187, 2.583009065101565, 1.158418898809524, 3.445053640109893, 1.2407411640442887, 0.19565501755189257, 0.5013224366605615, 0.806791228077478, 2.0062639046370263, 0.7423071677627927, 1.3117011819430562, 6.88665996975247, 2.518601039654791, 1.0262302927015794, 2.8317311330336343, 0.36875921578421594, 5.481260227480853, 4.914268099608726, 3.4078947368420915, 2.134553895340771, 3.348337310259183, 0.6943519737900989, 1.677150988109113, 2.4861912524975027, 1.0174463274919525, 3.796578514402263, 3.7058823529411846, 0.38978357038794575, 1.3817066187978693, 2.5454823732517484, 1.9798447367216112, 2.3587499999999904, 2.613835658161282, 1.8737376518620275, 2.9477490664196915, 4.111275026917526, 0.5061970833333337, 2.08208333333334, 2.134602847222221, 0.35568442592130106, 2.6260997473359975, 2.3587499999999904, 1.7614798326673329, 2.140916161546788, 2.2856249999999947, 1.5357856272893782, 0.806791228077478, 0.6752378980741487, 2.5285000000000055, 1.1240936592574093, 3.5709278828444955, 5.481260227480853, 4.77706434461372, 2.6479210078281694, 3.946738342768347, 3.49148915452603, 1.7880092370823615, 1.7682090154290173, 3.3018880442474194, 0.4952173956598959, 2.3336161636280384, 0.7778122015484524, 1.4048652532190034, 1.046332658036408, 2.134553895340771, 1.4436047608641365, 1.7423957446026208, 2.4352509731934724, 1.364117647058828, 2.5292496641512088, 0.38143227688977666, 5.088426850634743, 2.574794679764679, 1.8384659210234207, 1.448151101537353, 1.4966136467698965, 2.587469584373957, 1.3744503363997131, 1.8878947368421006, 0.9318238030281121, 0.777715313228438, 2.166456601037853, 0.838571251318126, 3.5053324299311805, 3.0074256358918894, 2.844298365592741, 0.9548773720723724, 1.5752430540293039, 3.1966385355616596, 1.6616943040293055, 1.9567593029193027, 1.6865928345265835, 2.7852041323260077, 0.21844166666666684, 3.4881362746281503, 1.960028106823731, 1.6589137601981354, 3.4619076098901034, 2.176578273323899, 6.88665996975247, 3.5952579313048045, 0.1572215346459096, 1.5267326420801413, 2.08208333333334, 1.4304887003274505, 1.9809131844544354, 0.806791228077478, 1.728620854770231, 2.517355730588855, 2.453390886474637, 1.4789473684210517, 0.21844166666666684, 5.481260227480853, 2.4717374026667795, 2.5064827374014893, 2.3830148879592623, 1.035645108918859, 2.456558304057054, 3.4619076098901034, 1.1931998128954386, 2.950010146520141, 4.273491869552231, 0.3988888888888898, 2.9669340079365076, 2.950010146520141, 0.5526927797202797, 0.2520968700049947, 1.4789473684210517, 3.6646503071234298, 2.1549028576718694, 2.705542657203908, 1.6886234787434784, 3.4089539169164182, 2.089205861291488, 3.2991868963675213, 1.1057196303696302, 1.28194979895105, 3.7058823529411846, 3.8528318386474645, 1.1705202740315248, 8.361203068528699, 1.4789473684210517, 1.635232863525362, 1.988627254273504, 1.6616943040293055, 1.236802250180375, 3.0894789363414357, 5.412588551656675, 8.554658385017763, 0.5061970833333337, 2.0868959648684653, 1.449592790612166, 2.285779956709957, 1.3989620704295709, 1.482246913086912, 2.3587499999999904, 2.848442366175493, 0.2911907992701743, 1.9231989118520365, 1.364117647058828, 2.3644560035103783, 0.6893923500804753, 1.0024747893772892, 1.2407411640442887, 2.2687570614108115, 1.65432752657065, 2.583009065101565, 5.711469978771222, 2.5285000000000055, 1.6073793462787211, 3.1590780677655674, 0.3216628499972248, 1.3304950797813293, 1.5357856272893782, 0.9529165714840714, 0.996709054972805, 1.5357856272893782, 7.697715654553787, 5.002591513764013, 2.335613122641249, 2.568204286963036, 3.019454356129985, 1.15992105006105, 1.4283276697607954, 1.9734117107892106, 0.4112924414474412, 0.7397529705710952, 4.459536395548896, 1.8504410516566774, 0.726420512820513, 2.264031959498835, 2.3587499999999904, 3.136205938714065, 2.011888299339551, 1.5019218687562446, 0.34829381285381267, 2.574794679764679, 1.4553273898323897, 2.5268609122821615, 0.27369248938561436, 5.275498174464418, 3.5789350314269073, 1.6438887561050075, 0.754824797494172, 5.222143408327785, 1.1954651854395597, 2.328914868326117, 1.7631504108391602, 2.7515154183316657, 2.0724571361971362, 1.7802032357919864, 0.21844166666666684, 6.018895805444543, 1.1432683093295608, 0.9741350381562884, 1.9798447367216112, 3.723188326257075], \"mode\": \"markers\", \"marker\": {\"symbol\": \"circle\", \"line\": {\"width\": 1, \"color\": \"black\"}, \"showscale\": true, \"size\": 10.0, \"color\": [-0.019413296064737094, -0.7238246574161251, -1.7000213895083305, 3.8938410491044473, -3.9033182787188982, 5.436196431443074, -6.471629800019554, -0.5961096895409822, 1.507348541193252, -6.289543191139379, -3.60989841556205, 0.8270866995934971, -1.2027226605562964, 0.9595321678125383, -0.5578143865070739, -3.2648650608118057, 3.5397749916155234, -5.090298569275984, -8.656314812206752, 5.125162378660192, 2.967408669129596, -1.5845070119297944, 3.7348108665801347, -2.409090407960976, 1.3001271534487349, -4.94293198267611, 5.720630095785364, -8.458476317202573, -4.690935405968648, -4.541556729167521, 3.4097139194844486, 3.0090703505869043, 4.965862663270668, 1.6168466419975258, -2.674493589659596, -3.7210777235119226, 0.9851286597772742, -2.3683885230006867, -9.164592325555988, -7.543850860153356, 3.4866051563035505, -5.4637112019142835, -4.31127396686547, 1.919774573594389, 1.2476157100444145, 3.4679501828850454, -1.0485703304985305, 1.2268204480364264, 6.3368287650115045, -6.9897044040054785, -5.961214317948192, -0.0324175386164947, 1.5540345747716744, 5.351430220900447, 3.4397621844149096, -1.0945641878862626, -2.6943618761000203, 5.0069528262571765, 2.7183399267929254, 6.040797566852741, 2.3900784032281925, -8.012807656176358, -1.1064682041969514, -1.7637760324959764, 5.480600953624194, 3.367596001489082, 4.809612207160777, -3.9784982832596243, 2.4196265074309635, -3.096875271157977, -5.142037800400997, -4.441576496392993, 3.484864374421986, -0.029785774257715218, 3.8199425471022193, 2.7950066447312176, -4.0865861799565, -7.9572129750035625, 4.502069124389761, 2.9306008589647203, 2.90067977969436, 6.208810739481122, -0.383595040299263, -3.0703141502816615, 3.149791210160839, 1.712865538447845, 5.022598966466546, -4.697766465666217, 1.3964864866275135, 0.42017042168430746, -2.2573294379704842, -3.6803998051990683, -0.7279721930297407, 3.3233210863758234, 1.2299899653056512, -1.78461368056989, 1.2320639139278031, -7.920669331447787, -7.616389195411307, -1.080974257528367, -2.6639402082916543, -2.54524539056912, 1.3001271534487349, -6.0120932344143165, -1.7515121485957297, 3.2162258435000814, 0.6031218658206098, -1.228125853127103, 2.720820110966241, -3.400865899854314, -2.386989747844329, 2.021759513022692, -3.044466876910707, 3.5368429623485986, -1.2987445766994727, 3.490679723733131, 4.0865181808280155, 2.7712305522871907, 1.1510350779587406, -0.8045131288344927, -2.1433383547584968, 0.23327145629323004, 5.2560167620771265, 4.215457032205988, -2.139860855142305, 5.041379390015006, -0.4648755321801281, 1.1749268223347054, 2.0379492181867818, -5.370663805314874, 2.420989663582969, -2.5625688242097904, -6.8677432208695945, -3.494010443260053, 5.0069528262571765, -0.826600320004391, 3.5551235423349197, -2.8124934520988947, 4.965862663270668, 0.8818325256665415, -3.2022056384391755, -0.24357574957614161, -4.904084949841734, 4.557120885286008, 3.325463383950419, 4.826615397556876, -7.482855548966489, 3.7348108665801347, -2.528148040122593, 4.200621171362072, 3.7146334202702, 5.8672192825169045, -6.307907359716742, -8.766046817614045, -2.735521543139484, 2.5950962818875527, -1.3972953028638406, -4.854572332921099, 1.1749268223347054, 0.44818859783324516, -7.630002225705022, -2.2509284961365554, 0.42609311023331875, 1.0128348725988532, -6.408585885254948, 6.0325530180992075, -3.25597437951333, 2.1812527783694455, -3.234710589062652, -5.021347531278642, 5.844427199764805, 3.7067951532463317, 2.7998396580096103, -5.463075064714002, 2.5950962818875527, 4.828945006327828, -1.5263840734018503, -2.5360812188313466, -1.355904010090659, -0.9904826154510281, 1.8966455726498053, 2.1812527783694455, -3.4424798611087404, 2.679456362949798, -2.106778867028109, 5.880544835994168, 2.779926391506781, 3.4608230135885916, 4.698192337527472, 1.7776177958862844, 4.501196038676638, 3.649789667694171, 4.888004849592248, -2.203959574526536, -2.4637285372506716, 0.638284186556195, 1.2320639139278031, -4.869495072256292, -5.87056290877774, -7.772232078576056, 2.5253290747860992, -5.278723709825688, -5.2890680977745, -0.9605510983315594, 3.3093966944088065, -3.044466876910707, -7.559288546421486, 5.15187295674965, 2.983877625281762, 0.9928641531931249, -1.9250724772000516, -4.054222916489312, 5.5539320836447725, -3.0577377398128878, 1.073031350561595, 1.2720112377483135, 1.1931899060589684, 1.6334849864622774, 5.880544835994168, -6.962856211282762, 1.6938605159751772, -2.4848698154706974, 1.667968064743593, 3.125833895512898, 1.262729069496322, -0.5961096895409822, 4.079084967879176, -3.2082340145295367, 2.7183399267929254, -5.036279302893233, -8.593506138290993, -6.167702035280047, 0.31499309883790927, 3.5551235423349197, 5.181867187716565, 1.0679374594730864, -3.105230339592623, 3.654927028344313, -2.061622727815048, -1.1383022237044582, 4.567033399819348, -3.5364612826501856, -9.010474205346348, 2.9080784369405235, 0.5777214310589505, 1.9597111749416123, -3.052674268937683, 2.452261697023117, 1.2320639139278031, 2.2558669093349324, 3.4097139194844486, -0.980429870481558, 5.619358014309396, 0.9233481526440652, 3.4608230135885916, 2.434973289513144, 4.464418044974107, -3.4967387668973693, 1.352958393818999, 4.464418044974107, -2.075616135658122, 0.9077936853409262, 5.006480739080192, 1.5333062427931066, -7.8274969601652735, -3.2324199480178324, -6.406594617521657, -3.949829555114568, 3.156583940045938, 0.9980800124750204, 0.6541145300365127, 5.586889132887369, -2.0834392642990087, 4.809612207160777, 0.4636394901947817, -4.519251482778525, 4.557120885286008, 3.949041377156212, -1.3021762108760044, 5.811881071899449, 3.3233210863758234, -2.4637285372506716, -9.193458623264265, -2.0834392642990087, 2.8104671927818434, 2.967408669129596, -6.099639571122771, 1.3487652768695404, -4.063398323690888, -1.7795763052432019, 5.41442922496362, -3.1442153390318577, 0.5117803521091449, -1.7900653250297993, 0.9928641531931249, -2.8761274521042326, -4.729579509159227, 3.4397193247279176, 3.804319451731678, -2.918261906366347, 3.6721358113113713, 4.751573877741803, 4.74501991060383, 0.2727404975285363, 4.075335515438097, 4.809612207160777, -3.883673700963496, 0.36342554066406685, 2.0155615046877697, 1.712865538447845, -1.759745462097303, -2.50606015247534, -3.4119197260723024, 0.5165370328297106, 4.299726807056742, -5.7867385396938635, 5.197163116162632, 3.493747543241561, -0.2058325948292836, -0.981913556704102, -2.6747843864181133, 2.00609573180977, -3.2324199480178324, -3.344888004127087, 0.06569359706502682, 4.187775016183709, 4.4762767410082605, -3.4589161900229337, -6.4888226941877365, -2.6763436316720237, 0.6030419183482648, -3.6457227818866142, -6.01867328037334, -6.264430515075099, -5.647345663333322, -0.4449191417988617, -4.637725675493162, -4.940326089632933, 6.3368287650115045, 1.5339163205341515, 4.377310183822501, 1.2433454871910632, -4.885433227509916, -2.40507732593806, 5.792428069299002, -1.7795763052432019, 4.5684766023644, -8.126040661476448, -1.8651964488337927, 1.512775852201293, -1.719853237934322, -8.534142800942941, 2.1812527783694455, -3.2468777744204784, 5.146005823574468, -5.7867385396938635, -1.6276875137832978, -4.852648542865366, -9.41150015848511, 2.7755044447059083, 1.7669070774294218, 1.0696186054138488, 3.4886886882620187, 6.682791238812123, 2.1812527783694455, 2.6589855385899837, 1.575564658695764, 3.5656187676429174, 0.45872349390851014, 5.345642099048541, 0.5204491775185273, 1.667968064743593, 5.197163116162632, 1.5671232014698753, 3.9445051415972747, -8.61776948391236, 5.058413666306686, -3.728284121463689, -2.5353083034007415, 1.7174326363806451, -1.2576461476361305, 4.2101193403575685, -0.7217750298309638, -1.6763727346481108, 3.900019760859736, 3.5656187676429174, 6.3368287650115045, -4.294973822037457, 1.158333879803392, 1.4569102340459825, 3.8004531623700344, 0.6249148422801837, 3.7152943542934915, -2.423386784473412, 5.0069528262571765, 3.125833895512898, 0.49932815107356093, 5.0069528262571765, 3.4097139194844486, 4.972078482651618, -7.249550219914868, 5.154202729562821, -5.441467948577766, 1.45211210260029, -8.70013631035033, 1.2778996665616789, -3.6875354887550116, 2.8053432366198208, 4.757309515963555, 5.774961938043169, 5.288729215175555, -0.7028934553597171, 2.3052379115607007, -2.918261906366347, 4.965862663270668, 1.158333879803392, 3.5697668190906557, -4.969984222125694, -1.702370052811057, -0.5733651255378804, 2.966467366478007, 2.5950962818875527, -1.228125853127103, 2.5799246257520316, 0.5350988679132834, 1.2320639139278031, -1.1064682041969514, 5.5539320836447725, 2.672211007264843, -3.044466876910707, 0.4916595899436902, 2.135848129617692, 5.197163116162632, 1.5236636606147085, -1.709974324808471, 4.375765369020673, -4.39771786478298, 4.442824176288201, -1.8097410761712154, -2.0305163658217005, 2.135848129617692, -9.65471936530971, -7.522421935834839, -6.864290354863282, 5.8801745022986855, -1.6518009925420296, 0.7987530103930901, -3.3356803077559425, 1.2320353036777238, 0.8818629479269542, 3.5353251706101094, 2.6408183014683786, 4.183100261895609, 3.05991202881106, 0.6031218658206098, -7.9669352492374585, -1.2525690783329944, -5.413882626241894, -1.959813629655263, -2.8124934520988947, 0.445302447620762, 2.1728404563021404, -0.3762284967794055, 3.3233210863758234, -3.546213508529671, 0.7987530103930901, -0.7238246574161251, 5.5539320836447725, 3.3670512286832253, -2.4480274622255496, 3.118626760802909, -5.6959402787700695, 4.965862663270668, 1.5934237805871598, 4.464418044974107, 5.609395813077971, -1.9750930431997373, -8.251408816076465, 3.3319457681837235, 3.8794066936316165, 1.1158682798236017, -8.114721997327852, 1.6537817962021952, 1.8711247704428666, 3.4097139194844486, 3.33958722519855, -2.1310812615303925, -0.7300476760912833, 0.6205703475607767, 3.6326630498334227, 5.254128501185874, -5.912097589608734, 2.3128506935536324, -8.103991938808118, 5.154202729562821, 2.695926730571197, -1.5946609865893462, 1.4569102340459825, -1.858625523025113, 3.294573914655794, 0.6031218658206098, -0.8861864653727968, 0.20624587360428234, -1.0209250060573953, 5.058413666306686, -0.16376738452696782, -2.9710445801882064, -3.052674268937683, -2.3683885230006867, -7.156340092184779, 5.288729215175555, 3.4097139194844486, -9.538409220859803, 1.945429271184931, -3.729897663141831, 1.2320639139278031, 1.6168466419975258, -1.228125853127103, -6.016904663665902, 0.3826963799316956, 3.1559442017313355, -3.196068038353474, -0.2537149937854103, -1.6321982920367861, -5.313831941132449, -2.8425661396173387, -9.38907773525523, 2.0755412047409925, 0.7397179447945308, -2.396566122851517, 3.135123799240981, -1.2221533795190513, 6.6333160075703805, 3.4608230135885916, 3.4568291160606597, 2.3052379115607007, 1.1524325671616669, -2.893725383247051, -1.9965712135239877, 1.667968064743593, 1.7909485968551953, -7.800189554200056, 3.2162258435000814, 6.126126041999619, 2.257131984604811, 3.4608230135885916, 1.5540345747716744, 1.949300148592836, -1.3906330065654455, -6.360112639458864, -4.8763973469953745, 3.135123799240981, -4.782167051713008, 5.641173892170619, -8.653906982951995, -3.883673700963496, -2.3683885230006867, -0.8899583680090719, 2.6138914547773626, 4.785760050972932, -0.5912273483962817, -3.8028535813980247, -0.44661839738693515, -8.881815553825216, 1.262729069496322, 6.213928859763143, 1.8999792294360758, -2.300740688499931, -1.2872182056941477, 2.1812527783694455, -5.277667197128115, -2.985847047551758, -6.2166839257479385, -3.705815940213928, 6.3147921710347275, 3.82597448921011, -2.069897214894616, 3.784127383104867, -1.595223425202369, 2.1812527783694455, 1.712865538447845, -2.1034019204730843, 4.698192337527472, 5.586889132887369, 3.4608230135885916, 3.863026592793646, 1.2320639139278031, 5.241552883516597, -6.369315975284206, -8.653906982951995, -9.280952028380616, -0.14578296742249597, -5.209851262496643, -7.465815240390743, 1.8085317820765392, 4.582989316007318, 0.9383507630340696, 6.040797566852741, -3.852755929930724, 5.5539320836447725, -1.1386108655095422, -1.1264118205804847, -0.8899583680090719, -0.47869408705426064, 1.2476157100444145, 4.807318582615312, 2.720820110966241, 0.2456457539218013, 5.314056330103929, -4.877324090949315, 0.638284186556195, -6.453547441373369, 1.02200650286682, 1.9442384070041288, 2.4409554624285392, 3.149791210160839, 3.4097139194844486, 5.293236067100718, 3.828041439517371, 1.7439942813309377, 2.5418121200150887, -7.976159763685335, 2.9464437871408715, 1.4355160791424966, 3.071186934744222, 0.8358307115064058, 0.44222382040668506, 4.377310183822501, -1.8063784815316801, 1.800906019469631, 3.3233210863758234, 6.682791238812123, -8.814723683709811, 0.6215339308854234, 2.9798428411225912, -0.5961096895409822, -2.713171303961833, -6.360112639458864, -8.455713265814197, 5.345730676100823, 4.6239651460225675, 3.82597448921011, -1.0384734017928579, 4.065540039895268, 3.4608230135885916, -0.7656781921607855, -4.317535503369957, -0.3292020645488321, 5.197163116162632, 6.682791238812123, -8.653906982951995, -5.124205620512998, -2.86117350654654, 0.45872349390851014, 1.158333879803392, -1.6336739576333106, -0.5961096895409822, 4.706887422273885, 2.6408183014683786, -6.112782523395879, 5.154202729562821, -5.314221928873178, 2.6408183014683786, 3.9445051415972747, 4.464418044974107, 5.197163116162632, -7.933029689804955, 1.5224696997315463, -5.5170237162927345, 5.331501894050131, -4.701750596835995, 1.512775852201293, -7.699133812506845, 5.288001592891721, 3.4417101031777815, 1.262729069496322, -8.183912894212334, 1.6417034093150944, -6.01867328037334, 5.197163116162632, 2.6501605776304915, -1.7100950222850044, 4.377310183822501, 0.1926968604446886, -4.602430724235575, -9.23418405040563, -5.278723709825688, 6.3147921710347275, -1.3409538167500377, -0.09861412470433975, -2.724542424559537, -1.6299550924331683, -7.1590123586875, 2.1812527783694455, -3.648786139119278, 5.790825220575613, 2.0160772766200967, 2.720820110966241, -4.2234508410725935, -0.9605510983315594, 3.8664554507378166, 3.2162258435000814, -2.2960098296407065, 1.1821433970749269, 1.667968064743593, -2.119172467190074, 1.2320639139278031, -2.612386613340229, -7.368497651461375, 5.430000612146352, 0.5862681122272281, 5.586889132887369, -0.799121110170985, 4.082339145025163, 5.586889132887369, -5.633802583854152, -3.6120527690968363, -2.4409351223978515, 3.000726597516047, 2.903922953491374, 3.0827997435845425, 4.375765369020673, -1.0480998745519736, 4.561174484940079, 4.935764462867478, -1.0064508623817963, -2.76732772838386, -1.072533608763649, -0.9328845666743573, 2.1812527783694455, -8.594051029185726, 4.442824176288201, 0.42180116859649686, 6.6333160075703805, 0.638284186556195, -0.6130168257996607, -6.796046281282557, 2.5253290747860992, -3.8709897258811687, -8.251408816076465, -0.5253964966322403, 1.435541786319791, -9.576544613911954, 2.0155615046877697, -4.12917616082056, 3.7102367696534215, 0.45288226950320715, 2.152710972460956, 3.5597532490323345, 6.682791238812123, -1.858625523025113, 4.775503587315518, 2.79249000840535, -1.2872182056941477, -3.106328078316689], \"colorbar\": {\"title\": \"PCA1\", \"titleside\": \"right\", \"tickfont\": {\"family\": \"Courier\", \"size\": 18.75}, \"titlefont\": {\"family\": \"Courier\", \"size\": 18.75}}, \"colorscale\": \"Viridis\"}, \"line\": {\"dash\": \"solid\", \"width\": 2}, \"text\": [\"Ce2GeSe5\", \"Rb3Bi2I9\", \"Ba2GaDySe5\", \"Ga0.25Al0.75As\", \"BaLa2In2S7\", \"TlInTe2\", \"GdSb2BO8\", \"GaN\", \"Ca2Sn\", \"Li4.5Mn0.5TeO6\", \"SrNd2S4\", \"AlB12\", \"LuIn3S6\", \"Cu3SbS4\", \"CuBS2\", \"LiBr\", \"Cu0.15Ga1.85Se2.85\", \"Bi2Mo2Se2O13\", \"Ba2ScTaO6\", \"AgIn5Te8\", \"Cu2GeSe3\", \"Sn0.5GaZn3.5O6\", \"InSe\", \"RbCu2AsS3\", \"In6S7\", \"Cd2V2Te2O11\", \"Tl2Te3\", \"Ba8Al10B12O41\", \"Zn3V2TeO10\", \"BaS\", \"CdSe\", \"AgInSe2\", \"Cd3As2\", \"PtP2\", \"KZrPSe6\", \"Li2FeGeS4\", \"OsPSe\", \"ZnO\", \"Cs2Ba3P4O14\", \"Li2WTeO6\", \"Cu0.01In1.99Se2.99\", \"UO\", \"LiSm3SiS7\", \"RuPAs\", \"TlSbS2\", \"Tl4CdI6\", \"Na2GeIn2Se6\", \"Ag7AsS6\", \"PbTe\", \"CaTaO2N\", \"Li4.5Al0.5TeO6\", \"TlCr5SSe7\", \"Ag3SbS3\", \"Hg0.72Cd0.28Te\", \"Ru2Si3\", \"LiInSe2\", \"Rb2Cd3S4\", \"GaTe\", \"Cd3P2\", \"In4Te3\", \"SnS0.99Se0.01\", \"BaV2SeO8\", \"TaGaS2\", \"CsYbZnSe3\", \"AgSbTe2\", \"CoTe1.88\", \"ZnAs2\", \"Li2HgSiS4\", \"CuCdInSe3\", \"K3Ga3Ge7S20\", \"K6Nb2.97Ta1.03S25\", \"SrLa2S4\", \"YbAs\", \"CoPS\", \"Pb0.99Sn0.01Se\", \"AgGaSe2\", \"MnSb2O4\", \"KNb3Se2O12\", \"PbTe0.01Se0.99\", \"Hg0.1Cd0.9Se\", \"CuAlTe2\", \"Bi0.6Te3Sb1.4\", \"RbBi3Se5\", \"Cs4Cu3Bi9S17\", \"Hg0.9Cd0.1Se\", \"Sb2S3\", \"GaAs0.86Sb0.14\", \"Pr2Te4O11\", \"Ag8GeS6\", \"CsMn4In5Te12\", \"K1.83Cd1.83Bi2.17S6\", \"ZnSnO3\", \"CsCd4Ga5Se12\", \"ZnSe\", \"In4S5\", \"K2Se\", \"CdS\", \"Ca2ScSbO6\", \"K2ReH9\", \"DyB6\", \"KAu5PS8\", \"Ga2Se2O7\", \"In6S7\", \"Ca6Bi6O15\", \"Dy4GaSbS9\", \"TlInSe2\", \"TlCl\", \"RbI\", \"InP\", \"Ba2AgInS4\", \"RbCu2SbS3\", \"ZnGeP2\", \"KSbS2\", \"Cu0.2Ga1.8Se2.8\", \"CsTm9Cd4Se18\", \"GeI2\", \"AgFeTe2\", \"Cu2SnSe3\", \"Rb2Cd3Te4\", \"K3Ga3Ge7Se20\", \"SmB6\", \"K1.46Sn3.09Bi7.45Se15\", \"AgInTe2\", \"GeSe\", \"Bi2AsO4Cl\", \"GaAs0.75Sb0.25\", \"KCd4Ga5Se12\", \"GeS2\", \"CdSnP2\", \"DyPO4\", \"PbS\", \"TlN3\", \"LiIO3\", \"CsSbS2\", \"GaTe\", \"RbGaSnSe4\", \"BiSeI\", \"Na2Ga2SnS6\", \"Cd3As2\", \"In0.01Al0.99P\", \"CsBiS2\", \"K2.15Pb1.7Sb8.15Se15\", \"Ba3Gd2P4S16\", \"CdSnAs2\", \"SnS0.25Se0.75\", \"GeSi\", \"CeO2\", \"InSe\", \"Cs2SnP2Se6\", \"SnSi\", \"Pb0.9Mn0.1Te\", \"Pb0.97Sn0.03Te\", \"SmBiW2O9\", \"RbBa2P5O15\", \"LiAsS2\", \"CuInSe2\", \"TbIn3S6\", \"Ba3Dy2P4S16\", \"GeS2\", \"Pr4InSbSe9\", \"SrSeO4\", \"KCeSe4\", \"Pt0.97S2\", \"Mg2Si\", \"Pb2BO4H\", \"GeAs2\", \"Na2CdGe2S6\", \"As2S3\", \"ErN\", \"SrThP2S8\", \"Pb0.92Sn0.08Te\", \"Cu2ZnSnTe4\", \"ZnIn2Se4\", \"Zn2LiGaO4\", \"CuInSe2\", \"In2GeTe3\", \"Ba2InYSe5\", \"Al0.74Gd3Si0.7S7\", \"CsHo9Cd4Se18\", \"NaGe3P3\", \"Ga0.4Al0.6P\", \"As2S3\", \"K2ZnSn3S8\", \"PbBr2\", \"Gd4GaSbS9\", \"PtSb2\", \"HgGa2Se4\", \"TlSe\", \"ZnTe\", \"Cu3NbSe4\", \"CdGeAs2\", \"Tl2TeI6\", \"Bi2Te2.7Se0.3\", \"Cs2MgGe3Se8\", \"NaBiS2\", \"AgGaS2\", \"CdS\", \"CaZnOS\", \"Cs4Th2P6S18\", \"LiNbO3\", \"Mg2Sn\", \"NaCl\", \"K4Nb2S11\", \"NaBiSe2\", \"PrSb\", \"KSbS2\", \"PrF3\", \"Tl2Hg3Te4\", \"GeP\", \"CuGaS2\", \"K5In3P6Se19\", \"Ba2HgS5\", \"GaSb\", \"AgF\", \"CdSiP2\", \"Cd4P2Br3\", \"WSe2\", \"Cu0.5Ga1.5S2.5\", \"PtSb2\", \"Pb2B3O7.5H2\", \"Bi2S3\", \"Rb4GeP4Se12\", \"GaS\", \"CuI\", \"ZnS\", \"GaN\", \"SbSi\", \"Rb2Cu2SnS4\", \"Cd3P2\", \"PrO\", \"Na2GdP2O8\", \"H6PtI6O20\", \"Rb1.45Pb3.1Sb7.45Se15\", \"BiSeI\", \"InSb0.01As0.99\", \"AgS\", \"BaGa2GeS6\", \"Tl2SeAs2Te3\", \"Ba4LiGa5Se12\", \"Cu2MgGeS4\", \"Hg2I2Te2\", \"CsInS2\", \"Li6Rb5B11O22\", \"Zn0.4Hg0.6Se\", \"HgGa2S4\", \"InP2Se4\", \"GeO2\", \"Tl2Au2Sn2Se6\", \"CdS\", \"BiBr3\", \"CdSe\", \"RbMn4In5Se12\", \"InSb0.8As0.2\", \"OsP2\", \"TlSe\", \"Cu2CdSnSe4\", \"PbSe\", \"NiO\", \"BiSBr\", \"PbSe\", \"CsYbCoSe3\", \"GdAs\", \"Ga2Te3\", \"Cu0.2Ga1.8S2.8\", \"Ba3V2Se4O16\", \"K2Hg3Ge2S8\", \"Sr4Te3O8Cl4\", \"CeMn0.5OSe\", \"Ag0.5Pb1.75GeSe4\", \"PbSnS3\", \"Ba2GaBiTe5\", \"CdTe\", \"EuS\", \"ZnAs2\", \"PtS2\", \"Pb2V3Se5O18\", \"CdSnAs2\", \"Er3Te4\", \"K2Hg3S1.03Se2.97\", \"Pb0.85Sn0.15Te\", \"ZnSe\", \"NaBiS2\", \"KTi2F7\", \"EuS\", \"LaSb\", \"Cu2GeSe3\", \"LiInI4O12\", \"PtS\", \"K2S\", \"NaI\", \"Zn4Sb3\", \"RbSbS2\", \"Zn2In2S5\", \"CsSmCdSe3\", \"CuGaS2\", \"KBiS2\", \"Ba3InS4Cl\", \"Pb0.7Ge0.3Se\", \"Pb0.95Sn0.05Se\", \"LiInS2\", \"Pb0.99Ge0.01Se\", \"CoSb2\", \"ZnGeAs2\", \"CuCl\", \"ErTe\", \"ZnAs2\", \"B2O3\", \"Nd2Se3\", \"SnS\", \"Sb2S3\", \"Cs2ZnGe3Se8\", \"In2O3\", \"CaNd2S4\", \"EuBi2Se4\", \"Bi2Te0.9Se2.1\", \"MgO\", \"GaAs\", \"EuBi2Te4\", \"Sm2ZrSe5\", \"NaAsSe2\", \"SmB66\", \"ZnSnP2\", \"K2Hg3Ge2S8\", \"Li2ZnSnS4\", \"FeP4\", \"GaAs0.8P0.2\", \"Bi2Te1.5Se1.5\", \"NaSbP2S6\", \"Tb2Mo3O12\", \"RbCd4Ga5S12\", \"Bi6Cu3S10I\", \"NaB15\", \"RbCl\", \"EuH2\", \"LiBi4Nb3O12\", \"Cs6Na2Zn4Ge42\", \"NaCeS3\", \"MnO2\", \"PbTe\", \"ReSe2\", \"AlSb\", \"Tl2Hg3S4\", \"Cu2Ta4O11\", \"Pb6BBrO7\", \"ZnTc\", \"NaI\", \"CdAs2\", \"K2Mo2Se2O11\", \"Mn2.04Gd1.47In0.49S5\", \"Ag3AsS3\", \"Ba4CuInSe6\", \"Na2B6O9F2\", \"As2S3\", \"PbSeO4\", \"Pb0.99Ge0.01Te\", \"MgO\", \"Tl4Nb2S11\", \"Ba3Er2P4S16\", \"LaF3\", \"CuGaSe2\", \"PbGa2SiSe6\", \"AgAsS2\", \"Ag8SnSe6\", \"InSb\", \"As2S3\", \"PdPAs\", \"Cu0.35Ga1.65S2.65\", \"In2Se3\", \"Cu2ZnSiS4\", \"Hg0.7Cd0.3Te\", \"FeAsS\", \"GaS\", \"GaAs\", \"SrIr4In2Ge4\", \"Bi2Se3\", \"CsH3Se2O6\", \"Zn3As2\", \"Bi2SI2O11\", \"PrB6\", \"TlPSe2\", \"SrMgSnSe4\", \"Bi2Te0.6Se2.4\", \"Cs3Bi2I9\", \"Sm2YbCuS5\", \"Er2Te3\", \"In2Se3\", \"PbTe\", \"Rb2CuVS4\", \"NiP2\", \"InS\", \"Pb0.94Sn0.06Se\", \"EuDy2Se4\", \"GaAs0.4P0.6\", \"Cs2Bi2Cd2S5\", \"GaTe\", \"CuI\", \"Cu4Sn7S16\", \"GaTe\", \"CdSe\", \"Pb0.99TeGa0.01\", \"LiZnBO3\", \"InAs\", \"Nd2O3\", \"Cu3DySe3\", \"CsB3GeO7\", \"Ce2Te3\", \"CsLu7S11\", \"CdS0.01Se0.99\", \"Ga0.5In0.5As\", \"AsSb\", \"CdIn2Te4\", \"Sr3GeSb2Se8\", \"CuBr\", \"LiInS2\", \"Cd3As2\", \"NiP2\", \"Cu0.95In1.05Se2.05\", \"Cu3Ta7O19\", \"Nd2YbCuS5\", \"Cu2O\", \"Cu3AsSe4\", \"CuInSe2\", \"RbI\", \"Hg6As4CdBr6\", \"ZrSe3\", \"CdS\", \"TaGaS2\", \"GaSb\", \"SnS0.8Se0.2\", \"KSbS2\", \"TlHgInS3\", \"Ag2S\", \"GaAs\", \"Cu0.05Ga1.95S2.95\", \"CsLaHgSe3\", \"Hg0.25Zn0.75Te\", \"AgLi0.33Sn0.67O2\", \"BiI3\", \"BiOCl\", \"Na4MgSi2Se6\", \"Ag2S\", \"Ba2B6O9(OH)4\", \"KIO3\", \"Li6Fe2Te8O22\", \"Pb0.999Sn0.001Te\", \"BaUSe3\", \"CuInS2\", \"KAg2PS4\", \"IrP2\", \"CdP4\", \"TiCoSb\", \"TlBr\", \"YbSb4Te7\", \"TlAsSe2\", \"TlCl\", \"SrCrO4\", \"Na0.5Pb1.75GeS4\", \"GaHSeO4\", \"RbCu4AsS4\", \"Na2Ga2SnS6\", \"TlS2\", \"CuTlSe2\", \"La3LuSe6\", \"ZnSe\", \"Li2HgGeS4\", \"CuInS2\", \"Rb3Bi2I9\", \"GaSb\", \"SnGa4Se7\", \"HfS3\", \"SbSeBr\", \"Cs4Zr3S14\", \"Cd3As2\", \"Cu0.4Ga1.6S2.6\", \"PbSe\", \"Pb0.01Sn0.99Te\", \"EuYb2S4\", \"SrTiO3\", \"Ag7AsSe6\", \"GeSe2\", \"AgSbS2\", \"Na3ZnB5O10\", \"CdBr2\", \"Tl2TeBr6\", \"CdSe\", \"EuIn2Te4\", \"Cs2Hg4.65Cd1.35S7\", \"Cr2S3\", \"Gd2Se3\", \"Pb0.95Ge0.05Se\", \"GaAs0.01Sb0.99\", \"Cd4GdB3O10\", \"EuTe\", \"KPbB5O9\", \"InAs\", \"Zn0.99Hg0.01Se\", \"K4Ag9Sb4S12\", \"InS\", \"KI\", \"TlSbSe2\", \"TlCl\", \"RbBiSe2\", \"OsP4\", \"TcS2\", \"Zn3As2\", \"Hg7InS6Cl5\", \"AgAlO2\", \"GeO2\", \"ZnO\", \"Na3Sn2F6Cl\", \"CdIn2Te4\", \"CdSe\", \"Cs3W3PO13\", \"CdS0.8Se0.2\", \"K10Zn4Sn4S17\", \"CdS\", \"PtP2\", \"RbI\", \"V2O5\", \"BiSCl\", \"AgAsSe2\", \"RbInSnS4\", \"CsTbZnTe3\", \"Na0.75Eu1.625GeSe4\", \"Tb4Al2O9\", \"BaIr2Ge4S6\", \"Li4Cs3B7O14\", \"GeS\", \"AgInS2\", \"Eu3S4\", \"Sn2S\", \"CsI\", \"Sb2Te3\", \"TlSe\", \"AgAlTe2\", \"CuBr\", \"Gd1.87Lu2.13Se6\", \"Gd3.04Sc0.96S6\", \"Ba3Ta2Se9\", \"GaS\", \"Eu7Ga6Sb8\", \"KNb3Te2O12\", \"TlInSe2\", \"Bi1.98Te3Sb0.02\", \"CuFeSe2\", \"TlSe\", \"Ag3SbS3\", \"Mn15Si26\", \"ReS2\", \"CsCl\", \"TaON\", \"Sn2S\", \"Rb6P3S15\", \"Pb0.995TeIn0.005\", \"BaB2O4\", \"B2O3\", \"ZnO\", \"InN\", \"SnBr2\", \"Ga1.002Sb0.998Se0.006\", \"Na2Te\", \"CsInGeS4\", \"KFeCuTe2\", \"Rb3CdB5O10\", \"ZnS\", \"Bi0.2Te3Sb1.8\", \"Pb2SbS2I3\", \"Hg2Cu3Te6O16\", \"Na2TeSe3\", \"As2S3\", \"MnVTe2O8\", \"PbO2\", \"Ta2O5\", \"MgGeN2\", \"CdSb\", \"GaSe\", \"Gd6Ge2.5S14\", \"Pb7Bi4Se13\", \"Hg4P2ZrCl6\", \"As2S3\", \"Sb2S3\", \"LaP\", \"ZnTe\", \"CdTe\", \"TlSe\", \"In4Se3\", \"CdS\", \"SbTeI\", \"Li6Al2Te8O22\", \"BaB2O4\", \"CsCaBO3\", \"AgCl\", \"Tb2O3\", \"Na2Nb4Se4O19\", \"CdGeP2\", \"As2Se3\", \"SrTe\", \"In4Te3\", \"Ba7AgGa5S15\", \"GaSb\", \"YbGa2S4\", \"CsBiSe2\", \"InN\", \"Cu3SmS3\", \"TlSbS2\", \"PbI2\", \"InP\", \"ZnHg3Se2Cl4\", \"Ag0.25Cd0.5In2.25Te4\", \"CdF2\", \"AgGaS2\", \"Ho2Mo3O12\", \"AgBiS2\", \"BiSI\", \"Al2Se3\", \"Hg0.9Cd0.1Se\", \"CdSe\", \"Ge2Sb2Te5\", \"DyTe1.7\", \"In0.5Al0.5P\", \"OsSbSe\", \"BaTeMo2O9\", \"Zn0.75Cd0.25Se\", \"AlP\", \"FeSi2\", \"Ag2SnS3\", \"CdGa2S4\", \"AlSb\", \"Pr2YbCuS5\", \"Cu2ZnSiSe4\", \"ZnSe\", \"InSb\", \"KTiPO5\", \"CdTlS2\", \"CdIn2Se4\", \"GaN\", \"LiAlB14\", \"CsCl\", \"Sr3EuP3O12\", \"InSb0.3As0.7\", \"SeTe\", \"GaSe\", \"KSbSe2\", \"Ga0.5Al0.5As\", \"TlSe\", \"PbMnIn2S5\", \"NaSmP2S6\", \"NaIn3Se5\", \"GaAs\", \"InSb\", \"BaB2O4\", \"Ag2V2I4O16\", \"CuNiC4N4\", \"Cu2ZnSiS4\", \"NiP2\", \"Dy2S3\", \"GaN\", \"SiAs2\", \"TlBr\", \"Na2Zn3Se4O12\", \"InAs\", \"Ni2InVO6\", \"TlBr\", \"Bi2Se3\", \"PbSe\", \"GaAs\", \"CsGe5BO12\", \"FeI2\", \"WO3\", \"As2Te3\", \"Zn2MoTeO7\", \"Ag3AsS3\", \"Ba2V4Te3O18\", \"CdIn8Te13\", \"Cu0.15In1.85Se2.85\", \"ZnS\", \"KV2I3O13\", \"Cs3Bi\", \"RbCl\", \"GaAs\", \"CuGa3Se5\", \"Mn1.95GdIn1.05S5\", \"AlSb\", \"EuGa2Se4\", \"Lu2O3\", \"Cs2B4SiO9\", \"NaCl\", \"CdSb\", \"CsEr9Cd4Se18\", \"La2Ge2Se7\", \"CsKP2Se8\", \"HfS2\", \"La2CoVO6\", \"As2S3\", \"Cs2Sn3Sb2S10\", \"InSb0.99As0.01\", \"SbSI\", \"InP\", \"EuN\", \"NaBiSe2\", \"Cu2In4Te7\", \"TlInSe2\", \"K2CdP2Se6\", \"Cu0.5Pb1.75GeS4\", \"GaS\", \"LiI\", \"CdS\", \"NaSbS2\", \"La2NiVO6\", \"Zn3Sb2\", \"Nd2Sn3Se9\", \"CdTe\", \"TlCr5S6Se2\", \"YbSb2Te4\", \"CdTe\", \"LiCl\", \"CaS\", \"Rb3Bi2Br9\", \"GaP\", \"Zn0.99Cd0.01Se\", \"CuSbSe2\", \"Hg0.25Zn0.75Te\", \"Ba4Ga4GeSe12\", \"Tl2GeTe3\", \"PtAs2\", \"CaSe\", \"Cs2Hg3S4\", \"KBiSe2\", \"K2Ge4Se8\", \"As2S3\", \"BaTiO3\", \"BiI3\", \"Ce2Sn3Se9\", \"Sb2Te3\", \"AgGaS2\", \"Cu3TaS4\", \"PrFMoO4\", \"Mg2Sn\", \"Be3N2\", \"SrTiO3\", \"Gd1.05Sc0.95Se3\", \"Cu2WSe4\", \"LaH2NO5\", \"SnS\", \"Na8Eu2Ge4S12\", \"SbSeI\", \"ZnIn2S4\", \"Ga0.6Al0.4P\", \"Cu0.05Ga1.95Se2.95\", \"InSb\", \"KI\", \"Cu2Te\", \"Zn0.65Hg0.35Se\", \"Na2TeSe3\", \"CdTeO3\"], \"hoverinfo\": \"x+y+text\", \"hoverlabel\": {\"font\": {\"size\": 25.0, \"family\": \"Courier\"}}, \"name\": null, \"showlegend\": null}], {\"titlefont\": {\"size\": 25.0, \"family\": \"Courier\"}, \"legend\": {\"font\": {\"size\": 25.0, \"family\": \"Courier\"}, \"x\": 0.1, \"y\": 1.1, \"orientation\": \"h\"}, \"xaxis\": {\"title\": \"Actual gap (eV)\", \"type\": \"linear\", \"titlefont\": {\"size\": 25.0, \"family\": \"Courier\"}, \"tickfont\": {\"size\": 25.0, \"family\": \"Courier\"}}, \"yaxis\": {\"title\": \"Predicted gap (eV)\", \"type\": \"linear\", \"titlefont\": {\"size\": 25.0, \"family\": \"Courier\"}, \"tickfont\": {\"size\": 25.0, \"family\": \"Courier\"}}, \"plot_bgcolor\": \"white\", \"paper_bgcolor\": \"white\", \"hoverlabel\": {\"font\": {\"size\": 25.0, \"family\": \"Courier\"}}, \"title\": \"\", \"hovermode\": \"closest\", \"margin\": {\"t\": 0, \"b\": 50.0, \"r\": 0, \"l\": 50.0, \"pad\": 0}}, {\"showLink\": true, \"linkText\": \"Export to plot.ly\"})});</script>"
      ]
     },
     "metadata": {},
     "output_type": "execute_result"
    }
   ],
   "source": [
    "from matminer.figrecipes.plot import PlotlyFig\n",
    "pf = PlotlyFig(mode='notebook', margins=0, x_title='Actual gap (eV)', y_title='Predicted gap (eV)')\n",
    "pf.xy([(y_test, y_pred)], labels=X_test.index, colors=X_test['PCA1'])"
   ]
  },
  {
   "cell_type": "markdown",
   "metadata": {},
   "source": [
    "###  Metal vs. Non-metal Classifier"
   ]
  },
  {
   "cell_type": "code",
   "execution_count": 115,
   "metadata": {},
   "outputs": [
    {
     "data": {
      "text/plain": [
       "0.392954801351134"
      ]
     },
     "execution_count": 115,
     "metadata": {},
     "output_type": "execute_result"
    }
   ],
   "source": [
    "cassification_ismetal = df[TARGET].apply(lambda x: int(x==0))\n",
    "sum(cassification_ismetal)/len(cassification_ismetal)"
   ]
  },
  {
   "cell_type": "code",
   "execution_count": 116,
   "metadata": {
    "collapsed": true
   },
   "outputs": [],
   "source": [
    "from sklearn.model_selection import train_test_split\n",
    "X_train, X_test, y_train, y_test = train_test_split(df_pca, cassification_ismetal, test_size=0.2, random_state=SEED)"
   ]
  },
  {
   "cell_type": "code",
   "execution_count": 117,
   "metadata": {
    "collapsed": true
   },
   "outputs": [],
   "source": [
    "from sklearn.model_selection import StratifiedKFold\n",
    "cv = StratifiedKFold(n_splits=NFOLD, shuffle=False, random_state=SEED)"
   ]
  },
  {
   "cell_type": "code",
   "execution_count": 118,
   "metadata": {
    "collapsed": true
   },
   "outputs": [],
   "source": [
    "from sklearn.ensemble import RandomForestClassifier # actually SVC here scores similarly\n",
    "\n",
    "model_cls = RandomizedSearchCV(estimator=RandomForestClassifier(\n",
    "    class_weight={0: 1., 1:1./(sum(cassification_ismetal)/len(df))}), \n",
    "                           random_state=SEED,\n",
    "                           param_distributions=rf_params_dict,\n",
    "                           n_iter=80,\n",
    "                           scoring='roc_auc',\n",
    "                           cv=cv,\n",
    "                           verbose=1,\n",
    "                           n_jobs=-1)\n",
    "# with open(os.path.join(CALC_DIR, 'classifier_optimized.pickle'), 'rb') as fm:\n",
    "#     model_cls = pickle.load(fm)"
   ]
  },
  {
   "cell_type": "code",
   "execution_count": 119,
   "metadata": {},
   "outputs": [
    {
     "name": "stdout",
     "output_type": "stream",
     "text": [
      "Fitting 5 folds for each of 80 candidates, totalling 400 fits\n"
     ]
    },
    {
     "name": "stderr",
     "output_type": "stream",
     "text": [
      "[Parallel(n_jobs=-1)]: Done  34 tasks      | elapsed:   25.7s\n",
      "[Parallel(n_jobs=-1)]: Done 184 tasks      | elapsed:  2.4min\n",
      "[Parallel(n_jobs=-1)]: Done 400 out of 400 | elapsed:  4.8min finished\n"
     ]
    }
   ],
   "source": [
    "model_cls.fit(X_train, y_train)\n",
    "with open(os.path.join(CALC_DIR, 'classifier_optimized.pickle'), 'wb') as fm:\n",
    "    pickle.dump(model_cls, fm)"
   ]
  },
  {
   "cell_type": "code",
   "execution_count": 120,
   "metadata": {},
   "outputs": [
    {
     "data": {
      "text/plain": [
       "0.9692904812958669"
      ]
     },
     "execution_count": 120,
     "metadata": {},
     "output_type": "execute_result"
    }
   ],
   "source": [
    "model_cls.score(X_test, y_test)"
   ]
  },
  {
   "cell_type": "code",
   "execution_count": 121,
   "metadata": {},
   "outputs": [
    {
     "name": "stdout",
     "output_type": "stream",
     "text": [
      "5-fold cross-validation scores for the classification (metal/nonmetal) model\n",
      "RMSE: 0.9852 +- 0.0034\n"
     ]
    }
   ],
   "source": [
    "from sklearn.model_selection import cross_val_score\n",
    "\n",
    "model_cv3 = RandomForestClassifier(**model_cls.best_params_, n_jobs=-1)\n",
    "\n",
    "rmse_scores = [np.sqrt(abs(score)) for score in cross_val_score(model_cv3, df_pca, cassification_ismetal, scoring='roc_auc', cv=cv)]\n",
    "print('{}-fold cross-validation scores for the classification (metal/nonmetal) model'.format(NFOLD))\n",
    "print('RMSE: {0:.4f} +- {1:.4f}'.format(np.mean(rmse_scores), np.std(rmse_scores)))"
   ]
  },
  {
   "cell_type": "code",
   "execution_count": 175,
   "metadata": {},
   "outputs": [],
   "source": [
    "from sklearn.metrics import confusion_matrix\n",
    "from collections import Counter\n",
    "# y_pred = model_cls.predict(X_test)\n",
    "y_pred = list(map(int, model_cls.predict_proba(X_test)[:, 1] > 0.55)) # if .8, we only throw away 3.6% of the data as metal\n",
    "cm = confusion_matrix(y_test, y_pred)/np.array([Counter(y_pred)[0], Counter(y_pred)[1]])"
   ]
  },
  {
   "cell_type": "code",
   "execution_count": 176,
   "metadata": {},
   "outputs": [
    {
     "data": {
      "image/png": "[encoded data removed]",
      "text/plain": [
       "<Figure size 432x288 with 2 Axes>"
      ]
     },
     "metadata": {},
     "output_type": "display_data"
    }
   ],
   "source": [
    "ax = sns.heatmap(cm, annot=True, cmap='Blues', fmt='.3f');\n",
    "ax.set_xlabel('Predicted');\n",
    "ax.set_ylabel('True'); \n",
    "ax.set_title('Confusion Matrix'); \n",
    "ax.xaxis.set_ticklabels(['nonmetal', 'metal']); \n",
    "ax.yaxis.set_ticklabels(['nonmetal', 'metal']);"
   ]
  },
  {
   "cell_type": "code",
   "execution_count": 177,
   "metadata": {
    "collapsed": true
   },
   "outputs": [],
   "source": [
    "from sklearn.metrics import roc_curve, roc_auc_score\n",
    "y_pred_proba = model_cls.predict_proba(X_test)[:, 1]\n",
    "fpr, tpr, threshold = roc_curve(y_test, y_pred_proba, pos_label=1, drop_intermediate=True)"
   ]
  },
  {
   "cell_type": "code",
   "execution_count": 178,
   "metadata": {},
   "outputs": [
    {
     "data": {
      "text/plain": [
       "Text(0,0.5,'True positive rate')"
      ]
     },
     "execution_count": 178,
     "metadata": {},
     "output_type": "execute_result"
    },
    {
     "data": {
      "image/png": "[encoded data removed]",
      "text/plain": [
       "<Figure size 432x288 with 1 Axes>"
      ]
     },
     "metadata": {},
     "output_type": "display_data"
    }
   ],
   "source": [
    "plt.plot(fpr, tpr);\n",
    "plt.plot([0., 1.], [0., 1.], 'r--')\n",
    "plt.title('ROC, AUC={0:.3f}'.format(roc_auc_score(y_test, y_pred_proba)))\n",
    "plt.xlabel('False positive rate')\n",
    "plt.ylabel('True positive rate')"
   ]
  },
  {
   "cell_type": "code",
   "execution_count": 229,
   "metadata": {},
   "outputs": [
    {
     "data": {
      "text/plain": [
       "(0, 0.9)"
      ]
     },
     "execution_count": 229,
     "metadata": {},
     "output_type": "execute_result"
    },
    {
     "data": {
      "image/png": "[encoded data removed]",
      "text/plain": [
       "<Figure size 432x288 with 1 Axes>"
      ]
     },
     "metadata": {},
     "output_type": "display_data"
    }
   ],
   "source": [
    "df[TARGET].hist(bins=50)\n",
    "plt.xlim([0, 0.9])"
   ]
  },
  {
   "cell_type": "code",
   "execution_count": 200,
   "metadata": {},
   "outputs": [
    {
     "data": {
      "text/plain": [
       "0.4736842105263158"
      ]
     },
     "execution_count": 200,
     "metadata": {},
     "output_type": "execute_result"
    }
   ],
   "source": [
    "1- sum(test_is_metal)/len(test_is_metal)"
   ]
  },
  {
   "cell_type": "markdown",
   "metadata": {},
   "source": [
    "## Metal vs. low-gap semiconductor vs. semiconductor vs. insulator classifier"
   ]
  },
  {
   "cell_type": "code",
   "execution_count": 241,
   "metadata": {},
   "outputs": [],
   "source": [
    "thresholds=(-1000, 0.0, 0.5, 1.5, 1000.0)\n",
    "df['multi_class'] = df[TARGET]\n",
    "for iclass in range(len(thresholds)-1):\n",
    "    df['multi_class'][(df[TARGET]>thresholds[iclass]) & (df[TARGET]<=thresholds[iclass+1])] = iclass\n",
    "\n",
    "df['multi_class'] = df['multi_class'].astype(int)"
   ]
  },
  {
   "cell_type": "code",
   "execution_count": 243,
   "metadata": {},
   "outputs": [],
   "source": [
    "from sklearn.model_selection import train_test_split\n",
    "X_train, X_test, y_train, y_test = train_test_split(df_pca, df['multi_class'], test_size=0.2, random_state=SEED)"
   ]
  },
  {
   "cell_type": "code",
   "execution_count": 250,
   "metadata": {},
   "outputs": [
    {
     "data": {
      "image/png": "[encoded data removed]",
      "text/plain": [
       "<Figure size 432x288 with 1 Axes>"
      ]
     },
     "metadata": {},
     "output_type": "display_data"
    }
   ],
   "source": [
    "y_test.hist();"
   ]
  },
  {
   "cell_type": "code",
   "execution_count": 297,
   "metadata": {
    "collapsed": true
   },
   "outputs": [],
   "source": [
    "from sklearn.ensemble import RandomForestClassifier # actually SVC here scores similarly\n",
    "\n",
    "model_multicls = RandomizedSearchCV(estimator=RandomForestClassifier(\n",
    "    class_weight={i:len(df)/sum(df['multi_class']==i) for i in range(len(df['multi_class'].unique()))}), \n",
    "                           random_state=SEED,\n",
    "                           param_distributions=rf_params_dict,\n",
    "                           n_iter=100,\n",
    "                           scoring='f1_weighted',\n",
    "                           cv=cv,\n",
    "                           verbose=1,\n",
    "                           n_jobs=2)\n",
    "# with open(os.path.join(CALC_DIR, 'multiclass_classifier_optimized.pickle'), 'rb') as fm:\n",
    "#     model_cls = pickle.load(fm)"
   ]
  },
  {
   "cell_type": "code",
   "execution_count": 298,
   "metadata": {},
   "outputs": [
    {
     "name": "stdout",
     "output_type": "stream",
     "text": [
      "Fitting 5 folds for each of 100 candidates, totalling 500 fits\n"
     ]
    },
    {
     "name": "stderr",
     "output_type": "stream",
     "text": [
      "[Parallel(n_jobs=2)]: Done  46 tasks      | elapsed:  1.4min\n",
      "[Parallel(n_jobs=2)]: Done 196 tasks      | elapsed:  6.4min\n",
      "[Parallel(n_jobs=2)]: Done 446 tasks      | elapsed: 13.6min\n",
      "[Parallel(n_jobs=2)]: Done 500 out of 500 | elapsed: 15.5min finished\n"
     ]
    }
   ],
   "source": [
    "model_multicls.fit(X_train, y_train.values)\n",
    "with open(os.path.join(CALC_DIR, 'multiclass_classifier_optimized.pickle'), 'wb') as fm:\n",
    "    pickle.dump(model_cls, fm)"
   ]
  },
  {
   "cell_type": "code",
   "execution_count": 299,
   "metadata": {},
   "outputs": [],
   "source": [
    "from sklearn.metrics import confusion_matrix\n",
    "from collections import Counter\n",
    "y_pred = model_multicls.predict(X_test)\n",
    "cm = confusion_matrix(y_test, y_pred)/np.array([Counter(y_pred)[i] for i in range(len(thresholds)-1)])"
   ]
  },
  {
   "cell_type": "code",
   "execution_count": 300,
   "metadata": {},
   "outputs": [
    {
     "data": {
      "image/png": "[encoded data removed]",
      "text/plain": [
       "<Figure size 720x576 with 2 Axes>"
      ]
     },
     "metadata": {},
     "output_type": "display_data"
    }
   ],
   "source": [
    "plt.figure(figsize=(10, 8))\n",
    "ax = sns.heatmap(cm, annot=True, cmap='Blues', fmt='.3f', annot_kws={\"size\": 20});\n",
    "ax.set_xlabel('Predicted');\n",
    "ax.set_ylabel('True'); \n",
    "ax.set_title('Confusion Matrix'); \n",
    "ax.xaxis.set_ticklabels(['insulator', 'semi', 'lowgap', 'metal']); \n",
    "ax.yaxis.set_ticklabels(['insulator', 'semi', 'lowgap', 'metal']);"
   ]
  },
  {
   "cell_type": "markdown",
   "metadata": {},
   "source": [
    "As we see the score of multi-class classification is lower than metal/nonmetal only"
   ]
  }
 ],
 "metadata": {
  "kernelspec": {
   "display_name": "Python 3",
   "language": "python",
   "name": "python3"
  },
  "language_info": {
   "codemirror_mode": {
    "name": "ipython",
    "version": 3
   },
   "file_extension": ".py",
   "mimetype": "text/x-python",
   "name": "python",
   "nbconvert_exporter": "python",
   "pygments_lexer": "ipython3",
   "version": "3.6.2"
  }
 },
 "nbformat": 4,
 "nbformat_minor": 2
}
