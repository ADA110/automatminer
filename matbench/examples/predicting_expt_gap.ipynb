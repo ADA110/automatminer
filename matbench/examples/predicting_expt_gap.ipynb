{
 "cells": [
  {
   "cell_type": "markdown",
   "metadata": {},
   "source": [
    "# Predicting the electronic band gap of inorganic materials"
   ]
  },
  {
   "cell_type": "markdown",
   "metadata": {},
   "source": [
    "by: Alireza Faghaninia (alireza.faghaninia@gmail.com)\n",
    "\n",
    "data is from: https://pubs.acs.org/doi/10.1021/acs.jpclett.8b00124"
   ]
  },
  {
   "cell_type": "markdown",
   "metadata": {},
   "source": [
    "* This notebook is an example of matbench that provide material scientists with a set of tools to automate their predictive modeling and get a benchmarking score to evaluate their future models.\n",
    "* The input is only the chemical formulas! A single column used as the input of matbench workflow.\n",
    "* Using [matminer](https://github.com/hackingmaterials/matminer) we extract 192 features from the chemical formulas.\n",
    "* We then use principal component analysis (PCA) with 10 components as it improved the accuracy by reducing the noise in the features.\n",
    "* A two-stage model: due to the presence of metals (gap=0 eV) in the dataset, a classifier (metal or nonmetal) + a regressor works better than trying to predict the gap with a single regressor.\n"
   ]
  },
  {
   "cell_type": "code",
   "execution_count": 1,
   "metadata": {},
   "outputs": [
    {
     "name": "stderr",
     "output_type": "stream",
     "text": [
      "/Users/alirezafaghaninia/Documents/py3/lib/python3.6/importlib/_bootstrap.py:205: RuntimeWarning: numpy.dtype size changed, may indicate binary incompatibility. Expected 96, got 88\n",
      "  return f(*args, **kwds)\n"
     ]
    },
    {
     "data": {
      "text/html": [
       "<script>requirejs.config({paths: { 'plotly': ['https://cdn.plot.ly/plotly-latest.min']},});if(!window.Plotly) {{require(['plotly'],function(plotly) {window.Plotly=plotly;});}}</script>"
      ],
      "text/vnd.plotly.v1+html": [
       "<script>requirejs.config({paths: { 'plotly': ['https://cdn.plot.ly/plotly-latest.min']},});if(!window.Plotly) {{require(['plotly'],function(plotly) {window.Plotly=plotly;});}}</script>"
      ]
     },
     "metadata": {},
     "output_type": "display_data"
    }
   ],
   "source": [
    "import matplotlib.pyplot as plt\n",
    "import numpy as np\n",
    "import os\n",
    "import pickle\n",
    "import pandas as pd\n",
    "import plotly as ply\n",
    "import seaborn as sns\n",
    "from matbench.core.analysis import Analysis\n",
    "\n",
    "%matplotlib inline\n",
    "ply.offline.init_notebook_mode(connected=True)\n",
    "sns.set()\n",
    "sns.set_context(\"poster\", font_scale=1.1)"
   ]
  },
  {
   "cell_type": "markdown",
   "metadata": {},
   "source": [
    "## All inputs:"
   ]
  },
  {
   "cell_type": "code",
   "execution_count": 2,
   "metadata": {
    "collapsed": true
   },
   "outputs": [],
   "source": [
    "# inputs\n",
    "TARGET = ('Input Data', 'gap expt')\n",
    "CALC_DIR = 'run_data'\n",
    "SEED = 23\n",
    "EXCLUDED_FEATURIZERS = [\n",
    "    'CohesiveEnergy', \n",
    "#                         'AtomicPackingEf/ficiency',\n",
    "                        'PartialRadialDistributionFunction',\n",
    "                        'RadialDistributionFunction',\n",
    "                        'CoulombMatrix',\n",
    "                        'SineCoulombMatrix',\n",
    "                        'OrbitalFieldMatrix',\n",
    "#                         'MinimumRela/tiveDistances',\n",
    "                        'ElectronicRadialDistributionFunction',\n",
    "#     'YangSolidSolution',\n",
    "'Miedema']\n",
    "np.random.seed(SEED)\n",
    "NFOLD = 5 # for cross-validation\n",
    "N_JOBS = 4"
   ]
  },
  {
   "cell_type": "markdown",
   "metadata": {},
   "source": [
    "## Read the data only containing chemical formula and experimentally measured band gap"
   ]
  },
  {
   "cell_type": "code",
   "execution_count": 3,
   "metadata": {},
   "outputs": [
    {
     "data": {
      "text/html": [
       "<div>\n",
       "<style scoped>\n",
       "    .dataframe tbody tr th:only-of-type {\n",
       "        vertical-align: middle;\n",
       "    }\n",
       "\n",
       "    .dataframe tbody tr th {\n",
       "        vertical-align: top;\n",
       "    }\n",
       "\n",
       "    .dataframe thead th {\n",
       "        text-align: right;\n",
       "    }\n",
       "</style>\n",
       "<table border=\"1\" class=\"dataframe\">\n",
       "  <thead>\n",
       "    <tr style=\"text-align: right;\">\n",
       "      <th></th>\n",
       "      <th>formula</th>\n",
       "      <th>gap expt</th>\n",
       "    </tr>\n",
       "  </thead>\n",
       "  <tbody>\n",
       "    <tr>\n",
       "      <th>0</th>\n",
       "      <td>Hg0.7Cd0.3Te</td>\n",
       "      <td>0.35</td>\n",
       "    </tr>\n",
       "    <tr>\n",
       "      <th>1</th>\n",
       "      <td>CuBr</td>\n",
       "      <td>3.08</td>\n",
       "    </tr>\n",
       "    <tr>\n",
       "      <th>2</th>\n",
       "      <td>LuP</td>\n",
       "      <td>1.30</td>\n",
       "    </tr>\n",
       "    <tr>\n",
       "      <th>3</th>\n",
       "      <td>Cu3SbSe4</td>\n",
       "      <td>0.40</td>\n",
       "    </tr>\n",
       "    <tr>\n",
       "      <th>4</th>\n",
       "      <td>ZnO</td>\n",
       "      <td>3.44</td>\n",
       "    </tr>\n",
       "  </tbody>\n",
       "</table>\n",
       "</div>"
      ],
      "text/plain": [
       "        formula  gap expt\n",
       "0  Hg0.7Cd0.3Te      0.35\n",
       "1          CuBr      3.08\n",
       "2           LuP      1.30\n",
       "3      Cu3SbSe4      0.40\n",
       "4           ZnO      3.44"
      ]
     },
     "execution_count": 3,
     "metadata": {},
     "output_type": "execute_result"
    }
   ],
   "source": [
    "from matbench.data.load import load_expt_gap\n",
    "# df_init = pd.read_csv('../data/sources/gap_expt.csv')\n",
    "df_init = load_expt_gap()\n",
    "df_init.head()"
   ]
  },
  {
   "cell_type": "markdown",
   "metadata": {},
   "source": [
    "## Feature generation: formula -> more than 320 features"
   ]
  },
  {
   "cell_type": "code",
   "execution_count": 4,
   "metadata": {
    "collapsed": true
   },
   "outputs": [],
   "source": [
    "from matbench.core.featurize import Featurize\n",
    "featzer = Featurize(exclude=EXCLUDED_FEATURIZERS,\n",
    "                    multiindex=True,\n",
    "                    drop_featurized_col=True,\n",
    "                    n_jobs=N_JOBS)"
   ]
  },
  {
   "cell_type": "code",
   "execution_count": 5,
   "metadata": {
    "collapsed": true
   },
   "outputs": [],
   "source": [
    "# df_featurized = featzer.featurize_formula(df_init, featurizers=\"all\")\n",
    "# df_featurized.to_pickle(os.path.join(CALC_DIR, 'df_featurized.pickle'))\n",
    "\n",
    "df_featurized = pd.read_pickle(os.path.join(CALC_DIR, 'df_featurized.pickle'))"
   ]
  },
  {
   "cell_type": "markdown",
   "metadata": {},
   "source": [
    "## Preprocessing (drop columns w/ more than 10% nulls + one-hot encoding of str columns)"
   ]
  },
  {
   "cell_type": "code",
   "execution_count": 6,
   "metadata": {},
   "outputs": [
    {
     "name": "stdout",
     "output_type": "stream",
     "text": [
      "2018-09-17 17:14:08 INFO     Before handling na: 6354 samples, 237 features\n",
      "2018-09-17 17:14:08 INFO     Before handling na: 6354 samples, 237 features\n",
      "2018-09-17 17:14:08 INFO     These 65 features were removed as they had more than 5.0% missing values:\n",
      "{('ElectronegativityDiff', 'range EN difference'), ('CationProperty', 'std_dev magn_moment of cations'), ('ElementProperty', 'maximum velocity_of_sound'), ('ElementProperty', 'mean coefficient_of_linear_thermal_expansion'), ('ElectronegativityDiff', 'maximum EN difference'), ('IonProperty', 'avg ionic char'), ('ElementProperty', 'minimum electrical_resistivity'), ('ElementProperty', 'mean electrical_resistivity'), ('AtomicPackingEfficiency', 'dist from 3 clusters |APE| < 0.010'), ('YangSolidSolution', 'Yang delta'), ('ElementProperty', 'std_dev coefficient_of_linear_thermal_expansion'), ('ElementProperty', 'std_dev electrical_resistivity'), ('CationProperty', 'mean sat_magn of cations'), ('ElectronegativityDiff', 'std_dev EN difference'), ('OxidationStates', 'maximum oxidation state'), ('CationProperty', 'minimum sat_magn of cations'), ('ElementProperty', 'range electrical_resistivity'), ('OxidationStates', 'minimum oxidation state'), ('CationProperty', 'std_dev so_coupling of cations'), ('IonProperty', 'max ionic char'), ('CationProperty', 'mean xtal_field_split of cations'), ('ElementProperty', 'std_dev velocity_of_sound'), ('CationProperty', 'maximum magn_moment of cations'), ('AtomicPackingEfficiency', 'dist from 1 clusters |APE| < 0.010'), ('CationProperty', 'std_dev sat_magn of cations'), ('CationProperty', 'minimum total_ioniz of cations'), ('ElementProperty', 'mean bulk_modulus'), ('ElementProperty', 'maximum coefficient_of_linear_thermal_expansion'), ('ElementProperty', 'range coefficient_of_linear_thermal_expansion'), ('ElectronAffinity', 'avg anion electron affinity'), ('CationProperty', 'std_dev total_ioniz of cations'), ('CationProperty', 'minimum magn_moment of cations'), ('ElementProperty', 'mean velocity_of_sound'), ('CationProperty', 'mean so_coupling of cations'), ('CationProperty', 'maximum xtal_field_split of cations'), ('ElementProperty', 'maximum bulk_modulus'), ('AtomicPackingEfficiency', 'mean abs simul. packing efficiency'), ('CationProperty', 'minimum xtal_field_split of cations'), ('ElementProperty', 'range bulk_modulus'), ('ElementProperty', 'std_dev bulk_modulus'), ('ElementProperty', 'maximum electrical_resistivity'), ('CationProperty', 'maximum total_ioniz of cations'), ('CationProperty', 'maximum sat_magn of cations'), ('ElectronegativityDiff', 'mean EN difference'), ('AtomicPackingEfficiency', 'mean simul. packing efficiency'), ('CationProperty', 'range xtal_field_split of cations'), ('CationProperty', 'minimum so_coupling of cations'), ('CationProperty', 'mean total_ioniz of cations'), ('YangSolidSolution', 'Yang omega'), ('ElementProperty', 'minimum coefficient_of_linear_thermal_expansion'), ('ElementProperty', 'minimum velocity_of_sound'), ('CationProperty', 'std_dev xtal_field_split of cations'), ('ElementProperty', 'range velocity_of_sound'), ('ElectronegativityDiff', 'minimum EN difference'), ('ElementProperty', 'minimum bulk_modulus'), ('CationProperty', 'maximum so_coupling of cations'), ('CationProperty', 'range so_coupling of cations'), ('CationProperty', 'range total_ioniz of cations'), ('IonProperty', 'compound possible'), ('OxidationStates', 'range oxidation state'), ('AtomicPackingEfficiency', 'dist from 5 clusters |APE| < 0.010'), ('CationProperty', 'mean magn_moment of cations'), ('OxidationStates', 'std_dev oxidation state'), ('CationProperty', 'range magn_moment of cations'), ('CationProperty', 'range sat_magn of cations')}\n",
      "2018-09-17 17:14:08 INFO     These 65 features were removed as they had more than 5.0% missing values:\n",
      "{('ElectronegativityDiff', 'range EN difference'), ('CationProperty', 'std_dev magn_moment of cations'), ('ElementProperty', 'maximum velocity_of_sound'), ('ElementProperty', 'mean coefficient_of_linear_thermal_expansion'), ('ElectronegativityDiff', 'maximum EN difference'), ('IonProperty', 'avg ionic char'), ('ElementProperty', 'minimum electrical_resistivity'), ('ElementProperty', 'mean electrical_resistivity'), ('AtomicPackingEfficiency', 'dist from 3 clusters |APE| < 0.010'), ('YangSolidSolution', 'Yang delta'), ('ElementProperty', 'std_dev coefficient_of_linear_thermal_expansion'), ('ElementProperty', 'std_dev electrical_resistivity'), ('CationProperty', 'mean sat_magn of cations'), ('ElectronegativityDiff', 'std_dev EN difference'), ('OxidationStates', 'maximum oxidation state'), ('CationProperty', 'minimum sat_magn of cations'), ('ElementProperty', 'range electrical_resistivity'), ('OxidationStates', 'minimum oxidation state'), ('CationProperty', 'std_dev so_coupling of cations'), ('IonProperty', 'max ionic char'), ('CationProperty', 'mean xtal_field_split of cations'), ('ElementProperty', 'std_dev velocity_of_sound'), ('CationProperty', 'maximum magn_moment of cations'), ('AtomicPackingEfficiency', 'dist from 1 clusters |APE| < 0.010'), ('CationProperty', 'std_dev sat_magn of cations'), ('CationProperty', 'minimum total_ioniz of cations'), ('ElementProperty', 'mean bulk_modulus'), ('ElementProperty', 'maximum coefficient_of_linear_thermal_expansion'), ('ElementProperty', 'range coefficient_of_linear_thermal_expansion'), ('ElectronAffinity', 'avg anion electron affinity'), ('CationProperty', 'std_dev total_ioniz of cations'), ('CationProperty', 'minimum magn_moment of cations'), ('ElementProperty', 'mean velocity_of_sound'), ('CationProperty', 'mean so_coupling of cations'), ('CationProperty', 'maximum xtal_field_split of cations'), ('ElementProperty', 'maximum bulk_modulus'), ('AtomicPackingEfficiency', 'mean abs simul. packing efficiency'), ('CationProperty', 'minimum xtal_field_split of cations'), ('ElementProperty', 'range bulk_modulus'), ('ElementProperty', 'std_dev bulk_modulus'), ('ElementProperty', 'maximum electrical_resistivity'), ('CationProperty', 'maximum total_ioniz of cations'), ('CationProperty', 'maximum sat_magn of cations'), ('ElectronegativityDiff', 'mean EN difference'), ('AtomicPackingEfficiency', 'mean simul. packing efficiency'), ('CationProperty', 'range xtal_field_split of cations'), ('CationProperty', 'minimum so_coupling of cations'), ('CationProperty', 'mean total_ioniz of cations'), ('YangSolidSolution', 'Yang omega'), ('ElementProperty', 'minimum coefficient_of_linear_thermal_expansion'), ('ElementProperty', 'minimum velocity_of_sound'), ('CationProperty', 'std_dev xtal_field_split of cations'), ('ElementProperty', 'range velocity_of_sound'), ('ElectronegativityDiff', 'minimum EN difference'), ('ElementProperty', 'minimum bulk_modulus'), ('CationProperty', 'maximum so_coupling of cations'), ('CationProperty', 'range so_coupling of cations'), ('CationProperty', 'range total_ioniz of cations'), ('IonProperty', 'compound possible'), ('OxidationStates', 'range oxidation state'), ('AtomicPackingEfficiency', 'dist from 5 clusters |APE| < 0.010'), ('CationProperty', 'mean magn_moment of cations'), ('OxidationStates', 'std_dev oxidation state'), ('CationProperty', 'range magn_moment of cations'), ('CationProperty', 'range sat_magn of cations')}\n",
      "2018-09-17 17:14:08 INFO     After handling na: 6217 samples, 172 features\n",
      "2018-09-17 17:14:08 INFO     After handling na: 6217 samples, 172 features\n",
      "2018-09-17 17:14:08 INFO     These 8 features were removed due to cross correlation with the current features more than 0.95:\n",
      "[('BandCenter', 'band center'), ('ElementProperty', 'minimum mendeleev_no'), ('ElementProperty', 'range thermal_conductivity'), ('ElementProperty', 'std_dev thermal_conductivity'), ('Stoichiometry', '2-norm'), ('Stoichiometry', '10-norm'), ('Stoichiometry', '7-norm'), ('Stoichiometry', '5-norm')]\n",
      "2018-09-17 17:14:08 INFO     These 8 features were removed due to cross correlation with the current features more than 0.95:\n",
      "[('BandCenter', 'band center'), ('ElementProperty', 'minimum mendeleev_no'), ('ElementProperty', 'range thermal_conductivity'), ('ElementProperty', 'std_dev thermal_conductivity'), ('Stoichiometry', '2-norm'), ('Stoichiometry', '10-norm'), ('Stoichiometry', '7-norm'), ('Stoichiometry', '5-norm')]\n"
     ]
    }
   ],
   "source": [
    "from matbench.core.preprocess import Preprocess\n",
    "from skrebate import ReliefF\n",
    "prep = Preprocess()\n",
    "\n",
    "df = prep.handle_na(df_featurized, max_na_frac=0.05, na_method='drop')\n",
    "df = prep.prune_correlated_features(df, target_key=TARGET)\n",
    "df = pd.get_dummies(df)"
   ]
  },
  {
   "cell_type": "code",
   "execution_count": 7,
   "metadata": {},
   "outputs": [
    {
     "data": {
      "text/html": [
       "<div>\n",
       "<style scoped>\n",
       "    .dataframe tbody tr th:only-of-type {\n",
       "        vertical-align: middle;\n",
       "    }\n",
       "\n",
       "    .dataframe tbody tr th {\n",
       "        vertical-align: top;\n",
       "    }\n",
       "\n",
       "    .dataframe thead th {\n",
       "        text-align: right;\n",
       "    }\n",
       "</style>\n",
       "<table border=\"1\" class=\"dataframe\">\n",
       "  <thead>\n",
       "    <tr style=\"text-align: right;\">\n",
       "      <th></th>\n",
       "      <th>(AtomicOrbitals, HOMO_energy)</th>\n",
       "      <th>(AtomicOrbitals, LUMO_energy)</th>\n",
       "      <th>(AtomicOrbitals, gap_AO)</th>\n",
       "      <th>(ElementProperty, minimum X)</th>\n",
       "      <th>(ElementProperty, maximum X)</th>\n",
       "      <th>(ElementProperty, range X)</th>\n",
       "      <th>(ElementProperty, mean X)</th>\n",
       "      <th>(ElementProperty, std_dev X)</th>\n",
       "      <th>(ElementProperty, minimum row)</th>\n",
       "      <th>(ElementProperty, maximum row)</th>\n",
       "      <th>...</th>\n",
       "      <th>('AtomicOrbitals', 'LUMO_element')_Ti</th>\n",
       "      <th>('AtomicOrbitals', 'LUMO_element')_Tl</th>\n",
       "      <th>('AtomicOrbitals', 'LUMO_element')_Tm</th>\n",
       "      <th>('AtomicOrbitals', 'LUMO_element')_U</th>\n",
       "      <th>('AtomicOrbitals', 'LUMO_element')_V</th>\n",
       "      <th>('AtomicOrbitals', 'LUMO_element')_W</th>\n",
       "      <th>('AtomicOrbitals', 'LUMO_element')_Y</th>\n",
       "      <th>('AtomicOrbitals', 'LUMO_element')_Yb</th>\n",
       "      <th>('AtomicOrbitals', 'LUMO_element')_Zn</th>\n",
       "      <th>('AtomicOrbitals', 'LUMO_element')_Zr</th>\n",
       "    </tr>\n",
       "    <tr>\n",
       "      <th>(Input Data, formula)</th>\n",
       "      <th></th>\n",
       "      <th></th>\n",
       "      <th></th>\n",
       "      <th></th>\n",
       "      <th></th>\n",
       "      <th></th>\n",
       "      <th></th>\n",
       "      <th></th>\n",
       "      <th></th>\n",
       "      <th></th>\n",
       "      <th></th>\n",
       "      <th></th>\n",
       "      <th></th>\n",
       "      <th></th>\n",
       "      <th></th>\n",
       "      <th></th>\n",
       "      <th></th>\n",
       "      <th></th>\n",
       "      <th></th>\n",
       "      <th></th>\n",
       "      <th></th>\n",
       "    </tr>\n",
       "  </thead>\n",
       "  <tbody>\n",
       "    <tr>\n",
       "      <th>Hg0.7Cd0.3Te</th>\n",
       "      <td>-0.226594</td>\n",
       "      <td>-0.226594</td>\n",
       "      <td>0.000000</td>\n",
       "      <td>1.69</td>\n",
       "      <td>2.10</td>\n",
       "      <td>0.41</td>\n",
       "      <td>2.00350</td>\n",
       "      <td>0.179083</td>\n",
       "      <td>5.0</td>\n",
       "      <td>6.0</td>\n",
       "      <td>...</td>\n",
       "      <td>0</td>\n",
       "      <td>0</td>\n",
       "      <td>0</td>\n",
       "      <td>0</td>\n",
       "      <td>0</td>\n",
       "      <td>0</td>\n",
       "      <td>0</td>\n",
       "      <td>0</td>\n",
       "      <td>0</td>\n",
       "      <td>0</td>\n",
       "    </tr>\n",
       "    <tr>\n",
       "      <th>CuBr</th>\n",
       "      <td>-0.202272</td>\n",
       "      <td>-0.172056</td>\n",
       "      <td>0.030216</td>\n",
       "      <td>1.90</td>\n",
       "      <td>2.96</td>\n",
       "      <td>1.06</td>\n",
       "      <td>2.43000</td>\n",
       "      <td>0.749533</td>\n",
       "      <td>4.0</td>\n",
       "      <td>4.0</td>\n",
       "      <td>...</td>\n",
       "      <td>0</td>\n",
       "      <td>0</td>\n",
       "      <td>0</td>\n",
       "      <td>0</td>\n",
       "      <td>0</td>\n",
       "      <td>0</td>\n",
       "      <td>0</td>\n",
       "      <td>0</td>\n",
       "      <td>0</td>\n",
       "      <td>0</td>\n",
       "    </tr>\n",
       "    <tr>\n",
       "      <th>LuP</th>\n",
       "      <td>-0.206080</td>\n",
       "      <td>-0.155112</td>\n",
       "      <td>0.050968</td>\n",
       "      <td>1.27</td>\n",
       "      <td>2.19</td>\n",
       "      <td>0.92</td>\n",
       "      <td>1.73000</td>\n",
       "      <td>0.650538</td>\n",
       "      <td>3.0</td>\n",
       "      <td>8.0</td>\n",
       "      <td>...</td>\n",
       "      <td>0</td>\n",
       "      <td>0</td>\n",
       "      <td>0</td>\n",
       "      <td>0</td>\n",
       "      <td>0</td>\n",
       "      <td>0</td>\n",
       "      <td>0</td>\n",
       "      <td>0</td>\n",
       "      <td>0</td>\n",
       "      <td>0</td>\n",
       "    </tr>\n",
       "    <tr>\n",
       "      <th>Cu3SbSe4</th>\n",
       "      <td>-0.202272</td>\n",
       "      <td>-0.202272</td>\n",
       "      <td>0.000000</td>\n",
       "      <td>1.90</td>\n",
       "      <td>2.55</td>\n",
       "      <td>0.65</td>\n",
       "      <td>2.24375</td>\n",
       "      <td>0.401887</td>\n",
       "      <td>4.0</td>\n",
       "      <td>5.0</td>\n",
       "      <td>...</td>\n",
       "      <td>0</td>\n",
       "      <td>0</td>\n",
       "      <td>0</td>\n",
       "      <td>0</td>\n",
       "      <td>0</td>\n",
       "      <td>0</td>\n",
       "      <td>0</td>\n",
       "      <td>0</td>\n",
       "      <td>0</td>\n",
       "      <td>0</td>\n",
       "    </tr>\n",
       "    <tr>\n",
       "      <th>ZnO</th>\n",
       "      <td>-0.338381</td>\n",
       "      <td>-0.222725</td>\n",
       "      <td>0.115656</td>\n",
       "      <td>1.65</td>\n",
       "      <td>3.44</td>\n",
       "      <td>1.79</td>\n",
       "      <td>2.54500</td>\n",
       "      <td>1.265721</td>\n",
       "      <td>2.0</td>\n",
       "      <td>4.0</td>\n",
       "      <td>...</td>\n",
       "      <td>0</td>\n",
       "      <td>0</td>\n",
       "      <td>0</td>\n",
       "      <td>0</td>\n",
       "      <td>0</td>\n",
       "      <td>0</td>\n",
       "      <td>0</td>\n",
       "      <td>0</td>\n",
       "      <td>1</td>\n",
       "      <td>0</td>\n",
       "    </tr>\n",
       "  </tbody>\n",
       "</table>\n",
       "<p>5 rows × 327 columns</p>\n",
       "</div>"
      ],
      "text/plain": [
       "                       (AtomicOrbitals, HOMO_energy)  \\\n",
       "(Input Data, formula)                                  \n",
       "Hg0.7Cd0.3Te                               -0.226594   \n",
       "CuBr                                       -0.202272   \n",
       "LuP                                        -0.206080   \n",
       "Cu3SbSe4                                   -0.202272   \n",
       "ZnO                                        -0.338381   \n",
       "\n",
       "                       (AtomicOrbitals, LUMO_energy)  \\\n",
       "(Input Data, formula)                                  \n",
       "Hg0.7Cd0.3Te                               -0.226594   \n",
       "CuBr                                       -0.172056   \n",
       "LuP                                        -0.155112   \n",
       "Cu3SbSe4                                   -0.202272   \n",
       "ZnO                                        -0.222725   \n",
       "\n",
       "                       (AtomicOrbitals, gap_AO)  (ElementProperty, minimum X)  \\\n",
       "(Input Data, formula)                                                           \n",
       "Hg0.7Cd0.3Te                           0.000000                          1.69   \n",
       "CuBr                                   0.030216                          1.90   \n",
       "LuP                                    0.050968                          1.27   \n",
       "Cu3SbSe4                               0.000000                          1.90   \n",
       "ZnO                                    0.115656                          1.65   \n",
       "\n",
       "                       (ElementProperty, maximum X)  \\\n",
       "(Input Data, formula)                                 \n",
       "Hg0.7Cd0.3Te                                   2.10   \n",
       "CuBr                                           2.96   \n",
       "LuP                                            2.19   \n",
       "Cu3SbSe4                                       2.55   \n",
       "ZnO                                            3.44   \n",
       "\n",
       "                       (ElementProperty, range X)  (ElementProperty, mean X)  \\\n",
       "(Input Data, formula)                                                          \n",
       "Hg0.7Cd0.3Te                                 0.41                    2.00350   \n",
       "CuBr                                         1.06                    2.43000   \n",
       "LuP                                          0.92                    1.73000   \n",
       "Cu3SbSe4                                     0.65                    2.24375   \n",
       "ZnO                                          1.79                    2.54500   \n",
       "\n",
       "                       (ElementProperty, std_dev X)  \\\n",
       "(Input Data, formula)                                 \n",
       "Hg0.7Cd0.3Te                               0.179083   \n",
       "CuBr                                       0.749533   \n",
       "LuP                                        0.650538   \n",
       "Cu3SbSe4                                   0.401887   \n",
       "ZnO                                        1.265721   \n",
       "\n",
       "                       (ElementProperty, minimum row)  \\\n",
       "(Input Data, formula)                                   \n",
       "Hg0.7Cd0.3Te                                      5.0   \n",
       "CuBr                                              4.0   \n",
       "LuP                                               3.0   \n",
       "Cu3SbSe4                                          4.0   \n",
       "ZnO                                               2.0   \n",
       "\n",
       "                       (ElementProperty, maximum row)  \\\n",
       "(Input Data, formula)                                   \n",
       "Hg0.7Cd0.3Te                                      6.0   \n",
       "CuBr                                              4.0   \n",
       "LuP                                               8.0   \n",
       "Cu3SbSe4                                          5.0   \n",
       "ZnO                                               4.0   \n",
       "\n",
       "                                       ...                    \\\n",
       "(Input Data, formula)                  ...                     \n",
       "Hg0.7Cd0.3Te                           ...                     \n",
       "CuBr                                   ...                     \n",
       "LuP                                    ...                     \n",
       "Cu3SbSe4                               ...                     \n",
       "ZnO                                    ...                     \n",
       "\n",
       "                       ('AtomicOrbitals', 'LUMO_element')_Ti  \\\n",
       "(Input Data, formula)                                          \n",
       "Hg0.7Cd0.3Te                                               0   \n",
       "CuBr                                                       0   \n",
       "LuP                                                        0   \n",
       "Cu3SbSe4                                                   0   \n",
       "ZnO                                                        0   \n",
       "\n",
       "                       ('AtomicOrbitals', 'LUMO_element')_Tl  \\\n",
       "(Input Data, formula)                                          \n",
       "Hg0.7Cd0.3Te                                               0   \n",
       "CuBr                                                       0   \n",
       "LuP                                                        0   \n",
       "Cu3SbSe4                                                   0   \n",
       "ZnO                                                        0   \n",
       "\n",
       "                       ('AtomicOrbitals', 'LUMO_element')_Tm  \\\n",
       "(Input Data, formula)                                          \n",
       "Hg0.7Cd0.3Te                                               0   \n",
       "CuBr                                                       0   \n",
       "LuP                                                        0   \n",
       "Cu3SbSe4                                                   0   \n",
       "ZnO                                                        0   \n",
       "\n",
       "                       ('AtomicOrbitals', 'LUMO_element')_U  \\\n",
       "(Input Data, formula)                                         \n",
       "Hg0.7Cd0.3Te                                              0   \n",
       "CuBr                                                      0   \n",
       "LuP                                                       0   \n",
       "Cu3SbSe4                                                  0   \n",
       "ZnO                                                       0   \n",
       "\n",
       "                       ('AtomicOrbitals', 'LUMO_element')_V  \\\n",
       "(Input Data, formula)                                         \n",
       "Hg0.7Cd0.3Te                                              0   \n",
       "CuBr                                                      0   \n",
       "LuP                                                       0   \n",
       "Cu3SbSe4                                                  0   \n",
       "ZnO                                                       0   \n",
       "\n",
       "                       ('AtomicOrbitals', 'LUMO_element')_W  \\\n",
       "(Input Data, formula)                                         \n",
       "Hg0.7Cd0.3Te                                              0   \n",
       "CuBr                                                      0   \n",
       "LuP                                                       0   \n",
       "Cu3SbSe4                                                  0   \n",
       "ZnO                                                       0   \n",
       "\n",
       "                       ('AtomicOrbitals', 'LUMO_element')_Y  \\\n",
       "(Input Data, formula)                                         \n",
       "Hg0.7Cd0.3Te                                              0   \n",
       "CuBr                                                      0   \n",
       "LuP                                                       0   \n",
       "Cu3SbSe4                                                  0   \n",
       "ZnO                                                       0   \n",
       "\n",
       "                       ('AtomicOrbitals', 'LUMO_element')_Yb  \\\n",
       "(Input Data, formula)                                          \n",
       "Hg0.7Cd0.3Te                                               0   \n",
       "CuBr                                                       0   \n",
       "LuP                                                        0   \n",
       "Cu3SbSe4                                                   0   \n",
       "ZnO                                                        0   \n",
       "\n",
       "                       ('AtomicOrbitals', 'LUMO_element')_Zn  \\\n",
       "(Input Data, formula)                                          \n",
       "Hg0.7Cd0.3Te                                               0   \n",
       "CuBr                                                       0   \n",
       "LuP                                                        0   \n",
       "Cu3SbSe4                                                   0   \n",
       "ZnO                                                        1   \n",
       "\n",
       "                       ('AtomicOrbitals', 'LUMO_element')_Zr  \n",
       "(Input Data, formula)                                         \n",
       "Hg0.7Cd0.3Te                                               0  \n",
       "CuBr                                                       0  \n",
       "LuP                                                        0  \n",
       "Cu3SbSe4                                                   0  \n",
       "ZnO                                                        0  \n",
       "\n",
       "[5 rows x 327 columns]"
      ]
     },
     "execution_count": 7,
     "metadata": {},
     "output_type": "execute_result"
    }
   ],
   "source": [
    "# rf = ReliefF(n_features_to_select=50, n_jobs=N_JOBS)\n",
    "# x = rf.fit_transform(df.drop(TARGET, axis=1).values, df[TARGET].values)\n",
    "# pcacols = [\"ReliefF feature {}\".format(i) for i in range(x.shape[1])]\n",
    "# df_rebate = pd.DataFrame(columns=pcacols, data=x, index=df.index)\n",
    "# df_rebate.head()\n",
    "\n",
    "\n",
    "## no feature selection\n",
    "df_rebate = df.drop(TARGET, axis=1)\n",
    "df_rebate.head()"
   ]
  },
  {
   "cell_type": "markdown",
   "metadata": {
    "collapsed": true
   },
   "source": [
    "## Data visualization (unbalanced, many metals (target=0))"
   ]
  },
  {
   "cell_type": "markdown",
   "metadata": {
    "collapsed": true
   },
   "source": [
    "Let's start by the distribution of the target:"
   ]
  },
  {
   "cell_type": "code",
   "execution_count": 8,
   "metadata": {},
   "outputs": [
    {
     "data": {
      "image/png": "[encoded data removed]",
      "text/plain": [
       "<matplotlib.figure.Figure at 0x10b1259e8>"
      ]
     },
     "metadata": {},
     "output_type": "display_data"
    }
   ],
   "source": [
    "ax = df[TARGET].hist(bins=20)\n",
    "ax.set_xlabel('Band gap (eV) - all');"
   ]
  },
  {
   "cell_type": "code",
   "execution_count": 9,
   "metadata": {},
   "outputs": [
    {
     "name": "stdout",
     "output_type": "stream",
     "text": [
      "39.30% of the compounds are metal (expt gap == 0 eV)\n"
     ]
    }
   ],
   "source": [
    "print('{:.2f}% of the compounds are metal (expt gap == 0 eV)'.format(sum(df[TARGET]==0)/len(df)*100))"
   ]
  },
  {
   "cell_type": "markdown",
   "metadata": {},
   "source": [
    "We note that it is very unbalanced with most of the target variable being close to 0 (metals). Metals have very different properties and chemistry than nonmetals (gap>0). We return to this point in the following sections."
   ]
  },
  {
   "cell_type": "code",
   "execution_count": 10,
   "metadata": {},
   "outputs": [
    {
     "data": {
      "image/png": "[encoded data removed]",
      "text/plain": [
       "<matplotlib.figure.Figure at 0x116e3fe80>"
      ]
     },
     "metadata": {},
     "output_type": "display_data"
    }
   ],
   "source": [
    "ax = df[TARGET][df[TARGET]>0.0].hist(bins=20)\n",
    "ax.set_xlabel('Band gap (eV) - nonmetals');"
   ]
  },
  {
   "cell_type": "code",
   "execution_count": 11,
   "metadata": {},
   "outputs": [
    {
     "data": {
      "text/plain": [
       "1.0983770921393665"
      ]
     },
     "execution_count": 11,
     "metadata": {},
     "output_type": "execute_result"
    }
   ],
   "source": [
    "np.mean(abs(df[TARGET][df[TARGET]>0.0]-df[TARGET][df[TARGET]>0.0].mean())) #MAD"
   ]
  },
  {
   "cell_type": "code",
   "execution_count": null,
   "metadata": {
    "collapsed": true
   },
   "outputs": [],
   "source": []
  },
  {
   "cell_type": "markdown",
   "metadata": {},
   "source": [
    "Much better! Although, the high band-gap materials/insulators are still underrepresented."
   ]
  },
  {
   "cell_type": "markdown",
   "metadata": {},
   "source": [
    "## Further pre-processing of the data: standardization + PCA"
   ]
  },
  {
   "cell_type": "code",
   "execution_count": 12,
   "metadata": {
    "collapsed": true
   },
   "outputs": [],
   "source": [
    "from sklearn.preprocessing import StandardScaler\n",
    "\n",
    "scaler = StandardScaler()\n",
    "df_scaled = scaler.fit_transform(df.drop(TARGET, axis=1))"
   ]
  },
  {
   "cell_type": "markdown",
   "metadata": {},
   "source": [
    "We generated more than 300 features some of which are highly cross-correlated and some may be just noise for this particular problem. I already tried training a random forest with a full feature set and the performance is much poorer than (RMSE difference of ~ 0.25 eV!). So, we proceed with standardization+PCA:"
   ]
  },
  {
   "cell_type": "code",
   "execution_count": 13,
   "metadata": {
    "collapsed": true
   },
   "outputs": [],
   "source": [
    "# from sklearn.decomposition import PCA\n",
    "# N_COMPONENTS = 10\n",
    "# pca = PCA(n_components=N_COMPONENTS)"
   ]
  },
  {
   "cell_type": "code",
   "execution_count": 14,
   "metadata": {
    "collapsed": true
   },
   "outputs": [],
   "source": [
    "# df_pca = pca.fit_transform(df_scaled)\n",
    "# df_pca = pd.DataFrame(df_pca, columns=['PCA{}'.format(i+1) for i in range(N_COMPONENTS)], index=df.index)"
   ]
  },
  {
   "cell_type": "code",
   "execution_count": 15,
   "metadata": {
    "collapsed": true
   },
   "outputs": [],
   "source": [
    "# df_pca.head()"
   ]
  },
  {
   "cell_type": "code",
   "execution_count": 16,
   "metadata": {
    "collapsed": true
   },
   "outputs": [],
   "source": [
    "# plt.bar(height=pca.explained_variance_, x=range(1, N_COMPONENTS+1));\n",
    "# plt.ylabel('explained variance');\n",
    "# plt.xlabel('PCA eigenvectors #');"
   ]
  },
  {
   "cell_type": "code",
   "execution_count": 17,
   "metadata": {
    "collapsed": true
   },
   "outputs": [],
   "source": [
    "# from matminer.figrecipes.plot import PlotlyFig\n",
    "\n",
    "# pf = PlotlyFig(df_pca, mode='notebook', margins=0, x_title='PCA1', y_title='PCA2')\n",
    "# pf.xy(('PCA1', 'PCA2'), labels=df.index, colors=df[TARGET])"
   ]
  },
  {
   "cell_type": "markdown",
   "metadata": {},
   "source": [
    "Looking at this plot we learn that the compounds don't particularly cluster based on the first 2 PCA directions. So, we need more than just 2 PCA features to model this data. Also, not even in terms of metal/nonmetal which may be one more reason to have separate classifier for metal/nonmetal."
   ]
  },
  {
   "cell_type": "code",
   "execution_count": 18,
   "metadata": {
    "collapsed": true
   },
   "outputs": [],
   "source": [
    "df_reduced = df_rebate"
   ]
  },
  {
   "cell_type": "markdown",
   "metadata": {},
   "source": [
    "# Training models"
   ]
  },
  {
   "cell_type": "code",
   "execution_count": 19,
   "metadata": {},
   "outputs": [
    {
     "name": "stderr",
     "output_type": "stream",
     "text": [
      "/Users/alirezafaghaninia/Documents/py3/lib/python3.6/site-packages/sklearn/ensemble/weight_boosting.py:29: DeprecationWarning:\n",
      "\n",
      "numpy.core.umath_tests is an internal NumPy module and should not be imported. It will be removed in a future NumPy release.\n",
      "\n"
     ]
    }
   ],
   "source": [
    "from sklearn.model_selection import RandomizedSearchCV, GridSearchCV\n",
    "from sklearn.ensemble import RandomForestRegressor\n",
    "from sklearn.metrics import r2_score\n",
    "rf_params_dict = {\n",
    "        'n_estimators': [100, 200, 400],\n",
    "        'max_features': np.arange(0.05, 1.01, 0.05),\n",
    "        'min_samples_split': range(2, 21),\n",
    "        'min_samples_leaf': range(1, 21),\n",
    "        'bootstrap': [True, False]\n",
    "    }"
   ]
  },
  {
   "cell_type": "code",
   "execution_count": 20,
   "metadata": {
    "collapsed": true
   },
   "outputs": [],
   "source": [
    "from sklearn.model_selection import train_test_split\n",
    "X_train, X_test, y_train, y_test = train_test_split(df_reduced, df[TARGET], test_size=0.2, random_state=SEED)"
   ]
  },
  {
   "cell_type": "markdown",
   "metadata": {},
   "source": [
    "## 1) Single model on the mixed data (metals + nonmetals: higher RMSE)"
   ]
  },
  {
   "cell_type": "code",
   "execution_count": 21,
   "metadata": {
    "collapsed": true
   },
   "outputs": [],
   "source": [
    "model_reg1 = RandomizedSearchCV(estimator=RandomForestRegressor(), \n",
    "                           random_state=SEED,\n",
    "                           param_distributions=rf_params_dict,\n",
    "                           n_iter=15,\n",
    "                           scoring='neg_mean_squared_error',\n",
    "                           cv=5,\n",
    "                           verbose=1,\n",
    "                           n_jobs=N_JOBS)\n",
    "# with open(os.path.join(CALC_DIR, 'rf_mixed_optimized.pickle'), 'rb') as fm:\n",
    "#     model_reg1 = pickle.load(fm)\n",
    "\n",
    "# tpot = TpotAutoml(mode=\"regression\",\n",
    "#                       max_time_mins=TIMEOUT_MINS,\n",
    "#                       scoring='neg_mean_squared_error',\n",
    "#                       random_state=SEED,\n",
    "#                       feature_names=df_reduced.columns,\n",
    "#                       n_jobs=N_JOBS,\n",
    "#                       verbosity=2)\n",
    "# model_reg1 = tpot"
   ]
  },
  {
   "cell_type": "code",
   "execution_count": 22,
   "metadata": {},
   "outputs": [
    {
     "name": "stdout",
     "output_type": "stream",
     "text": [
      "Fitting 5 folds for each of 15 candidates, totalling 75 fits\n"
     ]
    },
    {
     "name": "stderr",
     "output_type": "stream",
     "text": [
      "[Parallel(n_jobs=4)]: Done  42 tasks      | elapsed:  2.6min\n",
      "[Parallel(n_jobs=4)]: Done  75 out of  75 | elapsed:  4.9min finished\n"
     ]
    }
   ],
   "source": [
    "model_reg1.fit(X_train, y_train)\n",
    "with open(os.path.join(CALC_DIR, 'rf_mixed_optimized.pickle'), 'wb') as fm:\n",
    "    pickle.dump(model_reg1, fm)"
   ]
  },
  {
   "cell_type": "code",
   "execution_count": 23,
   "metadata": {},
   "outputs": [
    {
     "data": {
      "text/plain": [
       "-0.5097662614009393"
      ]
     },
     "execution_count": 23,
     "metadata": {},
     "output_type": "execute_result"
    }
   ],
   "source": [
    "model_reg1.score(X_test, y_test)"
   ]
  },
  {
   "cell_type": "code",
   "execution_count": 24,
   "metadata": {},
   "outputs": [
    {
     "data": {
      "text/plain": [
       "0.7139791743468007"
      ]
     },
     "execution_count": 24,
     "metadata": {},
     "output_type": "execute_result"
    }
   ],
   "source": [
    "abs(model_reg1.score(X_test, y_test))**0.5"
   ]
  },
  {
   "cell_type": "code",
   "execution_count": 25,
   "metadata": {},
   "outputs": [
    {
     "data": {
      "text/plain": [
       "0.7879029576314376"
      ]
     },
     "execution_count": 25,
     "metadata": {},
     "output_type": "execute_result"
    }
   ],
   "source": [
    "y_pred = model_reg1.predict(X_test)\n",
    "r2_score(y_test, y_pred)"
   ]
  },
  {
   "cell_type": "code",
   "execution_count": 26,
   "metadata": {},
   "outputs": [
    {
     "data": {
      "text/plain": [
       "{'bootstrap': True,\n",
       " 'max_features': 0.45,\n",
       " 'min_samples_leaf': 3,\n",
       " 'min_samples_split': 9,\n",
       " 'n_estimators': 200}"
      ]
     },
     "execution_count": 26,
     "metadata": {},
     "output_type": "execute_result"
    }
   ],
   "source": [
    "model_reg1.best_params_"
   ]
  },
  {
   "cell_type": "code",
   "execution_count": 27,
   "metadata": {},
   "outputs": [
    {
     "name": "stdout",
     "output_type": "stream",
     "text": [
      "5-fold cross-validation scores for the basic model (metals+nonmentals)\n",
      "RMSE: 0.7707 +- 0.0883\n"
     ]
    }
   ],
   "source": [
    "from sklearn.model_selection import KFold, cross_val_score\n",
    "\n",
    "cv = KFold(n_splits=NFOLD, shuffle=False, random_state=SEED)\n",
    "model_cv = RandomForestRegressor(**model_reg1.best_params_, n_jobs=N_JOBS)\n",
    "\n",
    "rmse_scores = [np.sqrt(abs(score)) for score in cross_val_score(model_cv, df_reduced, df[TARGET], scoring='neg_mean_squared_error', cv=cv)]\n",
    "print('{}-fold cross-validation scores for the basic model (metals+nonmentals)'.format(NFOLD))\n",
    "print('RMSE: {0:.4f} +- {1:.4f}'.format(np.mean(rmse_scores), np.std(rmse_scores)))"
   ]
  },
  {
   "cell_type": "code",
   "execution_count": 28,
   "metadata": {
    "collapsed": true
   },
   "outputs": [],
   "source": [
    "# from matminer.figrecipes.plot import PlotlyFig\n",
    "# pf = PlotlyFig(mode='notebook', margins=0, x_title='Actual gap (eV)', y_title='Predicted gap (eV)')\n",
    "# pf.xy([(y_test, y_pred)], labels=X_test.index, colors=X_test['ReliefF feature 0'])"
   ]
  },
  {
   "cell_type": "markdown",
   "metadata": {
    "collapsed": true
   },
   "source": [
    "## 2) Two models: 1 regressor on nonmetals + 1 classifier for metal/nonmetals"
   ]
  },
  {
   "cell_type": "markdown",
   "metadata": {},
   "source": [
    "### Regressor for nonmetals (gap > 0)"
   ]
  },
  {
   "cell_type": "code",
   "execution_count": 29,
   "metadata": {
    "collapsed": true
   },
   "outputs": [],
   "source": [
    "df_reduced_nonmetal = df_reduced[df[TARGET]>0]"
   ]
  },
  {
   "cell_type": "code",
   "execution_count": 30,
   "metadata": {
    "collapsed": true
   },
   "outputs": [],
   "source": [
    "X_train, X_test, y_train, y_test = train_test_split(df_reduced_nonmetal, df[df[TARGET]>0][TARGET], test_size=0.2, random_state=SEED)"
   ]
  },
  {
   "cell_type": "code",
   "execution_count": 31,
   "metadata": {
    "collapsed": true
   },
   "outputs": [],
   "source": [
    "model_reg2 = RandomizedSearchCV(estimator=RandomForestRegressor(), \n",
    "                           random_state=SEED,\n",
    "                           param_distributions=rf_params_dict,\n",
    "                           n_iter=15,\n",
    "                           scoring='neg_mean_squared_error',\n",
    "                           cv=5,\n",
    "                           verbose=1,\n",
    "                           n_jobs=N_JOBS)\n",
    "# with open(os.path.join(CALC_DIR, 'rf_optimized.pickle'), 'rb') as fm:\n",
    "#     model_reg2 = pickle.load(fm)"
   ]
  },
  {
   "cell_type": "code",
   "execution_count": 32,
   "metadata": {},
   "outputs": [
    {
     "name": "stdout",
     "output_type": "stream",
     "text": [
      "Fitting 5 folds for each of 15 candidates, totalling 75 fits\n"
     ]
    },
    {
     "name": "stderr",
     "output_type": "stream",
     "text": [
      "[Parallel(n_jobs=4)]: Done  42 tasks      | elapsed:  1.0min\n",
      "[Parallel(n_jobs=4)]: Done  75 out of  75 | elapsed:  2.1min finished\n"
     ]
    }
   ],
   "source": [
    "model_reg2.fit(X_train, y_train)\n",
    "with open(os.path.join(CALC_DIR, 'rf_optimized.pickle'), 'wb') as fm:\n",
    "    pickle.dump(model_reg2, fm)"
   ]
  },
  {
   "cell_type": "code",
   "execution_count": 33,
   "metadata": {},
   "outputs": [
    {
     "data": {
      "text/plain": [
       "-0.29426194456128624"
      ]
     },
     "execution_count": 33,
     "metadata": {},
     "output_type": "execute_result"
    }
   ],
   "source": [
    "model_reg2.score(X_test, y_test)"
   ]
  },
  {
   "cell_type": "code",
   "execution_count": 34,
   "metadata": {},
   "outputs": [
    {
     "data": {
      "text/plain": [
       "0.5424591639573307"
      ]
     },
     "execution_count": 34,
     "metadata": {},
     "output_type": "execute_result"
    }
   ],
   "source": [
    "(abs(model_reg2.score(X_test, y_test)))**0.5"
   ]
  },
  {
   "cell_type": "code",
   "execution_count": 35,
   "metadata": {},
   "outputs": [
    {
     "data": {
      "text/plain": [
       "0.8840357890348461"
      ]
     },
     "execution_count": 35,
     "metadata": {},
     "output_type": "execute_result"
    }
   ],
   "source": [
    "y_pred = model_reg2.predict(X_test)\n",
    "r2_score(y_test, y_pred)"
   ]
  },
  {
   "cell_type": "code",
   "execution_count": 36,
   "metadata": {},
   "outputs": [
    {
     "name": "stdout",
     "output_type": "stream",
     "text": [
      "5-fold cross-validation scores for the model only nonmentals\n",
      "RMSE: 0.5038 +- 0.0335\n"
     ]
    }
   ],
   "source": [
    "from sklearn.model_selection import KFold, cross_val_score\n",
    "\n",
    "cv = KFold(n_splits=NFOLD, shuffle=False, random_state=SEED)\n",
    "model_cv2 = RandomForestRegressor(**model_reg2.best_params_, n_jobs=N_JOBS)\n",
    "\n",
    "rmse_scores = [np.sqrt(abs(score)) for score in cross_val_score(model_cv2, df_reduced_nonmetal, df[df[TARGET]>0][TARGET], scoring='neg_mean_squared_error', cv=cv)]\n",
    "print('{}-fold cross-validation scores for the model only nonmentals'.format(NFOLD))\n",
    "print('RMSE: {0:.4f} +- {1:.4f}'.format(np.mean(rmse_scores), np.std(rmse_scores)))"
   ]
  },
  {
   "cell_type": "code",
   "execution_count": 37,
   "metadata": {
    "collapsed": true
   },
   "outputs": [],
   "source": [
    "# from matminer.figrecipes.plot import PlotlyFig\n",
    "# pf = PlotlyFig(mode='notebook', margins=0, x_title='Actual gap (eV)', y_title='Predicted gap (eV)')\n",
    "# pf.xy([(y_test, y_pred)], labels=X_test.index, colors=X_test['ReliefF feature 0'])"
   ]
  },
  {
   "cell_type": "markdown",
   "metadata": {},
   "source": [
    "###  Metal vs. Non-metal Classifier"
   ]
  },
  {
   "cell_type": "code",
   "execution_count": 38,
   "metadata": {},
   "outputs": [
    {
     "data": {
      "text/plain": [
       "0.392954801351134"
      ]
     },
     "execution_count": 38,
     "metadata": {},
     "output_type": "execute_result"
    }
   ],
   "source": [
    "cassification_ismetal = df[TARGET].apply(lambda x: int(x==0))\n",
    "sum(cassification_ismetal)/len(cassification_ismetal)"
   ]
  },
  {
   "cell_type": "code",
   "execution_count": 39,
   "metadata": {
    "collapsed": true
   },
   "outputs": [],
   "source": [
    "from sklearn.model_selection import train_test_split\n",
    "X_train, X_test, y_train, y_test = train_test_split(df_reduced, cassification_ismetal, test_size=0.2, random_state=SEED)"
   ]
  },
  {
   "cell_type": "code",
   "execution_count": 40,
   "metadata": {
    "collapsed": true
   },
   "outputs": [],
   "source": [
    "from sklearn.model_selection import StratifiedKFold\n",
    "cv = StratifiedKFold(n_splits=NFOLD, shuffle=False, random_state=SEED)"
   ]
  },
  {
   "cell_type": "code",
   "execution_count": null,
   "metadata": {
    "collapsed": true
   },
   "outputs": [],
   "source": [
    "from sklearn.ensemble import RandomForestClassifier # actually SVC here scores similarly\n",
    "\n",
    "model_cls = RandomizedSearchCV(estimator=RandomForestClassifier(\n",
    "    class_weight={0: 1., 1:1./(sum(cassification_ismetal)/len(df))}), \n",
    "                           random_state=SEED,\n",
    "                           param_distributions=rf_params_dict,\n",
    "                           n_iter=50,\n",
    "                           scoring='roc_auc',\n",
    "                           cv=cv,\n",
    "                           verbose=1,\n",
    "                           n_jobs=N_JOBS)\n",
    "# with open(os.path.join(CALC_DIR, 'classifier_optimized.pickle'), 'rb') as fm:\n",
    "#     model_cls = pickle.load(fm)"
   ]
  },
  {
   "cell_type": "code",
   "execution_count": null,
   "metadata": {},
   "outputs": [
    {
     "name": "stdout",
     "output_type": "stream",
     "text": [
      "Fitting 5 folds for each of 50 candidates, totalling 250 fits\n"
     ]
    },
    {
     "name": "stderr",
     "output_type": "stream",
     "text": [
      "[Parallel(n_jobs=4)]: Done  42 tasks      | elapsed:  2.2min\n"
     ]
    }
   ],
   "source": [
    "model_cls.fit(X_train, y_train)\n",
    "with open(os.path.join(CALC_DIR, 'classifier_optimized.pickle'), 'wb') as fm:\n",
    "    pickle.dump(model_cls, fm)"
   ]
  },
  {
   "cell_type": "code",
   "execution_count": null,
   "metadata": {},
   "outputs": [],
   "source": [
    "model_cls.score(X_test, y_test)"
   ]
  },
  {
   "cell_type": "code",
   "execution_count": null,
   "metadata": {},
   "outputs": [],
   "source": [
    "from sklearn.model_selection import cross_val_score\n",
    "\n",
    "model_cv3 = RandomForestClassifier(**model_cls.best_params_, n_jobs=N_JOBS)\n",
    "\n",
    "rmse_scores = [np.sqrt(abs(score)) for score in cross_val_score(model_cv3, df_reduced, cassification_ismetal, scoring='roc_auc', cv=cv)]\n",
    "print('{}-fold cross-validation scores for the classification (metal/nonmetal) model'.format(NFOLD))\n",
    "print('ROC_AUC: {0:.4f} +- {1:.4f}'.format(np.mean(rmse_scores), np.std(rmse_scores)))"
   ]
  },
  {
   "cell_type": "code",
   "execution_count": null,
   "metadata": {
    "collapsed": true
   },
   "outputs": [],
   "source": [
    "from sklearn.metrics import confusion_matrix\n",
    "from collections import Counter\n",
    "# y_pred = model_cls.predict(X_test)\n",
    "y_pred = list(map(int, model_cls.predict_proba(X_test)[:, 1] > 0.55)) # if .8, we only throw away 3.6% of the data as metal\n",
    "cm = confusion_matrix(y_test, y_pred)/np.array([Counter(y_pred)[0], Counter(y_pred)[1]])"
   ]
  },
  {
   "cell_type": "code",
   "execution_count": null,
   "metadata": {},
   "outputs": [],
   "source": [
    "ax = sns.heatmap(cm, annot=True, cmap='Blues', fmt='.3f');\n",
    "ax.set_xlabel('Predicted');\n",
    "ax.set_ylabel('True'); \n",
    "ax.set_title('Confusion Matrix'); \n",
    "ax.xaxis.set_ticklabels(['nonmetal', 'metal']); \n",
    "ax.yaxis.set_ticklabels(['nonmetal', 'metal']);"
   ]
  },
  {
   "cell_type": "code",
   "execution_count": null,
   "metadata": {
    "collapsed": true
   },
   "outputs": [],
   "source": [
    "from sklearn.metrics import roc_curve, roc_auc_score\n",
    "y_pred_proba = model_cls.predict_proba(X_test)[:, 1]\n",
    "fpr, tpr, threshold = roc_curve(y_test, y_pred_proba, pos_label=1, drop_intermediate=True)"
   ]
  },
  {
   "cell_type": "code",
   "execution_count": null,
   "metadata": {},
   "outputs": [],
   "source": [
    "plt.plot(fpr, tpr);\n",
    "plt.plot([0., 1.], [0., 1.], 'r--')\n",
    "plt.title('ROC, AUC={0:.3f}'.format(roc_auc_score(y_test, y_pred_proba)))\n",
    "plt.xlabel('False positive rate')\n",
    "plt.ylabel('True positive rate')"
   ]
  },
  {
   "cell_type": "code",
   "execution_count": null,
   "metadata": {},
   "outputs": [],
   "source": [
    "df[TARGET].hist(bins=50)\n",
    "plt.xlim([0, 0.9])"
   ]
  },
  {
   "cell_type": "markdown",
   "metadata": {},
   "source": [
    "## Metal vs. low-gap semiconductor vs. semiconductor vs. insulator classifier"
   ]
  },
  {
   "cell_type": "code",
   "execution_count": null,
   "metadata": {
    "collapsed": true
   },
   "outputs": [],
   "source": [
    "thresholds=(-1000, 0.0, 1.5, 1000.0)\n",
    "df['multi_class'] = df[TARGET]\n",
    "for iclass in range(len(thresholds)-1):\n",
    "    df['multi_class'][(df[TARGET]>thresholds[iclass]) & (df[TARGET]<=thresholds[iclass+1])] = iclass\n",
    "\n",
    "df['multi_class'] = df['multi_class'].astype(int)"
   ]
  },
  {
   "cell_type": "code",
   "execution_count": null,
   "metadata": {
    "collapsed": true
   },
   "outputs": [],
   "source": [
    "from sklearn.model_selection import train_test_split\n",
    "X_train, X_test, y_train, y_test = train_test_split(df_reduced, df['multi_class'], test_size=0.2, random_state=SEED)"
   ]
  },
  {
   "cell_type": "code",
   "execution_count": null,
   "metadata": {},
   "outputs": [],
   "source": [
    "y_test.hist();"
   ]
  },
  {
   "cell_type": "code",
   "execution_count": null,
   "metadata": {
    "collapsed": true
   },
   "outputs": [],
   "source": [
    "from sklearn.ensemble import RandomForestClassifier # actually SVC here scores similarly\n",
    "\n",
    "model_multicls = RandomizedSearchCV(estimator=RandomForestClassifier(\n",
    "    class_weight={i:len(df)/sum(df['multi_class']==i) for i in range(len(df['multi_class'].unique()))}), \n",
    "                           random_state=SEED,\n",
    "                           param_distributions=rf_params_dict,\n",
    "                           n_iter=50,\n",
    "                           scoring='f1_weighted',\n",
    "                           cv=cv,\n",
    "                           verbose=1,\n",
    "                           n_jobs=N_JOBS)\n",
    "# with open(os.path.join(CALC_DIR, 'multiclass_classifier_optimized.pickle'), 'rb') as fm:\n",
    "#     model_cls = pickle.load(fm)"
   ]
  },
  {
   "cell_type": "code",
   "execution_count": null,
   "metadata": {},
   "outputs": [],
   "source": [
    "model_multicls.fit(X_train, y_train.values)\n",
    "with open(os.path.join(CALC_DIR, 'multiclass_classifier_optimized.pickle'), 'wb') as fm:\n",
    "    pickle.dump(model_cls, fm)"
   ]
  },
  {
   "cell_type": "code",
   "execution_count": null,
   "metadata": {
    "collapsed": true
   },
   "outputs": [],
   "source": [
    "from sklearn.metrics import confusion_matrix\n",
    "from collections import Counter\n",
    "y_pred = model_multicls.predict(X_test)\n",
    "cm = confusion_matrix(y_test, y_pred)/np.array([Counter(y_pred)[i] for i in range(len(thresholds)-1)])"
   ]
  },
  {
   "cell_type": "code",
   "execution_count": null,
   "metadata": {
    "collapsed": true
   },
   "outputs": [],
   "source": [
    "plt.figure(figsize=(10, 8))\n",
    "ax = sns.heatmap(cm, annot=True, cmap='Blues', fmt='.3f', annot_kws={\"size\": 20});\n",
    "ax.set_xlabel('Predicted');\n",
    "ax.set_ylabel('True'); \n",
    "ax.set_title('Confusion Matrix'); \n",
    "ax.xaxis.set_ticklabels(['insulator', 'semi', 'lowgap', 'metal']); \n",
    "ax.yaxis.set_ticklabels(['insulator', 'semi', 'lowgap', 'metal']);"
   ]
  },
  {
   "cell_type": "markdown",
   "metadata": {},
   "source": [
    "As we see the score of multi-class classification is lower than metal/nonmetal only"
   ]
  },
  {
   "cell_type": "code",
   "execution_count": null,
   "metadata": {
    "collapsed": true
   },
   "outputs": [],
   "source": []
  }
 ],
 "metadata": {
  "kernelspec": {
   "display_name": "Python [conda env:py3]",
   "language": "python",
   "name": "conda-env-py3-py"
  },
  "language_info": {
   "codemirror_mode": {
    "name": "ipython",
    "version": 3
   },
   "file_extension": ".py",
   "mimetype": "text/x-python",
   "name": "python",
   "nbconvert_exporter": "python",
   "pygments_lexer": "ipython3",
   "version": "3.6.1"
  }
 },
 "nbformat": 4,
 "nbformat_minor": 2
}
